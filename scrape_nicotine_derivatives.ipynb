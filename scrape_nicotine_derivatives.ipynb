{
 "cells": [
  {
   "cell_type": "code",
   "execution_count": 69,
   "metadata": {},
   "outputs": [],
   "source": [
    "import requests\n",
    "from bs4 import BeautifulSoup\n",
    "import json\n",
    "import re\n",
    "import csv"
   ]
  },
  {
   "cell_type": "code",
   "execution_count": 70,
   "metadata": {},
   "outputs": [
    {
     "name": "stdout",
     "output_type": "stream",
     "text": [
      "json_ld is a dictionary\n",
      "{\n",
      "  \"@context\": \"http://schema.org\",\n",
      "  \"@type\": \"WebSite\",\n",
      "  \"url\": \"https://cymitquimica.com\",\n",
      "  \"dateModified\": \"2019-02-15T00:00\",\n",
      "  \"image\": \"https://static.cymitquimica.com/public/img/logo-cymit.png\",\n",
      "  \"potentialAction\": {\n",
      "    \"@type\": \"SearchAction\",\n",
      "    \"target\": \"https://cymitquimica.com/search/{search_term_string}/\",\n",
      "    \"query-input\": \"required name=search_term_string\"\n",
      "  },\n",
      "  \"sameAs\": [\n",
      "    \"https://www.facebook.com/cymitquimica/\",\n",
      "    \"https://twitter.com/cymitquimica\",\n",
      "    \"https://es.linkedin.com/company/cymit-quimica-s-l-\",\n",
      "    \"https://www.instagram.com/cymitquimica/\",\n",
      "    \"https://www.pinterest.es/cymit/\",\n",
      "    \"https://cymit.tumblr.com/\"\n",
      "  ]\n",
      "}\n"
     ]
    }
   ],
   "source": [
    "\n",
    "url = \"https://cymitquimica.com/categories/1828/nicotine-and-nicotine-derivatives/?srsltid=AfmBOor5CHkEY17td7i8alPNqfsjPX-VKsd6igxeoJFVzukYf576WD9_&page=\"\n",
    "response = requests.get(url)\n",
    "\n",
    "soup = BeautifulSoup(response.content, 'html.parser')\n",
    "\n",
    "json_ld = None\n",
    "for script in soup.find_all('script', type='application/ld+json'):\n",
    "    try:\n",
    "        json_ld = json.loads(script.string)\n",
    "        break\n",
    "    except json.JSONDecodeError as e:\n",
    "        print(f\"Error decoding JSON: {e}\")\n",
    "        continue\n",
    "\n",
    "if json_ld:\n",
    "    if isinstance(json_ld, dict):\n",
    "        print(\"json_ld is a dictionary\")\n",
    "        print(json.dumps(json_ld, indent=2))\n",
    "    else:\n",
    "        print(f\"Unexpected JSON-LD structure: {type(json_ld)}\")\n",
    "else:\n",
    "    print(\"No valid JSON-LD found\")\n"
   ]
  },
  {
   "cell_type": "code",
   "execution_count": 71,
   "metadata": {},
   "outputs": [],
   "source": [
    "response = requests.get(url)\n",
    "\n",
    "soup = BeautifulSoup(response.text, \"html.parser\")\n",
    "\n",
    "product_links = soup.find_all(\"a\", class_=\"js-product-link\")\n",
    "\n",
    "for link in product_links:\n",
    "    product_url = link.get(\"href\")\n",
    "    if product_url:\n",
    "        print(f\"https://example.com{product_url}\")\n"
   ]
  },
  {
   "cell_type": "code",
   "execution_count": 72,
   "metadata": {},
   "outputs": [],
   "source": [
    "def scrape_page(page_number):\n",
    "    url_new = url + str(page_number)\n",
    "    response = requests.get(url_new)\n",
    "    \n",
    "    if response.status_code == 200:\n",
    "        soup = BeautifulSoup(response.text, \"html.parser\")\n",
    "        product_links = soup.find_all(\"a\", class_=\"js-product-link\")\n",
    "        \n",
    "        for link in product_links:\n",
    "            product_url = link.get(\"href\")\n",
    "            if product_url:\n",
    "                # Extract last part (after the last \"/\")\n",
    "                last_part = product_url.strip(\"/\").split(\"/\")[-1]\n",
    "                second_to_last_part = product_url.strip(\"/\").split(\"/\")[-2]\n",
    "                product_urls.append(last_part)\n",
    "                cas_numbers.append(second_to_last_part)\n",
    "    else:\n",
    "        print(f\"Failed to retrieve page {page_number}\")"
   ]
  },
  {
   "cell_type": "code",
   "execution_count": null,
   "metadata": {},
   "outputs": [
    {
     "name": "stdout",
     "output_type": "stream",
     "text": [
      "Scraping page 1...\n",
      "Scraping page 2...\n",
      "Scraping page 3...\n",
      "Scraping page 4...\n",
      "Scraping page 5...\n",
      "Scraping page 6...\n",
      "Scraping page 7...\n",
      "Scraping page 8...\n",
      "Scraping page 9...\n",
      "Scraping page 10...\n",
      "Scraping page 11...\n",
      "Scraping page 12...\n",
      "Scraping page 13...\n",
      "Number of entries saved in nicotine_derivatives_data.csv: 252\n",
      "Number of CAS numbers: 252\n"
     ]
    }
   ],
   "source": [
    "product_urls = []\n",
    "cas_numbers = []\n",
    "\n",
    "# for page in range(1, 14):\n",
    "#     print(f\"Scraping page {page}...\")\n",
    "#     scrape_page(page)\n",
    "\n",
    "# csv_filename = \"nicotine_derivatives_data.csv\"\n",
    "# with open(csv_filename, mode=\"w\", newline=\"\", encoding=\"utf-8\") as file:\n",
    "#     writer = csv.writer(file)\n",
    "#     writer.writerow([\"product_url\", \"cas_number\"])\n",
    "#     for url, cas in zip(product_urls, cas_numbers):\n",
    "#         writer.writerow([url, cas])\n",
    "\n",
    "# print(f\"Number of entries saved in {csv_filename}: {len(product_urls)}\")\n",
    "# print(f\"Number of CAS numbers: {len(cas_numbers)}\")\n",
    "def contains_uppercase(cas):\n",
    "    return any(c.isupper() for c in cas)\n",
    "\n",
    "for page in range(1, 14):\n",
    "    print(f\"Scraping page {page}...\")\n",
    "    scrape_page(page)\n",
    "\n",
    "csv_filename = \"nicotine_derivatives_data.csv\"\n",
    "with open(csv_filename, mode=\"w\", newline=\"\", encoding=\"utf-8\") as file:\n",
    "    writer = csv.writer(file)\n",
    "    writer.writerow([\"product_url\", \"cas_number\"])\n",
    "    for url, cas in zip(product_urls, cas_numbers):\n",
    "        # Only write the row if the CAS number doesn't contain an uppercase letter\n",
    "        if not contains_uppercase(cas):\n",
    "            writer.writerow([url, cas])\n",
    "\n",
    "print(f\"Number of entries saved in {csv_filename}: {len(product_urls)}\")\n",
    "print(f\"Number of CAS numbers: {len(cas_numbers)}\")"
   ]
  },
  {
   "cell_type": "code",
   "execution_count": 74,
   "metadata": {},
   "outputs": [],
   "source": [
    "from selenium import webdriver\n",
    "from selenium.webdriver.common.by import By\n",
    "from selenium.webdriver.common.keys import Keys\n",
    "from selenium.webdriver.chrome.service import Service\n",
    "from selenium.webdriver.support.ui import WebDriverWait\n",
    "from webdriver_manager.chrome import ChromeDriverManager\n",
    "from selenium.webdriver.support import expected_conditions as EC\n",
    "from selenium.common.exceptions import TimeoutException\n",
    "import pandas as pd\n",
    "from tqdm import tqdm\n",
    "import time\n",
    "from selenium.webdriver.chrome.options import Options\n",
    "\n",
    "options = Options()\n",
    "options.add_argument(\"--headless\")  # Run in headless mode for speed\n",
    "options.add_argument(\"--disable-gpu\")  # Avoid GPU rendering issues\n",
    "options.add_argument(\"--no-sandbox\")\n",
    "driver = webdriver.Chrome(options=options)\n",
    "\n",
    "# Set a page load timeout (e.g., 180 seconds)\n",
    "driver.set_page_load_timeout(180)"
   ]
  },
  {
   "cell_type": "code",
   "execution_count": null,
   "metadata": {},
   "outputs": [],
   "source": [
    "def get_smiles_from_cas(cas_number):\n",
    "    url = f'https://www.1stsci.com/products/{cas_number}?cas={cas_number}'\n",
    "    \n",
    "    for attempt in range(3):\n",
    "        try:\n",
    "            driver.get(url)  # Load the page\n",
    "            smiles_element = WebDriverWait(driver, 10).until(\n",
    "                EC.visibility_of_element_located((By.CLASS_NAME, \"smiles\"))\n",
    "            )\n",
    "            smiles_tag = driver.find_element(By.CLASS_NAME, 'smiles')\n",
    "            smiles = smiles_tag.text\n",
    "            print(f'{cas_number} gives the SMILES: {smiles} and is OK')\n",
    "            # time.sleep(7)\n",
    "            return smiles\n",
    "        except Exception as e:\n",
    "            print(\"Retrying CAS {cas_number}\")\n",
    "            time.sleep(7)\n",
    "    print(f\"FAILED TO RETRIEVE SMILES FOR CAS {cas_number} and is WRONGGGG.\")\n",
    "    return None"
   ]
  },
  {
   "cell_type": "code",
   "execution_count": 87,
   "metadata": {},
   "outputs": [
    {
     "name": "stdout",
     "output_type": "stream",
     "text": [
      "Index(['product_url', 'cas_number'], dtype='object')\n"
     ]
    },
    {
     "name": "stderr",
     "output_type": "stream",
     "text": [
      "  1%|          | 2/252 [00:09<20:20,  4.88s/it]"
     ]
    },
    {
     "name": "stdout",
     "output_type": "stream",
     "text": [
      "494-97-3 gives the SMILES: C1=CN=CC([C@@H]2CCCN2)=C1 and is OK\n"
     ]
    },
    {
     "name": "stderr",
     "output_type": "stream",
     "text": [
      "  1%|          | 3/252 [00:19<29:03,  7.00s/it]"
     ]
    },
    {
     "name": "stdout",
     "output_type": "stream",
     "text": [
      "485-35-8 gives the SMILES: O=C1C=CC=C2[C@H]3CNC[C@H](C3)CN21 and is OK\n"
     ]
    },
    {
     "name": "stderr",
     "output_type": "stream",
     "text": [
      "  2%|▏         | 4/252 [00:28<32:18,  7.82s/it]"
     ]
    },
    {
     "name": "stdout",
     "output_type": "stream",
     "text": [
      "95091-91-1 gives the SMILES: CON(C)C(=O)C1=CC=CN=C1 and is OK\n"
     ]
    },
    {
     "name": "stderr",
     "output_type": "stream",
     "text": [
      "  2%|▏         | 5/252 [00:37<33:06,  8.04s/it]"
     ]
    },
    {
     "name": "stdout",
     "output_type": "stream",
     "text": [
      "6456-44-6 gives the SMILES: CN1C=CC(I)=C(C(N)=O)C1 and is OK\n"
     ]
    },
    {
     "name": "stderr",
     "output_type": "stream",
     "text": [
      "  2%|▏         | 6/252 [00:46<34:05,  8.31s/it]"
     ]
    },
    {
     "name": "stdout",
     "output_type": "stream",
     "text": [
      "532-12-7 gives the SMILES: C1=CN=CC(C2=NCCC2)=C1 and is OK\n"
     ]
    },
    {
     "name": "stderr",
     "output_type": "stream",
     "text": [
      "  3%|▎         | 7/252 [00:55<35:15,  8.63s/it]"
     ]
    },
    {
     "name": "stdout",
     "output_type": "stream",
     "text": [
      "20260-53-1 gives the SMILES: Cl.O=C(Cl)C1=CC=CN=C1 and is OK\n"
     ]
    },
    {
     "name": "stderr",
     "output_type": "stream",
     "text": [
      "  3%|▎         | 8/252 [01:04<35:46,  8.80s/it]"
     ]
    },
    {
     "name": "stdout",
     "output_type": "stream",
     "text": [
      "2743-90-0 gives the SMILES: C1=CCC(C2=CC=CN=C2)NC1 and is OK\n"
     ]
    },
    {
     "name": "stderr",
     "output_type": "stream",
     "text": [
      "  4%|▎         | 9/252 [01:13<35:31,  8.77s/it]"
     ]
    },
    {
     "name": "stdout",
     "output_type": "stream",
     "text": [
      "609-71-2 gives the SMILES: O=C(O)C1=CC=CN=C1O and is OK\n"
     ]
    },
    {
     "name": "stderr",
     "output_type": "stream",
     "text": [
      "  4%|▍         | 10/252 [01:22<35:18,  8.76s/it]"
     ]
    },
    {
     "name": "stdout",
     "output_type": "stream",
     "text": [
      "59288-43-6 gives the SMILES: O=C(O)C1=CN=C([N+](=O)[O-])C(O)=C1 and is OK\n"
     ]
    },
    {
     "name": "stderr",
     "output_type": "stream",
     "text": [
      "  4%|▍         | 11/252 [01:31<35:31,  8.85s/it]"
     ]
    },
    {
     "name": "stdout",
     "output_type": "stream",
     "text": [
      "5470-70-2 gives the SMILES: COC(=O)C1=CC=C(C)N=C1 and is OK\n"
     ]
    },
    {
     "name": "stderr",
     "output_type": "stream",
     "text": [
      "  5%|▍         | 12/252 [01:39<34:48,  8.70s/it]"
     ]
    },
    {
     "name": "stdout",
     "output_type": "stream",
     "text": [
      "3562-11-6 gives the SMILES: O=C(O)C1CCC(C2=CC=CN=C2)N1 and is OK\n"
     ]
    },
    {
     "name": "stderr",
     "output_type": "stream",
     "text": [
      "  5%|▌         | 13/252 [01:48<35:12,  8.84s/it]"
     ]
    },
    {
     "name": "stdout",
     "output_type": "stream",
     "text": [
      "177785-14-7 gives the SMILES: COC(=O)C1=CC=CN=C1CCl and is OK\n"
     ]
    },
    {
     "name": "stderr",
     "output_type": "stream",
     "text": [
      "  6%|▌         | 14/252 [01:57<35:03,  8.84s/it]"
     ]
    },
    {
     "name": "stdout",
     "output_type": "stream",
     "text": [
      "29681-45-6 gives the SMILES: COC(=O)C1=CN=CC(C)=C1 and is OK\n"
     ]
    },
    {
     "name": "stderr",
     "output_type": "stream",
     "text": [
      "  6%|▌         | 15/252 [02:06<34:42,  8.78s/it]"
     ]
    },
    {
     "name": "stdout",
     "output_type": "stream",
     "text": [
      "6960-22-1 gives the SMILES: CC1=CC=C(C(N)=O)C=N1 and is OK\n"
     ]
    },
    {
     "name": "stderr",
     "output_type": "stream",
     "text": [
      "  6%|▋         | 16/252 [02:15<35:20,  8.99s/it]"
     ]
    },
    {
     "name": "stdout",
     "output_type": "stream",
     "text": [
      "1802-30-8 gives the SMILES: O=C(O)C1=CC=C(C2=CC=C(C(=O)O)C=N2)N=C1 and is OK\n"
     ]
    },
    {
     "name": "stderr",
     "output_type": "stream",
     "text": [
      "  7%|▋         | 17/252 [02:24<35:31,  9.07s/it]"
     ]
    },
    {
     "name": "stdout",
     "output_type": "stream",
     "text": [
      "1215721-40-6 gives the SMILES: Cl.ClC1=CC=CC(COC2=CN=CC(N3CCNCC3)=N2)=C1 and is OK\n"
     ]
    },
    {
     "name": "stderr",
     "output_type": "stream",
     "text": [
      "  7%|▋         | 18/252 [02:34<36:16,  9.30s/it]"
     ]
    },
    {
     "name": "stdout",
     "output_type": "stream",
     "text": [
      "132334-98-6 gives the SMILES: CCOC(=O)C1=CC=C(Br)N=C1 and is OK\n"
     ]
    },
    {
     "name": "stderr",
     "output_type": "stream",
     "text": [
      "  8%|▊         | 19/252 [02:44<36:27,  9.39s/it]"
     ]
    },
    {
     "name": "stdout",
     "output_type": "stream",
     "text": [
      "89690-09-5 gives the SMILES: C[NH2+]CCCC[NH3+].[Cl-].[Cl-] and is OK\n"
     ]
    },
    {
     "name": "stderr",
     "output_type": "stream",
     "text": [
      "  8%|▊         | 20/252 [02:54<36:57,  9.56s/it]"
     ]
    },
    {
     "name": "stdout",
     "output_type": "stream",
     "text": [
      "494-52-0 gives the SMILES: C1=CN=CC([C@@H]2CCCCN2)=C1 and is OK\n"
     ]
    },
    {
     "name": "stderr",
     "output_type": "stream",
     "text": [
      "  8%|▊         | 21/252 [03:03<36:35,  9.51s/it]"
     ]
    },
    {
     "name": "stdout",
     "output_type": "stream",
     "text": [
      "98-92-0 gives the SMILES: NC(=O)C1=CC=CN=C1 and is OK\n"
     ]
    },
    {
     "name": "stderr",
     "output_type": "stream",
     "text": [
      "  9%|▊         | 22/252 [03:13<36:29,  9.52s/it]"
     ]
    },
    {
     "name": "stdout",
     "output_type": "stream",
     "text": [
      "6197-39-3 gives the SMILES: COC(=O)C1=CCCNC1.Cl and is OK\n"
     ]
    },
    {
     "name": "stderr",
     "output_type": "stream",
     "text": [
      "  9%|▉         | 23/252 [03:22<36:26,  9.55s/it]"
     ]
    },
    {
     "name": "stdout",
     "output_type": "stream",
     "text": [
      "5398-44-7 gives the SMILES: O=C(O)C1=CC(Cl)=NC(Cl)=C1 and is OK\n"
     ]
    },
    {
     "name": "stderr",
     "output_type": "stream",
     "text": [
      " 10%|▉         | 24/252 [03:32<35:50,  9.43s/it]"
     ]
    },
    {
     "name": "stdout",
     "output_type": "stream",
     "text": [
      "61445-55-4 gives the SMILES: CN(CCCC(=O)O)N=O and is OK\n"
     ]
    },
    {
     "name": "stderr",
     "output_type": "stream",
     "text": [
      " 10%|▉         | 25/252 [03:41<35:14,  9.32s/it]"
     ]
    },
    {
     "name": "stdout",
     "output_type": "stream",
     "text": [
      "5006-66-6 gives the SMILES: O=C(O)C1=CNC(=O)C=C1 and is OK\n"
     ]
    },
    {
     "name": "stderr",
     "output_type": "stream",
     "text": [
      " 10%|█         | 26/252 [03:50<34:42,  9.21s/it]"
     ]
    },
    {
     "name": "stdout",
     "output_type": "stream",
     "text": [
      "5746-86-1 gives the SMILES: C1=CN=CC(C2CCCN2)=C1 and is OK\n"
     ]
    },
    {
     "name": "stderr",
     "output_type": "stream",
     "text": [
      " 11%|█         | 27/252 [03:58<33:59,  9.06s/it]"
     ]
    },
    {
     "name": "stdout",
     "output_type": "stream",
     "text": [
      "38496-18-3 gives the SMILES: O=C(O)C1=CC=C(Cl)N=C1Cl and is OK\n"
     ]
    },
    {
     "name": "stderr",
     "output_type": "stream",
     "text": [
      " 11%|█         | 28/252 [04:07<33:30,  8.97s/it]"
     ]
    },
    {
     "name": "stdout",
     "output_type": "stream",
     "text": [
      "39178-35-3 gives the SMILES: Cl.O=C(Cl)C1=CC=NC=C1 and is OK\n"
     ]
    },
    {
     "name": "stderr",
     "output_type": "stream",
     "text": [
      " 12%|█▏        | 29/252 [04:16<32:50,  8.83s/it]"
     ]
    },
    {
     "name": "stdout",
     "output_type": "stream",
     "text": [
      "129747-52-0 gives the SMILES: COC(=O)C1=CC(CO)=CN=C1 and is OK\n"
     ]
    },
    {
     "name": "stderr",
     "output_type": "stream",
     "text": [
      " 12%|█▏        | 30/252 [04:24<32:23,  8.75s/it]"
     ]
    },
    {
     "name": "stdout",
     "output_type": "stream",
     "text": [
      "38806-38-1 gives the SMILES: NC(=O)C1=C[N+]([C@@H]2O[C@H](COP(=O)([O-])OP(=O)(O)OC[C@H]3O[C@@H](N4C=NC5=C4N=CN4C=CN=C54)[C@H](O)[C@@H]3O)[C@@H](O)[C@H]2O)=CC=C1 and is OK\n"
     ]
    },
    {
     "name": "stderr",
     "output_type": "stream",
     "text": [
      " 12%|█▏        | 31/252 [04:33<32:21,  8.79s/it]"
     ]
    },
    {
     "name": "stdout",
     "output_type": "stream",
     "text": [
      "64091-91-4 gives the SMILES: CN(CCCC(=O)C1=CC=CN=C1)N=O and is OK\n"
     ]
    },
    {
     "name": "stderr",
     "output_type": "stream",
     "text": [
      " 13%|█▎        | 32/252 [04:42<32:22,  8.83s/it]"
     ]
    },
    {
     "name": "stdout",
     "output_type": "stream",
     "text": [
      "486-56-6 gives the SMILES: CN1C(=O)CC[C@H]1C1=CC=CN=C1 and is OK\n"
     ]
    },
    {
     "name": "stderr",
     "output_type": "stream",
     "text": [
      " 13%|█▎        | 33/252 [04:52<33:12,  9.10s/it]"
     ]
    },
    {
     "name": "stdout",
     "output_type": "stream",
     "text": [
      "1094-61-7 gives the SMILES: NC(=O)C1=C[N+]([C@@H]2O[C@H](COP(=O)([O-])O)[C@@H](O)[C@H]2O)=CC=C1 and is OK\n"
     ]
    },
    {
     "name": "stderr",
     "output_type": "stream",
     "text": [
      " 13%|█▎        | 34/252 [05:01<33:42,  9.28s/it]"
     ]
    },
    {
     "name": "stdout",
     "output_type": "stream",
     "text": [
      "27828-71-3 gives the SMILES: O=C(O)C1=CC(O)=CN=C1 and is OK\n"
     ]
    },
    {
     "name": "stderr",
     "output_type": "stream",
     "text": [
      " 14%|█▍        | 35/252 [05:12<34:44,  9.61s/it]"
     ]
    },
    {
     "name": "stdout",
     "output_type": "stream",
     "text": [
      "78348-28-4 gives the SMILES: O=C(ON1C(=O)CCC1=O)C1=CC=CN=C1 and is OK\n"
     ]
    },
    {
     "name": "stderr",
     "output_type": "stream",
     "text": [
      " 14%|█▍        | 36/252 [05:21<33:51,  9.41s/it]"
     ]
    },
    {
     "name": "stdout",
     "output_type": "stream",
     "text": [
      "66093-90-1 gives the SMILES: C[NH2+]CCCC(=O)C1=CC=C[NH+]=C1.[Cl-].[Cl-] and is OK\n"
     ]
    },
    {
     "name": "stderr",
     "output_type": "stream",
     "text": [
      " 15%|█▍        | 37/252 [05:30<33:34,  9.37s/it]"
     ]
    },
    {
     "name": "stdout",
     "output_type": "stream",
     "text": [
      "1364663-27-3 gives the SMILES: COC(=O)C1=CN=C(Br)C=C1Br and is OK\n"
     ]
    },
    {
     "name": "stderr",
     "output_type": "stream",
     "text": [
      " 15%|█▌        | 38/252 [05:39<33:28,  9.39s/it]"
     ]
    },
    {
     "name": "stdout",
     "output_type": "stream",
     "text": [
      "13190-97-1 gives the SMILES: CC(C)=CCC/C(C)=C/CC/C(C)=C/CC/C(C)=C/CC/C(C)=C/CC/C(C)=C/CC/C(C)=C/CC/C(C)=C/CC/C(C)=C/CO and is OK\n"
     ]
    },
    {
     "name": "stderr",
     "output_type": "stream",
     "text": [
      " 15%|█▌        | 39/252 [05:50<34:35,  9.75s/it]"
     ]
    },
    {
     "name": "stdout",
     "output_type": "stream",
     "text": [
      "3222-56-8 gives the SMILES: CC1=NC=CC=C1C(=O)O and is OK\n"
     ]
    },
    {
     "name": "stderr",
     "output_type": "stream",
     "text": [
      " 16%|█▌        | 40/252 [05:59<33:24,  9.46s/it]"
     ]
    },
    {
     "name": "stdout",
     "output_type": "stream",
     "text": [
      "1986-81-8 gives the SMILES: NC(=O)C1=C[N+]([O-])=CC=C1 and is OK\n"
     ]
    },
    {
     "name": "stderr",
     "output_type": "stream",
     "text": [
      " 16%|█▋        | 41/252 [06:10<35:28, 10.09s/it]"
     ]
    },
    {
     "name": "stdout",
     "output_type": "stream",
     "text": [
      "90872-72-3 gives the SMILES: CC1=CC=C(C2CCCN2)C=N1 and is OK\n"
     ]
    },
    {
     "name": "stderr",
     "output_type": "stream",
     "text": [
      " 17%|█▋        | 42/252 [06:19<33:57,  9.70s/it]"
     ]
    },
    {
     "name": "stdout",
     "output_type": "stream",
     "text": [
      "59578-62-0 gives the SMILES: O=C(CCCO)C1=CC=CN=C1 and is OK\n"
     ]
    },
    {
     "name": "stderr",
     "output_type": "stream",
     "text": [
      " 17%|█▋        | 43/252 [06:28<32:50,  9.43s/it]"
     ]
    },
    {
     "name": "stdout",
     "output_type": "stream",
     "text": [
      "2047-49-6 gives the SMILES: O=C(O)C1=CN=CC([N+](=O)[O-])=C1 and is OK\n"
     ]
    },
    {
     "name": "stderr",
     "output_type": "stream",
     "text": [
      " 17%|█▋        | 44/252 [06:36<31:46,  9.16s/it]"
     ]
    },
    {
     "name": "stdout",
     "output_type": "stream",
     "text": [
      "6311-35-9 gives the SMILES: O=C(O)C1=CC=C(Br)N=C1 and is OK\n"
     ]
    },
    {
     "name": "stderr",
     "output_type": "stream",
     "text": [
      " 18%|█▊        | 45/252 [06:46<32:13,  9.34s/it]"
     ]
    },
    {
     "name": "stdout",
     "output_type": "stream",
     "text": [
      "499-81-0 gives the SMILES: O=C(O)C1=CN=CC(C(=O)O)=C1 and is OK\n"
     ]
    },
    {
     "name": "stderr",
     "output_type": "stream",
     "text": [
      " 18%|█▊        | 46/252 [06:55<31:44,  9.24s/it]"
     ]
    },
    {
     "name": "stdout",
     "output_type": "stream",
     "text": [
      "7076-23-5 gives the SMILES: C1=CN=CC([C@H]2CCCN2)=C1 and is OK\n"
     ]
    },
    {
     "name": "stderr",
     "output_type": "stream",
     "text": [
      " 19%|█▊        | 47/252 [07:04<31:39,  9.26s/it]"
     ]
    },
    {
     "name": "stdout",
     "output_type": "stream",
     "text": [
      "614-00-6 gives the SMILES: CN(N=O)C1=CC=CC=C1 and is OK\n"
     ]
    },
    {
     "name": "stderr",
     "output_type": "stream",
     "text": [
      " 19%|█▉        | 48/252 [07:18<35:24, 10.41s/it]"
     ]
    },
    {
     "name": "stdout",
     "output_type": "stream",
     "text": [
      "2004-06-0 gives the SMILES: OC[C@H]1OC(N2C=NC3=C2N=CN=C3Cl)[C@H](O)[C@@H]1O and is OK\n"
     ]
    },
    {
     "name": "stderr",
     "output_type": "stream",
     "text": [
      " 19%|█▉        | 49/252 [07:28<35:39, 10.54s/it]"
     ]
    },
    {
     "name": "stdout",
     "output_type": "stream",
     "text": [
      "27247-34-3 gives the SMILES: [O-]C(=O)c1cc(cnc1)C(=O)OC.[K+] and is OK\n"
     ]
    },
    {
     "name": "stderr",
     "output_type": "stream",
     "text": [
      " 20%|█▉        | 50/252 [07:39<35:10, 10.45s/it]"
     ]
    },
    {
     "name": "stdout",
     "output_type": "stream",
     "text": [
      "3569-99-1 gives the SMILES: O=C(NCO)C1=CC=CN=C1 and is OK\n"
     ]
    },
    {
     "name": "stderr",
     "output_type": "stream",
     "text": [
      " 20%|██        | 51/252 [07:48<33:58, 10.14s/it]"
     ]
    },
    {
     "name": "stdout",
     "output_type": "stream",
     "text": [
      "3222-47-7 gives the SMILES: CC1=CC=C(C(=O)O)C=N1 and is OK\n"
     ]
    },
    {
     "name": "stderr",
     "output_type": "stream",
     "text": [
      " 21%|██        | 52/252 [07:57<33:02,  9.91s/it]"
     ]
    },
    {
     "name": "stdout",
     "output_type": "stream",
     "text": [
      "321-02-8 gives the SMILES: O=C([O-])C1=C[N+]([C@@H]2O[C@H](COP(=O)(O)O)[C@@H](O)[C@H]2O)=CC=C1 and is OK\n"
     ]
    },
    {
     "name": "stderr",
     "output_type": "stream",
     "text": [
      " 21%|██        | 53/252 [08:07<32:11,  9.71s/it]"
     ]
    },
    {
     "name": "stdout",
     "output_type": "stream",
     "text": [
      "13078-04-1 gives the SMILES: C1=CN=CC(C2CCCCN2)=C1 and is OK\n"
     ]
    },
    {
     "name": "stderr",
     "output_type": "stream",
     "text": [
      " 21%|██▏       | 54/252 [08:16<31:29,  9.54s/it]"
     ]
    },
    {
     "name": "stdout",
     "output_type": "stream",
     "text": [
      "1314217-69-0 gives the SMILES: CC1=CC(C2=NC(CN3CCNCC3)=NO2)=CC2=C1C(=O)N(CC1=CC=C(OC(F)(F)F)C=C1)C2.CS(=O)(=O)O and is OK\n"
     ]
    },
    {
     "name": "stderr",
     "output_type": "stream",
     "text": [
      " 22%|██▏       | 55/252 [08:25<30:58,  9.44s/it]"
     ]
    },
    {
     "name": "stdout",
     "output_type": "stream",
     "text": [
      "4314-66-3 gives the SMILES: CCNC(=O)C1=CC=CN=C1 and is OK\n"
     ]
    },
    {
     "name": "stderr",
     "output_type": "stream",
     "text": [
      " 22%|██▏       | 56/252 [08:35<30:54,  9.46s/it]"
     ]
    },
    {
     "name": "stdout",
     "output_type": "stream",
     "text": [
      "5176-27-2 gives the SMILES: CC(C)(C)OC(=O)N1C=CC=C1 and is OK\n"
     ]
    },
    {
     "name": "stderr",
     "output_type": "stream",
     "text": [
      " 23%|██▎       | 57/252 [08:44<30:42,  9.45s/it]"
     ]
    },
    {
     "name": "stdout",
     "output_type": "stream",
     "text": [
      "924-16-3 gives the SMILES: CCCCN(CCCC)N=O and is OK\n",
      "Retrying\n",
      "Retrying\n",
      "Retrying\n"
     ]
    },
    {
     "name": "stderr",
     "output_type": "stream",
     "text": [
      " 23%|██▎       | 58/252 [09:48<1:23:02, 25.68s/it]"
     ]
    },
    {
     "name": "stdout",
     "output_type": "stream",
     "text": [
      "FAILED TO RETRIEVE SMILES FOR CAS 4Z-N-0626 and is WRONGGGG.\n",
      "Retrying\n"
     ]
    },
    {
     "name": "stderr",
     "output_type": "stream",
     "text": [
      " 23%|██▎       | 59/252 [10:23<1:31:59, 28.60s/it]"
     ]
    },
    {
     "name": "stdout",
     "output_type": "stream",
     "text": [
      "1207384-47-1 gives the SMILES: [2H]C([2H])([2H])N1C=CC(=O)C(C(N)=O)=C1 and is OK\n"
     ]
    },
    {
     "name": "stderr",
     "output_type": "stream",
     "text": [
      " 24%|██▍       | 60/252 [10:32<1:12:29, 22.65s/it]"
     ]
    },
    {
     "name": "stdout",
     "output_type": "stream",
     "text": [
      "51095-86-4 gives the SMILES: C[N@+]1([O-])CCC[C@H]1C1=CC=CN=C1 and is OK\n",
      "Retrying\n",
      "Retrying\n",
      "Retrying\n"
     ]
    },
    {
     "name": "stderr",
     "output_type": "stream",
     "text": [
      " 24%|██▍       | 61/252 [11:38<1:53:27, 35.64s/it]"
     ]
    },
    {
     "name": "stdout",
     "output_type": "stream",
     "text": [
      "FAILED TO RETRIEVE SMILES FOR CAS 51020-67-8 and is WRONGGGG.\n",
      "Retrying\n"
     ]
    },
    {
     "name": "stderr",
     "output_type": "stream",
     "text": [
      " 25%|██▍       | 62/252 [12:22<2:01:05, 38.24s/it]"
     ]
    },
    {
     "name": "stdout",
     "output_type": "stream",
     "text": [
      "1216737-36-8 gives the SMILES: [2H]C1=NC([2H])=C(C(=O)NCC(=O)O)C([2H])=C1[2H] and is OK\n"
     ]
    },
    {
     "name": "stderr",
     "output_type": "stream",
     "text": [
      " 25%|██▌       | 63/252 [12:33<1:34:46, 30.09s/it]"
     ]
    },
    {
     "name": "stdout",
     "output_type": "stream",
     "text": [
      "5654-86-4 gives the SMILES: CC(CC1NC(=O)C2N(C1=O)CCC2)C and is OK\n",
      "Retrying\n",
      "Retrying\n",
      "Retrying\n"
     ]
    },
    {
     "name": "stderr",
     "output_type": "stream",
     "text": [
      " 25%|██▌       | 64/252 [13:37<2:06:07, 40.25s/it]"
     ]
    },
    {
     "name": "stdout",
     "output_type": "stream",
     "text": [
      "FAILED TO RETRIEVE SMILES FOR CAS 491-26-9 and is WRONGGGG.\n",
      "Retrying\n",
      "Retrying\n",
      "Retrying\n"
     ]
    },
    {
     "name": "stderr",
     "output_type": "stream",
     "text": [
      " 26%|██▌       | 65/252 [14:42<2:28:32, 47.66s/it]"
     ]
    },
    {
     "name": "stdout",
     "output_type": "stream",
     "text": [
      "FAILED TO RETRIEVE SMILES FOR CAS 63551-14-4 and is WRONGGGG.\n",
      "Retrying\n",
      "Retrying\n",
      "Retrying\n"
     ]
    },
    {
     "name": "stderr",
     "output_type": "stream",
     "text": [
      " 26%|██▌       | 66/252 [15:50<2:46:49, 53.82s/it]"
     ]
    },
    {
     "name": "stdout",
     "output_type": "stream",
     "text": [
      "FAILED TO RETRIEVE SMILES FOR CAS 491-26-9 and is WRONGGGG.\n"
     ]
    },
    {
     "name": "stderr",
     "output_type": "stream",
     "text": [
      " 27%|██▋       | 67/252 [16:00<2:04:52, 40.50s/it]"
     ]
    },
    {
     "name": "stdout",
     "output_type": "stream",
     "text": [
      "3612-80-4 gives the SMILES: O=C(OCCO)C1=CC=CN=C1 and is OK\n"
     ]
    },
    {
     "name": "stderr",
     "output_type": "stream",
     "text": [
      " 27%|██▋       | 68/252 [16:08<1:34:21, 30.77s/it]"
     ]
    },
    {
     "name": "stdout",
     "output_type": "stream",
     "text": [
      "54-11-5 gives the SMILES: CN1CCC[C@H]1C1=CC=CN=C1 and is OK\n"
     ]
    },
    {
     "name": "stderr",
     "output_type": "stream",
     "text": [
      " 27%|██▋       | 69/252 [16:15<1:12:29, 23.77s/it]"
     ]
    },
    {
     "name": "stdout",
     "output_type": "stream",
     "text": [
      "2743-90-0 gives the SMILES: C1=CCC(C2=CC=CN=C2)NC1 and is OK\n"
     ]
    },
    {
     "name": "stderr",
     "output_type": "stream",
     "text": [
      " 28%|██▊       | 70/252 [16:22<57:13, 18.86s/it]  "
     ]
    },
    {
     "name": "stdout",
     "output_type": "stream",
     "text": [
      "532-12-7 gives the SMILES: C1=CN=CC(C2=NCCC2)=C1 and is OK\n"
     ]
    },
    {
     "name": "stderr",
     "output_type": "stream",
     "text": [
      " 28%|██▊       | 71/252 [16:30<46:41, 15.48s/it]"
     ]
    },
    {
     "name": "stdout",
     "output_type": "stream",
     "text": [
      "3719-45-7 gives the SMILES: CN1C=C(C(=O)O)C=CC1=O and is OK\n"
     ]
    },
    {
     "name": "stderr",
     "output_type": "stream",
     "text": [
      " 29%|██▊       | 72/252 [16:38<39:52, 13.29s/it]"
     ]
    },
    {
     "name": "stdout",
     "output_type": "stream",
     "text": [
      "701-44-0 gives the SMILES: CN1C=C(C(N)=O)C=CC1=O and is OK\n"
     ]
    },
    {
     "name": "stderr",
     "output_type": "stream",
     "text": [
      " 29%|██▉       | 73/252 [16:46<34:52, 11.69s/it]"
     ]
    },
    {
     "name": "stdout",
     "output_type": "stream",
     "text": [
      "66148-19-4 gives the SMILES: [2H]C1=NC([2H])=C(C2CCCN2N=O)C([2H])=C1[2H] and is OK\n"
     ]
    },
    {
     "name": "stderr",
     "output_type": "stream",
     "text": [
      " 29%|██▉       | 74/252 [16:55<31:42, 10.69s/it]"
     ]
    },
    {
     "name": "stdout",
     "output_type": "stream",
     "text": [
      "1219805-86-3 gives the SMILES: [2H]C1=C([2H])C([2H])=C(C2CCCN2C([2H])([2H])[2H])C([2H])=N1 and is OK\n"
     ]
    },
    {
     "name": "stderr",
     "output_type": "stream",
     "text": [
      " 30%|██▉       | 75/252 [17:03<29:11,  9.90s/it]"
     ]
    },
    {
     "name": "stdout",
     "output_type": "stream",
     "text": [
      "69980-24-1 gives the SMILES: [2H]C([2H])([2H])N1CCCC1C1=CC=CN=C1 and is OK\n"
     ]
    },
    {
     "name": "stderr",
     "output_type": "stream",
     "text": [
      " 30%|███       | 76/252 [17:09<26:14,  8.95s/it]"
     ]
    },
    {
     "name": "stdout",
     "output_type": "stream",
     "text": [
      "501-81-5 gives the SMILES: O=C(O)CC1=CC=CN=C1 and is OK\n"
     ]
    },
    {
     "name": "stderr",
     "output_type": "stream",
     "text": [
      " 31%|███       | 77/252 [17:18<25:31,  8.75s/it]"
     ]
    },
    {
     "name": "stdout",
     "output_type": "stream",
     "text": [
      "769-49-3 gives the SMILES: CN1C=CC(=O)C(C(N)=O)=C1 and is OK\n"
     ]
    },
    {
     "name": "stderr",
     "output_type": "stream",
     "text": [
      " 31%|███       | 78/252 [17:25<23:55,  8.25s/it]"
     ]
    },
    {
     "name": "stdout",
     "output_type": "stream",
     "text": [
      "5746-86-1 gives the SMILES: C1=CN=CC(C2CCCN2)=C1 and is OK\n"
     ]
    },
    {
     "name": "stderr",
     "output_type": "stream",
     "text": [
      " 31%|███▏      | 79/252 [17:32<22:43,  7.88s/it]"
     ]
    },
    {
     "name": "stdout",
     "output_type": "stream",
     "text": [
      "1207384-48-2 gives the SMILES: [2H]C([2H])([2H])N1C=C(C(N)=O)C=CC1=O and is OK\n"
     ]
    },
    {
     "name": "stderr",
     "output_type": "stream",
     "text": [
      " 32%|███▏      | 80/252 [17:40<22:40,  7.91s/it]"
     ]
    },
    {
     "name": "stdout",
     "output_type": "stream",
     "text": [
      "350818-69-8 gives the SMILES: [2H]C1=C([2H])C([2H])=C(C2CCCN2C)C([2H])=N1 and is OK\n"
     ]
    },
    {
     "name": "stderr",
     "output_type": "stream",
     "text": [
      " 32%|███▏      | 81/252 [17:48<22:46,  7.99s/it]"
     ]
    },
    {
     "name": "stdout",
     "output_type": "stream",
     "text": [
      "59-67-6 gives the SMILES: O=C(O)C1=CC=CN=C1 and is OK\n"
     ]
    },
    {
     "name": "stderr",
     "output_type": "stream",
     "text": [
      " 33%|███▎      | 82/252 [17:56<22:56,  8.10s/it]"
     ]
    },
    {
     "name": "stdout",
     "output_type": "stream",
     "text": [
      "487-19-4 gives the SMILES: CN1C=CC=C1C1=CC=CN=C1 and is OK\n"
     ]
    },
    {
     "name": "stderr",
     "output_type": "stream",
     "text": [
      " 33%|███▎      | 83/252 [18:05<23:22,  8.30s/it]"
     ]
    },
    {
     "name": "stdout",
     "output_type": "stream",
     "text": [
      "66148-15-0 gives the SMILES: [2H]C1=NC([2H])=C(C(=O)O)C([2H])=C1[2H] and is OK\n"
     ]
    },
    {
     "name": "stderr",
     "output_type": "stream",
     "text": [
      " 33%|███▎      | 84/252 [18:13<22:57,  8.20s/it]"
     ]
    },
    {
     "name": "stdout",
     "output_type": "stream",
     "text": [
      "94-44-0 gives the SMILES: O=C(OCC1=CC=CC=C1)C1=CC=CN=C1 and is OK\n",
      "Retrying\n",
      "Retrying\n",
      "Retrying\n"
     ]
    },
    {
     "name": "stderr",
     "output_type": "stream",
     "text": [
      " 34%|███▎      | 85/252 [19:13<1:06:24, 23.86s/it]"
     ]
    },
    {
     "name": "stdout",
     "output_type": "stream",
     "text": [
      "FAILED TO RETRIEVE SMILES FOR CAS 65550-28-9 and is WRONGGGG.\n"
     ]
    },
    {
     "name": "stderr",
     "output_type": "stream",
     "text": [
      " 34%|███▍      | 86/252 [19:36<1:05:16, 23.59s/it]"
     ]
    },
    {
     "name": "stdout",
     "output_type": "stream",
     "text": [
      "1020719-11-2 gives the SMILES: [2H]C1=C([2H])C([2H])=C(C2CC=CCN2)C([2H])=N1 and is OK\n"
     ]
    },
    {
     "name": "stderr",
     "output_type": "stream",
     "text": [
      " 35%|███▍      | 87/252 [19:43<50:31, 18.37s/it]  "
     ]
    },
    {
     "name": "stdout",
     "output_type": "stream",
     "text": [
      "5654-86-4 gives the SMILES: CC(CC1NC(=O)C2N(C1=O)CCC2)C and is OK\n",
      "Retrying\n",
      "Retrying\n",
      "Retrying\n"
     ]
    },
    {
     "name": "stderr",
     "output_type": "stream",
     "text": [
      " 35%|███▍      | 88/252 [26:04<5:47:37, 127.18s/it]"
     ]
    },
    {
     "name": "stdout",
     "output_type": "stream",
     "text": [
      "FAILED TO RETRIEVE SMILES FOR CAS 153536-53-9 and is WRONGGGG.\n",
      "Retrying\n",
      "Retrying\n",
      "Retrying\n"
     ]
    },
    {
     "name": "stderr",
     "output_type": "stream",
     "text": [
      " 35%|███▌      | 89/252 [30:37<7:44:23, 170.94s/it]"
     ]
    },
    {
     "name": "stdout",
     "output_type": "stream",
     "text": [
      "FAILED TO RETRIEVE SMILES FOR CAS 4Z-N-0618 and is WRONGGGG.\n",
      "Retrying\n"
     ]
    },
    {
     "name": "stderr",
     "output_type": "stream",
     "text": [
      " 36%|███▌      | 90/252 [31:10<5:50:24, 129.78s/it]"
     ]
    },
    {
     "name": "stdout",
     "output_type": "stream",
     "text": [
      "138946-42-6 gives the SMILES: [2H]C1=NC(C(=O)O)=C(C(=O)O)C([2H])=C1[2H] and is OK\n"
     ]
    },
    {
     "name": "stderr",
     "output_type": "stream",
     "text": [
      " 36%|███▌      | 91/252 [31:18<4:10:07, 93.21s/it] "
     ]
    },
    {
     "name": "stdout",
     "output_type": "stream",
     "text": [
      "51095-86-4 gives the SMILES: C[N@+]1([O-])CCC[C@H]1C1=CC=CN=C1 and is OK\n"
     ]
    },
    {
     "name": "stderr",
     "output_type": "stream",
     "text": [
      " 37%|███▋      | 92/252 [31:26<3:00:19, 67.62s/it]"
     ]
    },
    {
     "name": "stdout",
     "output_type": "stream",
     "text": [
      "887355-56-8 gives the SMILES: O=CNCCCC(=O)C1=CC=CN=C1 and is OK\n"
     ]
    },
    {
     "name": "stderr",
     "output_type": "stream",
     "text": [
      " 37%|███▋      | 93/252 [31:35<2:12:33, 50.02s/it]"
     ]
    },
    {
     "name": "stdout",
     "output_type": "stream",
     "text": [
      "2743-90-0 gives the SMILES: C1=CCC(C2=CC=CN=C2)NC1 and is OK\n"
     ]
    },
    {
     "name": "stderr",
     "output_type": "stream",
     "text": [
      " 37%|███▋      | 94/252 [31:46<1:40:39, 38.23s/it]"
     ]
    },
    {
     "name": "stdout",
     "output_type": "stream",
     "text": [
      "25162-00-9 gives the SMILES: CN1CCC[C@@H]1C1=CC=CN=C1 and is OK\n"
     ]
    },
    {
     "name": "stderr",
     "output_type": "stream",
     "text": [
      " 38%|███▊      | 95/252 [31:54<1:16:07, 29.09s/it]"
     ]
    },
    {
     "name": "stdout",
     "output_type": "stream",
     "text": [
      "487-19-4 gives the SMILES: CN1C=CC=C1C1=CC=CN=C1 and is OK\n"
     ]
    },
    {
     "name": "stderr",
     "output_type": "stream",
     "text": [
      " 38%|███▊      | 96/252 [32:01<58:21, 22.44s/it]  "
     ]
    },
    {
     "name": "stdout",
     "output_type": "stream",
     "text": [
      "5746-86-1 gives the SMILES: C1=CN=CC(C2CCCN2)=C1 and is OK\n"
     ]
    },
    {
     "name": "stderr",
     "output_type": "stream",
     "text": [
      " 38%|███▊      | 97/252 [32:07<45:51, 17.75s/it]"
     ]
    },
    {
     "name": "stdout",
     "output_type": "stream",
     "text": [
      "532-12-7 gives the SMILES: C1=CN=CC(C2=NCCC2)=C1 and is OK\n"
     ]
    },
    {
     "name": "stderr",
     "output_type": "stream",
     "text": [
      " 39%|███▉      | 98/252 [32:13<36:29, 14.22s/it]"
     ]
    },
    {
     "name": "stdout",
     "output_type": "stream",
     "text": [
      "125630-26-4 gives the SMILES: CN1CCC(C(=O)C2=CC=CN=C2)C1 and is OK\n",
      "Retrying\n",
      "Retrying\n",
      "Retrying\n"
     ]
    },
    {
     "name": "stderr",
     "output_type": "stream",
     "text": [
      " 39%|███▉      | 99/252 [38:34<5:16:56, 124.29s/it]"
     ]
    },
    {
     "name": "stdout",
     "output_type": "stream",
     "text": [
      "FAILED TO RETRIEVE SMILES FOR CAS 491-26-9 and is WRONGGGG.\n",
      "Retrying\n",
      "Retrying\n",
      "Retrying\n"
     ]
    },
    {
     "name": "stderr",
     "output_type": "stream",
     "text": [
      " 40%|███▉      | 100/252 [43:17<7:15:29, 171.90s/it]"
     ]
    },
    {
     "name": "stdout",
     "output_type": "stream",
     "text": [
      "FAILED TO RETRIEVE SMILES FOR CAS 54-11-5 and is WRONGGGG.\n"
     ]
    },
    {
     "name": "stderr",
     "output_type": "stream",
     "text": [
      " 40%|████      | 101/252 [43:26<5:09:24, 122.94s/it]"
     ]
    },
    {
     "name": "stdout",
     "output_type": "stream",
     "text": [
      "494-52-0 gives the SMILES: C1=CN=CC([C@@H]2CCCCN2)=C1 and is OK\n"
     ]
    },
    {
     "name": "stderr",
     "output_type": "stream",
     "text": [
      " 40%|████      | 102/252 [43:34<3:41:17, 88.52s/it] "
     ]
    },
    {
     "name": "stdout",
     "output_type": "stream",
     "text": [
      "494-98-4 gives the SMILES: C1=CN=CC(C2=CC=CN2)=C1 and is OK\n"
     ]
    },
    {
     "name": "stderr",
     "output_type": "stream",
     "text": [
      " 41%|████      | 103/252 [43:42<2:39:25, 64.20s/it]"
     ]
    },
    {
     "name": "stdout",
     "output_type": "stream",
     "text": [
      "16543-55-8 gives the SMILES: O=NN1CCC[C@H]1C1=CC=CN=C1 and is OK\n"
     ]
    },
    {
     "name": "stderr",
     "output_type": "stream",
     "text": [
      " 41%|████▏     | 104/252 [43:50<1:56:55, 47.40s/it]"
     ]
    },
    {
     "name": "stdout",
     "output_type": "stream",
     "text": [
      "2743-90-0 gives the SMILES: C1=CCC(C2=CC=CN=C2)NC1 and is OK\n"
     ]
    },
    {
     "name": "stderr",
     "output_type": "stream",
     "text": [
      " 42%|████▏     | 105/252 [43:58<1:27:23, 35.67s/it]"
     ]
    },
    {
     "name": "stdout",
     "output_type": "stream",
     "text": [
      "51095-86-4 gives the SMILES: C[N@+]1([O-])CCC[C@H]1C1=CC=CN=C1 and is OK\n",
      "Retrying\n",
      "Retrying\n",
      "Retrying\n"
     ]
    },
    {
     "name": "stderr",
     "output_type": "stream",
     "text": [
      " 42%|████▏     | 106/252 [45:02<1:47:10, 44.05s/it]"
     ]
    },
    {
     "name": "stdout",
     "output_type": "stream",
     "text": [
      "FAILED TO RETRIEVE SMILES FOR CAS 2055-29-0 and is WRONGGGG.\n",
      "Retrying\n",
      "Retrying\n",
      "Retrying\n"
     ]
    },
    {
     "name": "stderr",
     "output_type": "stream",
     "text": [
      " 42%|████▏     | 107/252 [46:16<2:08:13, 53.06s/it]"
     ]
    },
    {
     "name": "stdout",
     "output_type": "stream",
     "text": [
      "FAILED TO RETRIEVE SMILES FOR CAS 17708-87-1 and is WRONGGGG.\n"
     ]
    },
    {
     "name": "stderr",
     "output_type": "stream",
     "text": [
      " 43%|████▎     | 108/252 [46:23<1:34:25, 39.34s/it]"
     ]
    },
    {
     "name": "stdout",
     "output_type": "stream",
     "text": [
      "13078-04-1 gives the SMILES: C1=CN=CC(C2CCCCN2)=C1 and is OK\n"
     ]
    },
    {
     "name": "stderr",
     "output_type": "stream",
     "text": [
      " 43%|████▎     | 109/252 [46:31<1:11:13, 29.88s/it]"
     ]
    },
    {
     "name": "stdout",
     "output_type": "stream",
     "text": [
      "66093-90-1 gives the SMILES: C[NH2+]CCCC(=O)C1=CC=C[NH+]=C1.[Cl-].[Cl-] and is OK\n"
     ]
    },
    {
     "name": "stderr",
     "output_type": "stream",
     "text": [
      " 44%|████▎     | 110/252 [46:39<55:19, 23.37s/it]  "
     ]
    },
    {
     "name": "stdout",
     "output_type": "stream",
     "text": [
      "486-56-6 gives the SMILES: CN1C(=O)CC[C@H]1C1=CC=CN=C1 and is OK\n"
     ]
    },
    {
     "name": "stderr",
     "output_type": "stream",
     "text": [
      " 44%|████▍     | 111/252 [46:46<42:51, 18.23s/it]"
     ]
    },
    {
     "name": "stdout",
     "output_type": "stream",
     "text": [
      "73057-36-0 gives the SMILES: CN1CCC[C@H]1c1cccnc1.OC(=O)CC(C(=O)O)O and is OK\n",
      "Retrying\n",
      "Retrying\n",
      "Retrying\n"
     ]
    },
    {
     "name": "stderr",
     "output_type": "stream",
     "text": [
      " 44%|████▍     | 112/252 [47:50<1:14:43, 32.02s/it]"
     ]
    },
    {
     "name": "stdout",
     "output_type": "stream",
     "text": [
      "FAILED TO RETRIEVE SMILES FOR CAS 1824020-12-3 and is WRONGGGG.\n",
      "Retrying\n"
     ]
    },
    {
     "name": "stderr",
     "output_type": "stream",
     "text": [
      " 45%|████▍     | 113/252 [48:24<1:15:44, 32.70s/it]"
     ]
    },
    {
     "name": "stdout",
     "output_type": "stream",
     "text": [
      "494-97-3 gives the SMILES: C1=CN=CC([C@@H]2CCCN2)=C1 and is OK\n"
     ]
    },
    {
     "name": "stderr",
     "output_type": "stream",
     "text": [
      " 45%|████▌     | 114/252 [48:32<58:05, 25.26s/it]  "
     ]
    },
    {
     "name": "stdout",
     "output_type": "stream",
     "text": [
      "1060802-34-7 gives the SMILES: O=CC1=CN=CC(F)=C1Cl and is OK\n"
     ]
    },
    {
     "name": "stderr",
     "output_type": "stream",
     "text": [
      " 46%|████▌     | 115/252 [48:39<45:26, 19.90s/it]"
     ]
    },
    {
     "name": "stdout",
     "output_type": "stream",
     "text": [
      "535-83-1 gives the SMILES: C[N+]1=CC=CC(C(=O)[O-])=C1 and is OK\n"
     ]
    },
    {
     "name": "stderr",
     "output_type": "stream",
     "text": [
      " 46%|████▌     | 116/252 [48:46<36:17, 16.01s/it]"
     ]
    },
    {
     "name": "stdout",
     "output_type": "stream",
     "text": [
      "320386-54-7 gives the SMILES: Cl.O=C(O)C1=NC=CC=C1S and is OK\n"
     ]
    },
    {
     "name": "stderr",
     "output_type": "stream",
     "text": [
      " 46%|████▋     | 117/252 [48:52<29:02, 12.91s/it]"
     ]
    },
    {
     "name": "stdout",
     "output_type": "stream",
     "text": [
      "92761-98-3 gives the SMILES: c1([2H])nc([2H])c(c(c1[C@@H]1CCCN1)[2H])[2H] and is OK\n",
      "Retrying\n",
      "Retrying\n",
      "Retrying\n"
     ]
    },
    {
     "name": "stderr",
     "output_type": "stream",
     "text": [
      " 47%|████▋     | 118/252 [55:13<4:35:29, 123.35s/it]"
     ]
    },
    {
     "name": "stdout",
     "output_type": "stream",
     "text": [
      "FAILED TO RETRIEVE SMILES FOR CAS 15268-31-2 and is WRONGGGG.\n",
      "Retrying\n",
      "Retrying\n",
      "Retrying\n"
     ]
    },
    {
     "name": "stderr",
     "output_type": "stream",
     "text": [
      " 47%|████▋     | 119/252 [59:47<6:13:36, 168.55s/it]"
     ]
    },
    {
     "name": "stdout",
     "output_type": "stream",
     "text": [
      "FAILED TO RETRIEVE SMILES FOR CAS 1393569-52-2 and is WRONGGGG.\n",
      "Retrying\n"
     ]
    },
    {
     "name": "stderr",
     "output_type": "stream",
     "text": [
      " 48%|████▊     | 120/252 [1:00:23<4:43:08, 128.70s/it]"
     ]
    },
    {
     "name": "stdout",
     "output_type": "stream",
     "text": [
      "29790-52-1 gives the SMILES: CN1CCCC1C1=CC=CN=C1.O=C(O)C1=CC=CC=C1O and is OK\n"
     ]
    },
    {
     "name": "stderr",
     "output_type": "stream",
     "text": [
      " 48%|████▊     | 121/252 [1:00:31<3:22:18, 92.66s/it] "
     ]
    },
    {
     "name": "stdout",
     "output_type": "stream",
     "text": [
      "60138-76-3 gives the SMILES: CN(C)C1=NC=CC=C1C#N and is OK\n"
     ]
    },
    {
     "name": "stderr",
     "output_type": "stream",
     "text": [
      " 48%|████▊     | 122/252 [1:00:39<2:25:18, 67.07s/it]"
     ]
    },
    {
     "name": "stdout",
     "output_type": "stream",
     "text": [
      "2873-36-1 gives the SMILES: CC(C)C[C@@H]1NC(=O)[C@@H]2CCCN2C1=O and is OK\n",
      "Retrying\n",
      "Retrying\n",
      "Retrying\n"
     ]
    },
    {
     "name": "stderr",
     "output_type": "stream",
     "text": [
      " 49%|████▉     | 123/252 [1:01:39<2:19:43, 64.99s/it]"
     ]
    },
    {
     "name": "stdout",
     "output_type": "stream",
     "text": [
      "FAILED TO RETRIEVE SMILES FOR CAS 4Z-N-0649 and is WRONGGGG.\n",
      "Retrying\n"
     ]
    },
    {
     "name": "stderr",
     "output_type": "stream",
     "text": [
      " 49%|████▉     | 124/252 [1:02:12<1:58:21, 55.48s/it]"
     ]
    },
    {
     "name": "stdout",
     "output_type": "stream",
     "text": [
      "104809-30-5 gives the SMILES: NC1=NC=NC2=C1N=CN2[C@@H]1O[C@H](COP(=O)([O-])OP(=O)([O-])OC[C@H]2O[C@@H]([N+]3=CC=CC(C(=O)O)=C3)[C@H](O)[C@@H]2O)[C@@H](O)[C@H]1O.[Na+] and is OK\n",
      "Retrying\n",
      "Retrying\n",
      "Retrying\n"
     ]
    },
    {
     "name": "stderr",
     "output_type": "stream",
     "text": [
      " 50%|████▉     | 125/252 [1:03:34<2:14:12, 63.41s/it]"
     ]
    },
    {
     "name": "stdout",
     "output_type": "stream",
     "text": [
      "FAILED TO RETRIEVE SMILES FOR CAS 339155-13-4 and is WRONGGGG.\n"
     ]
    },
    {
     "name": "stderr",
     "output_type": "stream",
     "text": [
      " 50%|█████     | 126/252 [1:03:44<1:39:44, 47.50s/it]"
     ]
    },
    {
     "name": "stdout",
     "output_type": "stream",
     "text": [
      "525-74-6 gives the SMILES: CN1CCC=C1c1cccnc1 and is OK\n"
     ]
    },
    {
     "name": "stderr",
     "output_type": "stream",
     "text": [
      " 50%|█████     | 127/252 [1:03:52<1:14:06, 35.57s/it]"
     ]
    },
    {
     "name": "stdout",
     "output_type": "stream",
     "text": [
      "2873-36-1 gives the SMILES: CC(C)C[C@@H]1NC(=O)[C@@H]2CCCN2C1=O and is OK\n"
     ]
    },
    {
     "name": "stderr",
     "output_type": "stream",
     "text": [
      " 51%|█████     | 128/252 [1:03:59<55:58, 27.09s/it]  "
     ]
    },
    {
     "name": "stdout",
     "output_type": "stream",
     "text": [
      "29681-45-6 gives the SMILES: COC(=O)C1=CN=CC(C)=C1 and is OK\n",
      "Retrying\n",
      "Retrying\n",
      "Retrying\n"
     ]
    },
    {
     "name": "stderr",
     "output_type": "stream",
     "text": [
      " 51%|█████     | 129/252 [1:05:04<1:18:54, 38.49s/it]"
     ]
    },
    {
     "name": "stdout",
     "output_type": "stream",
     "text": [
      "FAILED TO RETRIEVE SMILES FOR CAS 4Z-N-0656 and is WRONGGGG.\n",
      "Retrying\n"
     ]
    },
    {
     "name": "stderr",
     "output_type": "stream",
     "text": [
      " 52%|█████▏    | 130/252 [1:05:42<1:17:44, 38.24s/it]"
     ]
    },
    {
     "name": "stdout",
     "output_type": "stream",
     "text": [
      "3705-26-8 gives the SMILES: O=C1N[C@@H](CC2=CC=CC=C2)C(=O)N2CCC[C@@H]12 and is OK\n"
     ]
    },
    {
     "name": "stderr",
     "output_type": "stream",
     "text": [
      " 52%|█████▏    | 131/252 [1:05:50<58:57, 29.23s/it]  "
     ]
    },
    {
     "name": "stdout",
     "output_type": "stream",
     "text": [
      "39642-60-9 gives the SMILES: OC(=NC1=CC=CN=C1)NC1=CC=CN=C1 and is OK\n"
     ]
    },
    {
     "name": "stderr",
     "output_type": "stream",
     "text": [
      " 52%|█████▏    | 132/252 [1:05:59<46:07, 23.06s/it]"
     ]
    },
    {
     "name": "stdout",
     "output_type": "stream",
     "text": [
      "3222-49-9 gives the SMILES: CC1=CC(C(=O)O)=CN=C1 and is OK\n"
     ]
    },
    {
     "name": "stderr",
     "output_type": "stream",
     "text": [
      " 53%|█████▎    | 133/252 [1:06:08<37:11, 18.75s/it]"
     ]
    },
    {
     "name": "stdout",
     "output_type": "stream",
     "text": [
      "535-83-1 gives the SMILES: C[N+]1=CC=CC(C(=O)[O-])=C1 and is OK\n",
      "Retrying\n",
      "Retrying\n",
      "Retrying\n"
     ]
    },
    {
     "name": "stderr",
     "output_type": "stream",
     "text": [
      " 53%|█████▎    | 134/252 [1:07:13<1:04:24, 32.75s/it]"
     ]
    },
    {
     "name": "stdout",
     "output_type": "stream",
     "text": [
      "FAILED TO RETRIEVE SMILES FOR CAS 75195-76-5 and is WRONGGGG.\n",
      "Retrying\n"
     ]
    },
    {
     "name": "stderr",
     "output_type": "stream",
     "text": [
      " 54%|█████▎    | 135/252 [1:07:49<1:05:48, 33.75s/it]"
     ]
    },
    {
     "name": "stdout",
     "output_type": "stream",
     "text": [
      "21446-46-8 gives the SMILES: CN1CCC[C@H]1C1=CC=C[N+](C)=C1.[I-] and is OK\n"
     ]
    },
    {
     "name": "stderr",
     "output_type": "stream",
     "text": [
      " 54%|█████▍    | 136/252 [1:07:58<50:30, 26.13s/it]  "
     ]
    },
    {
     "name": "stdout",
     "output_type": "stream",
     "text": [
      "6019-06-3 gives the SMILES: CN1CCC[C@H]1C1=CC=CN=C1.O.O.O=C(O)[C@H](O)[C@@H](O)C(=O)O.O=C(O)[C@H](O)[C@@H](O)C(=O)O and is OK\n"
     ]
    },
    {
     "name": "stderr",
     "output_type": "stream",
     "text": [
      " 54%|█████▍    | 137/252 [1:08:06<40:05, 20.92s/it]"
     ]
    },
    {
     "name": "stdout",
     "output_type": "stream",
     "text": [
      "942922-74-9 gives the SMILES: COC(=O)C1=NC=CC(C2=CC=NC(C(=O)OC)=C2)=C1 and is OK\n"
     ]
    },
    {
     "name": "stderr",
     "output_type": "stream",
     "text": [
      " 55%|█████▍    | 138/252 [1:08:15<32:40, 17.20s/it]"
     ]
    },
    {
     "name": "stdout",
     "output_type": "stream",
     "text": [
      "66148-18-3 gives the SMILES: [2H]C1=C([2H])C([2H])=C(C2CCCN2)C([2H])=N1 and is OK\n",
      "Retrying\n",
      "Retrying\n",
      "Retrying\n"
     ]
    },
    {
     "name": "stderr",
     "output_type": "stream",
     "text": [
      " 55%|█████▌    | 139/252 [1:09:19<59:03, 31.36s/it]"
     ]
    },
    {
     "name": "stdout",
     "output_type": "stream",
     "text": [
      "FAILED TO RETRIEVE SMILES FOR CAS 4Z-N-06111 and is WRONGGGG.\n",
      "Retrying\n"
     ]
    },
    {
     "name": "stderr",
     "output_type": "stream",
     "text": [
      " 56%|█████▌    | 140/252 [1:09:56<1:01:28, 32.93s/it]"
     ]
    },
    {
     "name": "stdout",
     "output_type": "stream",
     "text": [
      "2854-40-2 gives the SMILES: CC(C)[C@@H]1NC(=O)[C@@H]2CCCN2C1=O and is OK\n"
     ]
    },
    {
     "name": "stderr",
     "output_type": "stream",
     "text": [
      " 56%|█████▌    | 141/252 [1:10:04<47:21, 25.60s/it]  "
     ]
    },
    {
     "name": "stdout",
     "output_type": "stream",
     "text": [
      "88660-53-1 gives the SMILES: CN1CCC[C@H]1C1=CC=CN=C1.O=C(O)C1=CC=CC=C1 and is OK\n",
      "Retrying\n",
      "Retrying\n",
      "Retrying\n"
     ]
    },
    {
     "name": "stderr",
     "output_type": "stream",
     "text": [
      " 56%|█████▋    | 142/252 [1:11:06<1:06:49, 36.45s/it]"
     ]
    },
    {
     "name": "stdout",
     "output_type": "stream",
     "text": [
      "FAILED TO RETRIEVE SMILES FOR CAS 870975-59-0 and is WRONGGGG.\n",
      "Retrying\n",
      "Retrying\n",
      "Retrying\n"
     ]
    },
    {
     "name": "stderr",
     "output_type": "stream",
     "text": [
      " 57%|█████▋    | 143/252 [1:12:11<1:21:59, 45.13s/it]"
     ]
    },
    {
     "name": "stdout",
     "output_type": "stream",
     "text": [
      "FAILED TO RETRIEVE SMILES FOR CAS 4Z-N-0617 and is WRONGGGG.\n"
     ]
    },
    {
     "name": "stderr",
     "output_type": "stream",
     "text": [
      " 57%|█████▋    | 144/252 [1:12:21<1:01:45, 34.31s/it]"
     ]
    },
    {
     "name": "stdout",
     "output_type": "stream",
     "text": [
      "23950-04-1 gives the SMILES: CN1CCCC1C1=CC=CC=N1 and is OK\n",
      "Retrying\n",
      "Retrying\n",
      "Retrying\n"
     ]
    },
    {
     "name": "stderr",
     "output_type": "stream",
     "text": [
      " 58%|█████▊    | 145/252 [1:13:23<1:16:23, 42.83s/it]"
     ]
    },
    {
     "name": "stdout",
     "output_type": "stream",
     "text": [
      "FAILED TO RETRIEVE SMILES FOR CAS 75195-76-5 and is WRONGGGG.\n"
     ]
    },
    {
     "name": "stderr",
     "output_type": "stream",
     "text": [
      " 58%|█████▊    | 146/252 [1:13:39<1:01:21, 34.74s/it]"
     ]
    },
    {
     "name": "stdout",
     "output_type": "stream",
     "text": [
      "98-98-6 gives the SMILES: O=C(O)C1=CC=CC=N1 and is OK\n"
     ]
    },
    {
     "name": "stderr",
     "output_type": "stream",
     "text": [
      " 58%|█████▊    | 147/252 [1:13:49<47:52, 27.35s/it]  "
     ]
    },
    {
     "name": "stdout",
     "output_type": "stream",
     "text": [
      "3705-26-8 gives the SMILES: O=C1N[C@@H](CC2=CC=CC=C2)C(=O)N2CCC[C@@H]12 and is OK\n"
     ]
    },
    {
     "name": "stderr",
     "output_type": "stream",
     "text": [
      " 59%|█████▊    | 148/252 [1:13:59<38:03, 21.96s/it]"
     ]
    },
    {
     "name": "stdout",
     "output_type": "stream",
     "text": [
      "102074-19-1 gives the SMILES: CC1=CC(CO)=CN=C1 and is OK\n"
     ]
    },
    {
     "name": "stderr",
     "output_type": "stream",
     "text": [
      " 59%|█████▉    | 149/252 [1:14:09<31:33, 18.38s/it]"
     ]
    },
    {
     "name": "stdout",
     "output_type": "stream",
     "text": [
      "1657-32-5 gives the SMILES: NC1=C[N+]([O-])=CC=C1 and is OK\n",
      "Retrying\n",
      "Retrying\n",
      "Retrying\n"
     ]
    },
    {
     "name": "stderr",
     "output_type": "stream",
     "text": [
      " 60%|█████▉    | 150/252 [1:15:11<53:47, 31.64s/it]"
     ]
    },
    {
     "name": "stdout",
     "output_type": "stream",
     "text": [
      "FAILED TO RETRIEVE SMILES FOR CAS 4Z-N-06100 and is WRONGGGG.\n"
     ]
    },
    {
     "name": "stderr",
     "output_type": "stream",
     "text": [
      " 60%|█████▉    | 151/252 [1:15:29<46:02, 27.35s/it]"
     ]
    },
    {
     "name": "stdout",
     "output_type": "stream",
     "text": [
      "1426174-36-8 gives the SMILES: [2H]C1=NC([2H])=C([C@@H]2CCCN2N=O)C([2H])=C1[2H] and is OK\n"
     ]
    },
    {
     "name": "stderr",
     "output_type": "stream",
     "text": [
      " 60%|██████    | 152/252 [1:15:35<35:15, 21.16s/it]"
     ]
    },
    {
     "name": "stdout",
     "output_type": "stream",
     "text": [
      "2854-40-2 gives the SMILES: CC(C)[C@@H]1NC(=O)[C@@H]2CCCN2C1=O and is OK\n"
     ]
    },
    {
     "name": "stderr",
     "output_type": "stream",
     "text": [
      " 61%|██████    | 153/252 [1:15:42<27:43, 16.80s/it]"
     ]
    },
    {
     "name": "stdout",
     "output_type": "stream",
     "text": [
      "535-83-1 gives the SMILES: C[N+]1=CC=CC(C(=O)[O-])=C1 and is OK\n",
      "Retrying\n",
      "Retrying\n",
      "Retrying\n"
     ]
    },
    {
     "name": "stderr",
     "output_type": "stream",
     "text": [
      " 61%|██████    | 154/252 [1:16:46<50:32, 30.94s/it]"
     ]
    },
    {
     "name": "stdout",
     "output_type": "stream",
     "text": [
      "FAILED TO RETRIEVE SMILES FOR CAS 129547-84-8 and is WRONGGGG.\n",
      "Retrying\n",
      "Retrying\n",
      "Retrying\n"
     ]
    },
    {
     "name": "stderr",
     "output_type": "stream",
     "text": [
      " 62%|██████▏   | 155/252 [1:17:54<1:08:11, 42.18s/it]"
     ]
    },
    {
     "name": "stdout",
     "output_type": "stream",
     "text": [
      "FAILED TO RETRIEVE SMILES FOR CAS 1824020-12-3 and is WRONGGGG.\n"
     ]
    },
    {
     "name": "stderr",
     "output_type": "stream",
     "text": [
      " 62%|██████▏   | 156/252 [1:18:03<51:38, 32.28s/it]  "
     ]
    },
    {
     "name": "stdout",
     "output_type": "stream",
     "text": [
      "591-22-0 gives the SMILES: CC1=CN=CC(C)=C1 and is OK\n"
     ]
    },
    {
     "name": "stderr",
     "output_type": "stream",
     "text": [
      " 62%|██████▏   | 157/252 [1:18:11<39:33, 24.98s/it]"
     ]
    },
    {
     "name": "stdout",
     "output_type": "stream",
     "text": [
      "347841-88-7 gives the SMILES: [2H]C1=NC([2H])=C(C(N)=O)C([2H])=C1[2H] and is OK\n",
      "Retrying\n",
      "Retrying\n",
      "Retrying\n"
     ]
    },
    {
     "name": "stderr",
     "output_type": "stream",
     "text": [
      " 63%|██████▎   | 158/252 [1:19:10<54:58, 35.09s/it]"
     ]
    },
    {
     "name": "stdout",
     "output_type": "stream",
     "text": [
      "FAILED TO RETRIEVE SMILES FOR CAS 51020-67-8 and is WRONGGGG.\n",
      "Retrying\n"
     ]
    },
    {
     "name": "stderr",
     "output_type": "stream",
     "text": [
      " 63%|██████▎   | 159/252 [1:19:40<51:48, 33.42s/it]"
     ]
    },
    {
     "name": "stdout",
     "output_type": "stream",
     "text": [
      "1346601-08-8 gives the SMILES: C([2H])(N1CCC(C1)c1cccnc1)([2H])[2H] and is OK\n"
     ]
    },
    {
     "name": "stderr",
     "output_type": "stream",
     "text": [
      " 63%|██████▎   | 160/252 [1:19:51<41:17, 26.93s/it]"
     ]
    },
    {
     "name": "stdout",
     "output_type": "stream",
     "text": [
      "2873-36-1 gives the SMILES: CC(C)C[C@@H]1NC(=O)[C@@H]2CCCN2C1=O and is OK\n"
     ]
    },
    {
     "name": "stderr",
     "output_type": "stream",
     "text": [
      " 64%|██████▍   | 161/252 [1:19:57<31:07, 20.52s/it]"
     ]
    },
    {
     "name": "stdout",
     "output_type": "stream",
     "text": [
      "494-52-0 gives the SMILES: C1=CN=CC([C@@H]2CCCCN2)=C1 and is OK\n"
     ]
    },
    {
     "name": "stderr",
     "output_type": "stream",
     "text": [
      " 64%|██████▍   | 162/252 [1:20:04<24:52, 16.58s/it]"
     ]
    },
    {
     "name": "stdout",
     "output_type": "stream",
     "text": [
      "71267-22-6 gives the SMILES: O=NN1CC=CC[C@H]1C1=CC=CN=C1 and is OK\n"
     ]
    },
    {
     "name": "stderr",
     "output_type": "stream",
     "text": [
      " 65%|██████▍   | 163/252 [1:20:12<20:39, 13.93s/it]"
     ]
    },
    {
     "name": "stdout",
     "output_type": "stream",
     "text": [
      "1207384-48-2 gives the SMILES: [2H]C([2H])([2H])N1C=C(C(N)=O)C=CC1=O and is OK\n"
     ]
    },
    {
     "name": "stderr",
     "output_type": "stream",
     "text": [
      " 65%|██████▌   | 164/252 [1:20:19<17:09, 11.70s/it]"
     ]
    },
    {
     "name": "stdout",
     "output_type": "stream",
     "text": [
      "1020719-70-3 gives the SMILES: [2H]C1=NC([2H])=C(C2CCC(=O)N2)C([2H])=C1[2H] and is OK\n",
      "Retrying\n",
      "Retrying\n",
      "Retrying\n"
     ]
    },
    {
     "name": "stderr",
     "output_type": "stream",
     "text": [
      " 65%|██████▌   | 165/252 [1:21:20<38:42, 26.70s/it]"
     ]
    },
    {
     "name": "stdout",
     "output_type": "stream",
     "text": [
      "FAILED TO RETRIEVE SMILES FOR CAS 1469367-99-4 and is WRONGGGG.\n",
      "Retrying\n"
     ]
    },
    {
     "name": "stderr",
     "output_type": "stream",
     "text": [
      " 66%|██████▌   | 166/252 [1:21:49<39:06, 27.28s/it]"
     ]
    },
    {
     "name": "stdout",
     "output_type": "stream",
     "text": [
      "5746-86-1 gives the SMILES: C1=CN=CC(C2CCCN2)=C1 and is OK\n"
     ]
    },
    {
     "name": "stderr",
     "output_type": "stream",
     "text": [
      " 66%|██████▋   | 167/252 [1:21:57<30:19, 21.40s/it]"
     ]
    },
    {
     "name": "stdout",
     "output_type": "stream",
     "text": [
      "532-12-7 gives the SMILES: C1=CN=CC(C2=NCCC2)=C1 and is OK\n",
      "Retrying\n",
      "Retrying\n",
      "Retrying\n"
     ]
    },
    {
     "name": "stderr",
     "output_type": "stream",
     "text": [
      " 67%|██████▋   | 168/252 [1:22:59<47:00, 33.58s/it]"
     ]
    },
    {
     "name": "stdout",
     "output_type": "stream",
     "text": [
      "FAILED TO RETRIEVE SMILES FOR CAS TR-C725179 and is WRONGGGG.\n",
      "Retrying\n"
     ]
    },
    {
     "name": "stderr",
     "output_type": "stream",
     "text": [
      " 67%|██████▋   | 169/252 [1:23:33<46:46, 33.82s/it]"
     ]
    },
    {
     "name": "stdout",
     "output_type": "stream",
     "text": [
      "350818-69-8 gives the SMILES: [2H]C1=C([2H])C([2H])=C(C2CCCN2C)C([2H])=N1 and is OK\n"
     ]
    },
    {
     "name": "stderr",
     "output_type": "stream",
     "text": [
      " 67%|██████▋   | 170/252 [1:23:43<36:36, 26.79s/it]"
     ]
    },
    {
     "name": "stdout",
     "output_type": "stream",
     "text": [
      "1020719-11-2 gives the SMILES: [2H]C1=C([2H])C([2H])=C(C2CC=CCN2)C([2H])=N1 and is OK\n"
     ]
    },
    {
     "name": "stderr",
     "output_type": "stream",
     "text": [
      " 68%|██████▊   | 171/252 [1:23:53<29:09, 21.60s/it]"
     ]
    },
    {
     "name": "stdout",
     "output_type": "stream",
     "text": [
      "114-33-0 gives the SMILES: CNC(=O)C1=CC=CN=C1 and is OK\n"
     ]
    },
    {
     "name": "stderr",
     "output_type": "stream",
     "text": [
      " 68%|██████▊   | 172/252 [1:23:58<22:21, 16.76s/it]"
     ]
    },
    {
     "name": "stdout",
     "output_type": "stream",
     "text": [
      "1207384-47-1 gives the SMILES: [2H]C([2H])([2H])N1C=CC(=O)C(C(N)=O)=C1 and is OK\n"
     ]
    },
    {
     "name": "stderr",
     "output_type": "stream",
     "text": [
      " 69%|██████▊   | 173/252 [1:24:06<18:32, 14.08s/it]"
     ]
    },
    {
     "name": "stdout",
     "output_type": "stream",
     "text": [
      "494-04-2 gives the SMILES: C1=CN=CC(C2=CC=NC(C3=CC=CN=C3)=C2)=C1 and is OK\n"
     ]
    },
    {
     "name": "stderr",
     "output_type": "stream",
     "text": [
      " 69%|██████▉   | 174/252 [1:24:14<16:02, 12.33s/it]"
     ]
    },
    {
     "name": "stdout",
     "output_type": "stream",
     "text": [
      "34834-67-8 gives the SMILES: CN1C(=O)[C@H](O)C[C@H]1C1=CC=CN=C1 and is OK\n"
     ]
    },
    {
     "name": "stderr",
     "output_type": "stream",
     "text": [
      " 69%|██████▉   | 175/252 [1:24:22<13:52, 10.82s/it]"
     ]
    },
    {
     "name": "stdout",
     "output_type": "stream",
     "text": [
      "15569-85-4 gives the SMILES: CN1C(=O)CCC1C1=CC=CN=C1 and is OK\n"
     ]
    },
    {
     "name": "stderr",
     "output_type": "stream",
     "text": [
      " 70%|██████▉   | 176/252 [1:24:29<12:18,  9.72s/it]"
     ]
    },
    {
     "name": "stdout",
     "output_type": "stream",
     "text": [
      "71267-22-6 gives the SMILES: O=NN1CC=CC[C@H]1C1=CC=CN=C1 and is OK\n"
     ]
    },
    {
     "name": "stderr",
     "output_type": "stream",
     "text": [
      " 70%|███████   | 177/252 [1:24:36<11:07,  8.90s/it]"
     ]
    },
    {
     "name": "stdout",
     "output_type": "stream",
     "text": [
      "66148-17-2 gives the SMILES: [2H]C1=NC([2H])=C(C2=NCCC2)C([2H])=C1[2H] and is OK\n"
     ]
    },
    {
     "name": "stderr",
     "output_type": "stream",
     "text": [
      " 71%|███████   | 178/252 [1:24:43<10:22,  8.42s/it]"
     ]
    },
    {
     "name": "stdout",
     "output_type": "stream",
     "text": [
      "139427-57-9 gives the SMILES: CN1C(=O)CCC1C1=C[N+](C2OC(C(=O)[O-])C(O)C(O)C2O)=CC=C1 and is OK\n"
     ]
    },
    {
     "name": "stderr",
     "output_type": "stream",
     "text": [
      " 71%|███████   | 179/252 [1:24:51<10:02,  8.25s/it]"
     ]
    },
    {
     "name": "stdout",
     "output_type": "stream",
     "text": [
      "51095-86-4 gives the SMILES: C[N@+]1([O-])CCC[C@H]1C1=CC=CN=C1 and is OK\n"
     ]
    },
    {
     "name": "stderr",
     "output_type": "stream",
     "text": [
      " 71%|███████▏  | 180/252 [1:24:58<09:32,  7.95s/it]"
     ]
    },
    {
     "name": "stdout",
     "output_type": "stream",
     "text": [
      "66148-19-4 gives the SMILES: [2H]C1=NC([2H])=C(C2CCCN2N=O)C([2H])=C1[2H] and is OK\n"
     ]
    },
    {
     "name": "stderr",
     "output_type": "stream",
     "text": [
      " 72%|███████▏  | 181/252 [1:25:05<09:02,  7.64s/it]"
     ]
    },
    {
     "name": "stdout",
     "output_type": "stream",
     "text": [
      "21446-46-8 gives the SMILES: CN1CCC[C@H]1C1=CC=C[N+](C)=C1.[I-] and is OK\n"
     ]
    },
    {
     "name": "stderr",
     "output_type": "stream",
     "text": [
      " 72%|███████▏  | 182/252 [1:25:13<08:59,  7.71s/it]"
     ]
    },
    {
     "name": "stdout",
     "output_type": "stream",
     "text": [
      "486-56-6 gives the SMILES: CN1C(=O)CC[C@H]1C1=CC=CN=C1 and is OK\n",
      "Retrying\n",
      "Retrying\n",
      "Retrying\n"
     ]
    },
    {
     "name": "stderr",
     "output_type": "stream",
     "text": [
      " 73%|███████▎  | 183/252 [1:26:14<27:15, 23.71s/it]"
     ]
    },
    {
     "name": "stdout",
     "output_type": "stream",
     "text": [
      "FAILED TO RETRIEVE SMILES FOR CAS TR-C725170 and is WRONGGGG.\n",
      "Retrying\n"
     ]
    },
    {
     "name": "stderr",
     "output_type": "stream",
     "text": [
      " 73%|███████▎  | 184/252 [1:26:46<29:49, 26.32s/it]"
     ]
    },
    {
     "name": "stdout",
     "output_type": "stream",
     "text": [
      "53-84-9 gives the SMILES: NC(=O)C1=C[N+](C2OC(COP(=O)([O-])OP(=O)(O)OCC3OC(N4C=NC5=C4N=CN=C5N)C(O)C3O)C(O)C2O)=CC=C1 and is OK\n",
      "Retrying\n",
      "Retrying\n",
      "Retrying\n"
     ]
    },
    {
     "name": "stderr",
     "output_type": "stream",
     "text": [
      " 73%|███████▎  | 185/252 [1:27:55<43:24, 38.87s/it]"
     ]
    },
    {
     "name": "stdout",
     "output_type": "stream",
     "text": [
      "FAILED TO RETRIEVE SMILES FOR CAS 17708-87-1 and is WRONGGGG.\n"
     ]
    },
    {
     "name": "stderr",
     "output_type": "stream",
     "text": [
      " 74%|███████▍  | 186/252 [1:28:03<32:46, 29.80s/it]"
     ]
    },
    {
     "name": "stdout",
     "output_type": "stream",
     "text": [
      "34366-21-7 gives the SMILES: C1=CN=CC([C@H]2CCCCN2)=C1 and is OK\n"
     ]
    },
    {
     "name": "stderr",
     "output_type": "stream",
     "text": [
      " 74%|███████▍  | 187/252 [1:28:12<25:25, 23.47s/it]"
     ]
    },
    {
     "name": "stdout",
     "output_type": "stream",
     "text": [
      "4314-66-3 gives the SMILES: CCNC(=O)C1=CC=CN=C1 and is OK\n"
     ]
    },
    {
     "name": "stderr",
     "output_type": "stream",
     "text": [
      " 75%|███████▍  | 188/252 [1:28:20<20:06, 18.86s/it]"
     ]
    },
    {
     "name": "stdout",
     "output_type": "stream",
     "text": [
      "66148-19-4 gives the SMILES: [2H]C1=NC([2H])=C(C2CCCN2N=O)C([2H])=C1[2H] and is OK\n"
     ]
    },
    {
     "name": "stderr",
     "output_type": "stream",
     "text": [
      " 75%|███████▌  | 189/252 [1:28:29<16:34, 15.78s/it]"
     ]
    },
    {
     "name": "stdout",
     "output_type": "stream",
     "text": [
      "494-98-4 gives the SMILES: C1=CN=CC(C2=CC=CN2)=C1 and is OK\n"
     ]
    },
    {
     "name": "stderr",
     "output_type": "stream",
     "text": [
      " 75%|███████▌  | 190/252 [1:28:37<13:54, 13.46s/it]"
     ]
    },
    {
     "name": "stdout",
     "output_type": "stream",
     "text": [
      "764661-23-6 gives the SMILES: [2H]C1=NC([2H])=C(C(=O)CCCNC)C([2H])=C1[2H] and is OK\n"
     ]
    },
    {
     "name": "stderr",
     "output_type": "stream",
     "text": [
      " 76%|███████▌  | 191/252 [1:28:45<12:09, 11.96s/it]"
     ]
    },
    {
     "name": "stdout",
     "output_type": "stream",
     "text": [
      "146275-18-5 gives the SMILES: CN1C(=O)[C@H](O)C[C@H]1C1=C[N+]([C@@H]2O[C@H](C(=O)[O-])[C@@H](O)[C@H](O)[C@H]2O)=CC=C1 and is OK\n"
     ]
    },
    {
     "name": "stderr",
     "output_type": "stream",
     "text": [
      " 76%|███████▌  | 192/252 [1:28:54<10:59, 10.99s/it]"
     ]
    },
    {
     "name": "stdout",
     "output_type": "stream",
     "text": [
      "159956-78-2 gives the SMILES: [2H]C([2H])([2H])N1C(=O)[C@@H](O)C[C@@H]1C1=CC=CN=C1 and is OK\n"
     ]
    },
    {
     "name": "stderr",
     "output_type": "stream",
     "text": [
      " 77%|███████▋  | 193/252 [1:29:02<09:59, 10.15s/it]"
     ]
    },
    {
     "name": "stdout",
     "output_type": "stream",
     "text": [
      "6138-41-6 gives the SMILES: C[N+]1=CC=CC(C(=O)O)=C1.[Cl-] and is OK\n"
     ]
    },
    {
     "name": "stderr",
     "output_type": "stream",
     "text": [
      " 77%|███████▋  | 194/252 [1:29:10<09:14,  9.56s/it]"
     ]
    },
    {
     "name": "stdout",
     "output_type": "stream",
     "text": [
      "487-19-4 gives the SMILES: CN1C=CC=C1C1=CC=CN=C1 and is OK\n"
     ]
    },
    {
     "name": "stderr",
     "output_type": "stream",
     "text": [
      " 77%|███████▋  | 195/252 [1:29:18<08:40,  9.13s/it]"
     ]
    },
    {
     "name": "stdout",
     "output_type": "stream",
     "text": [
      "69980-24-1 gives the SMILES: [2H]C([2H])([2H])N1CCCC1C1=CC=CN=C1 and is OK\n"
     ]
    },
    {
     "name": "stderr",
     "output_type": "stream",
     "text": [
      " 78%|███████▊  | 196/252 [1:29:26<08:07,  8.70s/it]"
     ]
    },
    {
     "name": "stdout",
     "output_type": "stream",
     "text": [
      "66148-19-4 gives the SMILES: [2H]C1=NC([2H])=C(C2CCCN2N=O)C([2H])=C1[2H] and is OK\n"
     ]
    },
    {
     "name": "stderr",
     "output_type": "stream",
     "text": [
      " 78%|███████▊  | 197/252 [1:29:32<07:16,  7.94s/it]"
     ]
    },
    {
     "name": "stdout",
     "output_type": "stream",
     "text": [
      "909014-86-4 gives the SMILES: [13C]([2H])(N1CCCC1c1cccnc1)([2H])[2H] and is OK\n"
     ]
    },
    {
     "name": "stderr",
     "output_type": "stream",
     "text": [
      " 79%|███████▊  | 198/252 [1:29:41<07:20,  8.15s/it]"
     ]
    },
    {
     "name": "stdout",
     "output_type": "stream",
     "text": [
      "110952-70-0 gives the SMILES: [2H]C([2H])([2H])N1C(=O)CCC1C1=CC=CN=C1 and is OK\n"
     ]
    },
    {
     "name": "stderr",
     "output_type": "stream",
     "text": [
      " 79%|███████▉  | 199/252 [1:29:49<07:12,  8.17s/it]"
     ]
    },
    {
     "name": "stdout",
     "output_type": "stream",
     "text": [
      "1020719-08-7 gives the SMILES: [2H]C1=C([2H])C([2H])=C(C2CCCCN2)C([2H])=N1 and is OK\n",
      "Retrying\n",
      "Retrying\n",
      "Retrying\n"
     ]
    },
    {
     "name": "stderr",
     "output_type": "stream",
     "text": [
      " 79%|███████▉  | 200/252 [1:30:50<20:42, 23.89s/it]"
     ]
    },
    {
     "name": "stdout",
     "output_type": "stream",
     "text": [
      "FAILED TO RETRIEVE SMILES FOR CAS 1040920-61-3 and is WRONGGGG.\n",
      "Retrying\n"
     ]
    },
    {
     "name": "stderr",
     "output_type": "stream",
     "text": [
      " 80%|███████▉  | 201/252 [1:31:19<21:42, 25.53s/it]"
     ]
    },
    {
     "name": "stdout",
     "output_type": "stream",
     "text": [
      "1020719-68-9 gives the SMILES: [2H]C1=NC([2H])=C(C2CCCCN2N=O)C([2H])=C1[2H] and is OK\n",
      "Retrying\n",
      "Retrying\n",
      "Retrying\n"
     ]
    },
    {
     "name": "stderr",
     "output_type": "stream",
     "text": [
      " 80%|████████  | 202/252 [1:37:40<1:50:09, 132.19s/it]"
     ]
    },
    {
     "name": "stdout",
     "output_type": "stream",
     "text": [
      "FAILED TO RETRIEVE SMILES FOR CAS 769-49-3 and is WRONGGGG.\n",
      "Retrying\n",
      "Retrying\n"
     ]
    },
    {
     "name": "stderr",
     "output_type": "stream",
     "text": [
      " 81%|████████  | 203/252 [1:42:03<2:19:59, 171.41s/it]"
     ]
    },
    {
     "name": "stdout",
     "output_type": "stream",
     "text": [
      "125630-26-4 gives the SMILES: CN1CCC(C(=O)C2=CC=CN=C2)C1 and is OK\n"
     ]
    },
    {
     "name": "stderr",
     "output_type": "stream",
     "text": [
      " 81%|████████  | 204/252 [1:42:11<1:38:01, 122.53s/it]"
     ]
    },
    {
     "name": "stdout",
     "output_type": "stream",
     "text": [
      "701-44-0 gives the SMILES: CN1C=C(C(N)=O)C=CC1=O and is OK\n"
     ]
    },
    {
     "name": "stderr",
     "output_type": "stream",
     "text": [
      " 81%|████████▏ | 205/252 [1:42:19<1:08:53, 87.95s/it] "
     ]
    },
    {
     "name": "stdout",
     "output_type": "stream",
     "text": [
      "25162-00-9 gives the SMILES: CN1CCC[C@@H]1C1=CC=CN=C1 and is OK\n"
     ]
    },
    {
     "name": "stderr",
     "output_type": "stream",
     "text": [
      " 82%|████████▏ | 206/252 [1:42:26<48:51, 63.73s/it]  "
     ]
    },
    {
     "name": "stdout",
     "output_type": "stream",
     "text": [
      "284685-07-0 gives the SMILES: [2H]C1=C([2H])C([2H])=C([C@H]2CCCN2C)C([2H])=N1 and is OK\n"
     ]
    },
    {
     "name": "stderr",
     "output_type": "stream",
     "text": [
      " 82%|████████▏ | 207/252 [1:42:33<35:09, 46.87s/it]"
     ]
    },
    {
     "name": "stdout",
     "output_type": "stream",
     "text": [
      "494-97-3 gives the SMILES: C1=CN=CC([C@@H]2CCCN2)=C1 and is OK\n"
     ]
    },
    {
     "name": "stderr",
     "output_type": "stream",
     "text": [
      " 83%|████████▎ | 208/252 [1:42:42<25:50, 35.24s/it]"
     ]
    },
    {
     "name": "stdout",
     "output_type": "stream",
     "text": [
      "66148-18-3 gives the SMILES: [2H]C1=C([2H])C([2H])=C(C2CCCN2)C([2H])=N1 and is OK\n"
     ]
    },
    {
     "name": "stderr",
     "output_type": "stream",
     "text": [
      " 83%|████████▎ | 209/252 [1:42:49<19:15, 26.87s/it]"
     ]
    },
    {
     "name": "stdout",
     "output_type": "stream",
     "text": [
      "23950-04-1 gives the SMILES: CN1CCCC1C1=CC=CC=N1 and is OK\n"
     ]
    },
    {
     "name": "stderr",
     "output_type": "stream",
     "text": [
      " 83%|████████▎ | 210/252 [1:42:57<14:55, 21.33s/it]"
     ]
    },
    {
     "name": "stdout",
     "output_type": "stream",
     "text": [
      "581-49-7 gives the SMILES: C1=CC[C@@H](C2=CC=CN=C2)NC1 and is OK\n"
     ]
    },
    {
     "name": "stderr",
     "output_type": "stream",
     "text": [
      " 84%|████████▎ | 211/252 [1:43:03<11:21, 16.63s/it]"
     ]
    },
    {
     "name": "stdout",
     "output_type": "stream",
     "text": [
      "1246819-72-6 gives the SMILES: CNCCC[13C](=O)[13C]1=[13CH][13CH]=[13CH]N=[13CH]1 and is OK\n"
     ]
    },
    {
     "name": "stderr",
     "output_type": "stream",
     "text": [
      " 84%|████████▍ | 212/252 [1:43:08<08:50, 13.25s/it]"
     ]
    },
    {
     "name": "stdout",
     "output_type": "stream",
     "text": [
      "98-98-6 gives the SMILES: O=C(O)C1=CC=CC=N1 and is OK\n",
      "Retrying\n",
      "Retrying\n",
      "Retrying\n"
     ]
    },
    {
     "name": "stderr",
     "output_type": "stream",
     "text": [
      " 85%|████████▍ | 213/252 [1:44:09<17:53, 27.52s/it]"
     ]
    },
    {
     "name": "stdout",
     "output_type": "stream",
     "text": [
      "FAILED TO RETRIEVE SMILES FOR CAS TR-N424587 and is WRONGGGG.\n",
      "Retrying\n"
     ]
    },
    {
     "name": "stderr",
     "output_type": "stream",
     "text": [
      " 85%|████████▍ | 214/252 [1:44:38<17:43, 27.98s/it]"
     ]
    },
    {
     "name": "stdout",
     "output_type": "stream",
     "text": [
      "54-11-5 gives the SMILES: CN1CCC[C@H]1C1=CC=CN=C1 and is OK\n"
     ]
    },
    {
     "name": "stderr",
     "output_type": "stream",
     "text": [
      " 85%|████████▌ | 215/252 [1:44:45<13:18, 21.58s/it]"
     ]
    },
    {
     "name": "stdout",
     "output_type": "stream",
     "text": [
      "1215842-75-3 gives the SMILES: [2H][13C]([2H])([2H])N1C(=O)CCC1C1=CC=CN=C1 and is OK\n"
     ]
    },
    {
     "name": "stderr",
     "output_type": "stream",
     "text": [
      " 86%|████████▌ | 216/252 [1:44:50<10:03, 16.75s/it]"
     ]
    },
    {
     "name": "stdout",
     "output_type": "stream",
     "text": [
      "66148-15-0 gives the SMILES: [2H]C1=NC([2H])=C(C(=O)O)C([2H])=C1[2H] and is OK\n"
     ]
    },
    {
     "name": "stderr",
     "output_type": "stream",
     "text": [
      " 86%|████████▌ | 217/252 [1:44:57<08:01, 13.74s/it]"
     ]
    },
    {
     "name": "stdout",
     "output_type": "stream",
     "text": [
      "153536-53-9 gives the SMILES: CN1CCC[C@H]1C1=CC=C[N+]([C@@H]2O[C@H](C(=O)[O-])[C@@H](O)[C@H](O)[C@H]2O)=C1 and is OK\n"
     ]
    },
    {
     "name": "stderr",
     "output_type": "stream",
     "text": [
      " 87%|████████▋ | 218/252 [1:45:04<06:34, 11.61s/it]"
     ]
    },
    {
     "name": "stdout",
     "output_type": "stream",
     "text": [
      "2743-90-0 gives the SMILES: C1=CCC(C2=CC=CN=C2)NC1 and is OK\n"
     ]
    },
    {
     "name": "stderr",
     "output_type": "stream",
     "text": [
      " 87%|████████▋ | 219/252 [1:45:10<05:32, 10.07s/it]"
     ]
    },
    {
     "name": "stdout",
     "output_type": "stream",
     "text": [
      "347841-88-7 gives the SMILES: [2H]C1=NC([2H])=C(C(N)=O)C([2H])=C1[2H] and is OK\n"
     ]
    },
    {
     "name": "stderr",
     "output_type": "stream",
     "text": [
      " 87%|████████▋ | 220/252 [1:45:17<04:48,  9.03s/it]"
     ]
    },
    {
     "name": "stdout",
     "output_type": "stream",
     "text": [
      "1189727-40-9 gives the SMILES: [2H]C([2H])([2H])NCCCC(=O)C1=CC=CN=C1 and is OK\n"
     ]
    },
    {
     "name": "stderr",
     "output_type": "stream",
     "text": [
      " 88%|████████▊ | 221/252 [1:45:23<04:10,  8.08s/it]"
     ]
    },
    {
     "name": "stdout",
     "output_type": "stream",
     "text": [
      "1216737-36-8 gives the SMILES: [2H]C1=NC([2H])=C(C(=O)NCC(=O)O)C([2H])=C1[2H] and is OK\n",
      "Retrying\n",
      "Retrying\n",
      "Retrying\n"
     ]
    },
    {
     "name": "stderr",
     "output_type": "stream",
     "text": [
      " 88%|████████▊ | 222/252 [1:51:44<59:59, 119.98s/it]"
     ]
    },
    {
     "name": "stdout",
     "output_type": "stream",
     "text": [
      "FAILED TO RETRIEVE SMILES FOR CAS 1426174-36-8 and is WRONGGGG.\n",
      "Retrying\n",
      "Retrying\n"
     ]
    },
    {
     "name": "stderr",
     "output_type": "stream",
     "text": [
      " 88%|████████▊ | 223/252 [1:56:10<1:19:13, 163.92s/it]"
     ]
    },
    {
     "name": "stdout",
     "output_type": "stream",
     "text": [
      "350818-68-7 gives the SMILES: [2H]C1=C([2H])C([2H])=C(C2CCC(=O)N2C)C([2H])=N1 and is OK\n",
      "Retrying\n"
     ]
    },
    {
     "name": "stderr",
     "output_type": "stream",
     "text": [
      " 89%|████████▉ | 224/252 [1:56:45<58:24, 125.17s/it]  "
     ]
    },
    {
     "name": "stdout",
     "output_type": "stream",
     "text": [
      "66148-18-3 gives the SMILES: [2H]C1=C([2H])C([2H])=C(C2CCCN2)C([2H])=N1 and is OK\n",
      "Retrying\n",
      "Retrying\n",
      "Retrying\n"
     ]
    },
    {
     "name": "stderr",
     "output_type": "stream",
     "text": [
      " 89%|████████▉ | 225/252 [1:57:52<48:25, 107.62s/it]"
     ]
    },
    {
     "name": "stdout",
     "output_type": "stream",
     "text": [
      "FAILED TO RETRIEVE SMILES FOR CAS 17708-87-1 and is WRONGGGG.\n"
     ]
    },
    {
     "name": "stderr",
     "output_type": "stream",
     "text": [
      " 90%|████████▉ | 226/252 [1:57:59<33:38, 77.64s/it] "
     ]
    },
    {
     "name": "stdout",
     "output_type": "stream",
     "text": [
      "871894-35-8 gives the SMILES: CN1CCCC1C1=CC=CN=C1Cl and is OK\n"
     ]
    },
    {
     "name": "stderr",
     "output_type": "stream",
     "text": [
      " 90%|█████████ | 227/252 [1:58:08<23:41, 56.87s/it]"
     ]
    },
    {
     "name": "stdout",
     "output_type": "stream",
     "text": [
      "132929-88-5 gives the SMILES: CN1C(=O)[C@H](O[C@@H]2O[C@H](C(=O)O)[C@@H](O)[C@H](O)[C@H]2O)C[C@H]1C1=CC=CN=C1 and is OK\n"
     ]
    },
    {
     "name": "stderr",
     "output_type": "stream",
     "text": [
      " 90%|█████████ | 228/252 [1:58:16<16:56, 42.36s/it]"
     ]
    },
    {
     "name": "stdout",
     "output_type": "stream",
     "text": [
      "6419-36-9 gives the SMILES: Cl.O=C(O)CC1=CC=CN=C1 and is OK\n"
     ]
    },
    {
     "name": "stderr",
     "output_type": "stream",
     "text": [
      " 91%|█████████ | 229/252 [1:58:25<12:19, 32.15s/it]"
     ]
    },
    {
     "name": "stdout",
     "output_type": "stream",
     "text": [
      "90872-72-3 gives the SMILES: CC1=CC=C(C2CCCN2)C=N1 and is OK\n"
     ]
    },
    {
     "name": "stderr",
     "output_type": "stream",
     "text": [
      " 91%|█████████▏| 230/252 [1:58:32<09:06, 24.86s/it]"
     ]
    },
    {
     "name": "stdout",
     "output_type": "stream",
     "text": [
      "581-50-0 gives the SMILES: C1=CC=C(C2=CC=CN=C2)N=C1 and is OK\n"
     ]
    },
    {
     "name": "stderr",
     "output_type": "stream",
     "text": [
      " 92%|█████████▏| 231/252 [1:58:40<06:55, 19.78s/it]"
     ]
    },
    {
     "name": "stdout",
     "output_type": "stream",
     "text": [
      "764661-24-7 gives the SMILES: [2H]C1=NC([2H])=C(C(=O)CCCN(C)N=O)C([2H])=C1[2H] and is OK\n"
     ]
    },
    {
     "name": "stderr",
     "output_type": "stream",
     "text": [
      " 92%|█████████▏| 232/252 [1:58:48<05:23, 16.19s/it]"
     ]
    },
    {
     "name": "stdout",
     "output_type": "stream",
     "text": [
      "80508-23-2 gives the SMILES: O=NN1CCCC1C1=CC=CN=C1 and is OK\n"
     ]
    },
    {
     "name": "stderr",
     "output_type": "stream",
     "text": [
      " 92%|█████████▏| 233/252 [1:58:56<04:20, 13.68s/it]"
     ]
    },
    {
     "name": "stdout",
     "output_type": "stream",
     "text": [
      "887407-16-1 gives the SMILES: O=NN1CC=CCC1C1=CC=CN=C1 and is OK\n"
     ]
    },
    {
     "name": "stderr",
     "output_type": "stream",
     "text": [
      " 93%|█████████▎| 234/252 [1:59:04<03:37, 12.08s/it]"
     ]
    },
    {
     "name": "stdout",
     "output_type": "stream",
     "text": [
      "612-64-6 gives the SMILES: CCN(N=O)C1=CC=CC=C1 and is OK\n"
     ]
    },
    {
     "name": "stderr",
     "output_type": "stream",
     "text": [
      " 93%|█████████▎| 235/252 [1:59:13<03:05, 10.93s/it]"
     ]
    },
    {
     "name": "stdout",
     "output_type": "stream",
     "text": [
      "486-56-6 gives the SMILES: CN1C(=O)CC[C@H]1C1=CC=CN=C1 and is OK\n",
      "Retrying\n",
      "Retrying\n",
      "Retrying\n"
     ]
    },
    {
     "name": "stderr",
     "output_type": "stream",
     "text": [
      " 94%|█████████▎| 236/252 [2:00:13<06:51, 25.74s/it]"
     ]
    },
    {
     "name": "stdout",
     "output_type": "stream",
     "text": [
      "FAILED TO RETRIEVE SMILES FOR CAS TR-C725165 and is WRONGGGG.\n",
      "Retrying\n",
      "Retrying\n",
      "Retrying\n"
     ]
    },
    {
     "name": "stderr",
     "output_type": "stream",
     "text": [
      " 94%|█████████▍| 237/252 [2:01:18<09:23, 37.57s/it]"
     ]
    },
    {
     "name": "stdout",
     "output_type": "stream",
     "text": [
      "FAILED TO RETRIEVE SMILES FOR CAS TR-E936805 and is WRONGGGG.\n"
     ]
    },
    {
     "name": "stderr",
     "output_type": "stream",
     "text": [
      " 94%|█████████▍| 238/252 [2:01:25<06:38, 28.50s/it]"
     ]
    },
    {
     "name": "stdout",
     "output_type": "stream",
     "text": [
      "918625-36-2 gives the SMILES: OC/C=CC[C@@H](c1cccnc1)N and is OK\n"
     ]
    },
    {
     "name": "stderr",
     "output_type": "stream",
     "text": [
      " 95%|█████████▍| 239/252 [2:01:33<04:48, 22.19s/it]"
     ]
    },
    {
     "name": "stdout",
     "output_type": "stream",
     "text": [
      "82111-06-6 gives the SMILES: CC1=CC(C2CCCN2C)=CN=C1 and is OK\n"
     ]
    },
    {
     "name": "stderr",
     "output_type": "stream",
     "text": [
      " 95%|█████████▌| 240/252 [2:01:42<03:40, 18.41s/it]"
     ]
    },
    {
     "name": "stdout",
     "output_type": "stream",
     "text": [
      "5746-86-1 gives the SMILES: C1=CN=CC(C2CCCN2)=C1 and is OK\n",
      "Retrying\n",
      "Retrying\n",
      "Retrying\n"
     ]
    },
    {
     "name": "stderr",
     "output_type": "stream",
     "text": [
      " 96%|█████████▌| 241/252 [2:02:40<05:31, 30.17s/it]"
     ]
    },
    {
     "name": "stdout",
     "output_type": "stream",
     "text": [
      "FAILED TO RETRIEVE SMILES FOR CAS 1217540-34-5 and is WRONGGGG.\n",
      "Retrying\n",
      "Retrying\n",
      "Retrying\n"
     ]
    },
    {
     "name": "stderr",
     "output_type": "stream",
     "text": [
      " 96%|█████████▌| 242/252 [2:03:45<06:45, 40.54s/it]"
     ]
    },
    {
     "name": "stdout",
     "output_type": "stream",
     "text": [
      "FAILED TO RETRIEVE SMILES FOR CAS TR-A429258 and is WRONGGGG.\n"
     ]
    },
    {
     "name": "stderr",
     "output_type": "stream",
     "text": [
      " 96%|█████████▋| 243/252 [2:03:52<04:33, 30.41s/it]"
     ]
    },
    {
     "name": "stdout",
     "output_type": "stream",
     "text": [
      "1076199-53-5 gives the SMILES: O=C(N1CCCC1c1cccnc1)OC(C)(C)C and is OK\n"
     ]
    },
    {
     "name": "stderr",
     "output_type": "stream",
     "text": [
      " 97%|█████████▋| 244/252 [2:03:59<03:07, 23.45s/it]"
     ]
    },
    {
     "name": "stdout",
     "output_type": "stream",
     "text": [
      "147732-32-9 gives the SMILES: O[Cl](=O)(=O)=O.O=C1CCC(N1C)c1ccccn1 and is OK\n"
     ]
    },
    {
     "name": "stderr",
     "output_type": "stream",
     "text": [
      " 97%|█████████▋| 245/252 [2:04:06<02:09, 18.55s/it]"
     ]
    },
    {
     "name": "stdout",
     "output_type": "stream",
     "text": [
      "887406-85-1 gives the SMILES: COc1ccc(cc1)CN1C(=O)CCC1c1cccnc1 and is OK\n"
     ]
    },
    {
     "name": "stderr",
     "output_type": "stream",
     "text": [
      " 98%|█████████▊| 246/252 [2:04:12<01:29, 14.88s/it]"
     ]
    },
    {
     "name": "stdout",
     "output_type": "stream",
     "text": [
      "4315-37-1 gives the SMILES: OC(=O)[C@@H]([C@H](C(=O)O)O)O.Cn1cccc1c1cccnc1 and is OK\n",
      "Retrying\n",
      "Retrying\n",
      "Retrying\n"
     ]
    },
    {
     "name": "stderr",
     "output_type": "stream",
     "text": [
      " 98%|█████████▊| 247/252 [2:05:14<02:24, 28.92s/it]"
     ]
    },
    {
     "name": "stdout",
     "output_type": "stream",
     "text": [
      "FAILED TO RETRIEVE SMILES FOR CAS TR-N524263 and is WRONGGGG.\n",
      "Retrying\n",
      "Retrying\n",
      "Retrying\n"
     ]
    },
    {
     "name": "stderr",
     "output_type": "stream",
     "text": [
      " 98%|█████████▊| 248/252 [2:06:21<02:41, 40.27s/it]"
     ]
    },
    {
     "name": "stdout",
     "output_type": "stream",
     "text": [
      "FAILED TO RETRIEVE SMILES FOR CAS 107971-06-2 and is WRONGGGG.\n"
     ]
    },
    {
     "name": "stderr",
     "output_type": "stream",
     "text": [
      " 99%|█████████▉| 249/252 [2:06:28<01:31, 30.37s/it]"
     ]
    },
    {
     "name": "stdout",
     "output_type": "stream",
     "text": [
      "27247-34-3 gives the SMILES: [O-]C(=O)c1cc(cnc1)C(=O)OC.[K+] and is OK\n",
      "Retrying\n",
      "Retrying\n",
      "Retrying\n"
     ]
    },
    {
     "name": "stderr",
     "output_type": "stream",
     "text": [
      " 99%|█████████▉| 250/252 [2:07:28<01:18, 39.32s/it]"
     ]
    },
    {
     "name": "stdout",
     "output_type": "stream",
     "text": [
      "FAILED TO RETRIEVE SMILES FOR CAS 1217540-34-5 and is WRONGGGG.\n",
      "Retrying\n"
     ]
    },
    {
     "name": "stderr",
     "output_type": "stream",
     "text": [
      "100%|█████████▉| 251/252 [2:08:04<00:38, 38.43s/it]"
     ]
    },
    {
     "name": "stdout",
     "output_type": "stream",
     "text": [
      "857146-29-3 gives the SMILES: CC1=CC(CO)=CN=C1C and is OK\n"
     ]
    },
    {
     "name": "stderr",
     "output_type": "stream",
     "text": [
      "100%|██████████| 252/252 [2:08:11<00:00, 28.76s/it]"
     ]
    },
    {
     "name": "stdout",
     "output_type": "stream",
     "text": [
      "20971-79-3 gives the SMILES: O=C1CCC(O1)c1cccnc1 and is OK\n",
      "Retrying\n",
      "Retrying\n",
      "Retrying\n"
     ]
    },
    {
     "name": "stderr",
     "output_type": "stream",
     "text": [
      "100%|██████████| 252/252 [2:14:32<00:00, 32.03s/it]"
     ]
    },
    {
     "name": "stdout",
     "output_type": "stream",
     "text": [
      "FAILED TO RETRIEVE SMILES FOR CAS TR-B426320 and is WRONGGGG.\n",
      "Total compounds: 252\n",
      "Successfully converted: 208\n",
      "Conversion rate: 82.54%\n",
      "                                           product_url   cas_number  \\\n",
      "0                                    nornicotine-dl-rg     494-97-3   \n",
      "1    15-methano-8h-pyrido12-a15diazocin-8-one-12345...     485-35-8   \n",
      "2             3-pyridinecarboxamide-n-methoxy-n-methyl   95091-91-1   \n",
      "3     4-iodo-1-methyl-12-dihydropyridine-3-carboxamide    6456-44-6   \n",
      "4                  3-34-dihydro-2h-pyrrol-5-ylpyridine     532-12-7   \n",
      "..                                                 ...          ...   \n",
      "243                          n-4-methoxybenzylcotinine  887406-85-1   \n",
      "244                         beta-nicotyrine-l-tartrate    4315-37-1   \n",
      "247     5-methoxycarbonylnicotinic-acid-potassium-salt   27247-34-3   \n",
      "249                5-hydroxymethyl-23-dimethylpyridine  857146-29-3   \n",
      "250               rac-5-3-pyridyltetrahydro-2-furanone   20971-79-3   \n",
      "\n",
      "                                             SMILES  \n",
      "0                         C1=CN=CC([C@@H]2CCCN2)=C1  \n",
      "1                 O=C1C=CC=C2[C@H]3CNC[C@H](C3)CN21  \n",
      "2                            CON(C)C(=O)C1=CC=CN=C1  \n",
      "3                            CN1C=CC(I)=C(C(N)=O)C1  \n",
      "4                             C1=CN=CC(C2=NCCC2)=C1  \n",
      "..                                              ...  \n",
      "243                COc1ccc(cc1)CN1C(=O)CCC1c1cccnc1  \n",
      "244  OC(=O)[C@@H]([C@H](C(=O)O)O)O.Cn1cccc1c1cccnc1  \n",
      "247                 [O-]C(=O)c1cc(cnc1)C(=O)OC.[K+]  \n",
      "249                               CC1=CC(CO)=CN=C1C  \n",
      "250                             O=C1CCC(O1)c1cccnc1  \n",
      "\n",
      "[208 rows x 3 columns]\n"
     ]
    },
    {
     "name": "stderr",
     "output_type": "stream",
     "text": [
      "\n"
     ]
    }
   ],
   "source": [
    "df = pd.read_csv('nicotine_derivatives_data.csv')\n",
    "print(df.columns)\n",
    "\n",
    "tqdm.pandas()\n",
    "df['SMILES'] = df['cas_number'].progress_apply(get_smiles_from_cas)\n",
    "\n",
    "total = len(df)\n",
    "converted = df['SMILES'].notna().sum()\n",
    "print(f\"Total compounds: {total}\")\n",
    "print(f\"Successfully converted: {converted}\")\n",
    "print(f\"Conversion rate: {converted/total:.2%}\")\n",
    "\n",
    "df = df.dropna(subset=['SMILES'])\n",
    "print(df)\n",
    "\n",
    "df.to_csv('nicotine_derivatives_with_smiles.csv', index=False)"
   ]
  },
  {
   "cell_type": "code",
   "execution_count": null,
   "metadata": {},
   "outputs": [],
   "source": [
    "import pandas as pd\n",
    "from rdkit import Chem\n",
    "from rdkit.Chem import AllChem\n",
    "import torch\n",
    "from torch_geometric.data import Data\n",
    "from torch_geometric.loader import DataLoader as GeoDataLoader\n",
    "from torch.utils.data import Dataset\n",
    "import torch.nn as nn\n",
    "import torch.nn.functional as F\n",
    "from torch_geometric.nn import GCNConv, global_mean_pool\n",
    "from sklearn.model_selection import train_test_split\n",
    "from tqdm import tqdm\n",
    "from sklearn.metrics import accuracy_score, precision_score, recall_score\n",
    "from sklearn.metrics import confusion_matrix, ConfusionMatrixDisplay\n",
    "import seaborn as sns\n",
    "import matplotlib.pyplot as plt\n",
    "import numpy as np\n",
    "from gnn import GNNModel, smiles_to_graph, MoleculeDataset"
   ]
  },
  {
   "cell_type": "code",
   "execution_count": null,
   "metadata": {},
   "outputs": [],
   "source": [
    "df = pd.read_csv('nicotine_derivatives_with_smiles.csv')\n",
    "df_cleaned = df[df['SMILES'].notna() & (df['SMILES'] != '')]\n",
    "df_cleaned.to_csv('cleaned_nicotine_derivatives_with_smiles.csv', index=False)"
   ]
  },
  {
   "cell_type": "code",
   "execution_count": null,
   "metadata": {},
   "outputs": [
    {
     "name": "stdout",
     "output_type": "stream",
     "text": [
      "Error processing SMILES: nan - No registered converter was able to produce a C++ rvalue of type std::__1::basic_string<wchar_t, std::__1::char_traits<wchar_t>, std::__1::allocator<wchar_t>> from this Python object of type float\n",
      "Error processing SMILES: nan - No registered converter was able to produce a C++ rvalue of type std::__1::basic_string<wchar_t, std::__1::char_traits<wchar_t>, std::__1::allocator<wchar_t>> from this Python object of type float\n",
      "Error processing SMILES: nan - No registered converter was able to produce a C++ rvalue of type std::__1::basic_string<wchar_t, std::__1::char_traits<wchar_t>, std::__1::allocator<wchar_t>> from this Python object of type float\n",
      "Error processing SMILES: nan - No registered converter was able to produce a C++ rvalue of type std::__1::basic_string<wchar_t, std::__1::char_traits<wchar_t>, std::__1::allocator<wchar_t>> from this Python object of type float\n",
      "Error processing SMILES: nan - No registered converter was able to produce a C++ rvalue of type std::__1::basic_string<wchar_t, std::__1::char_traits<wchar_t>, std::__1::allocator<wchar_t>> from this Python object of type float\n",
      "Error processing SMILES: nan - No registered converter was able to produce a C++ rvalue of type std::__1::basic_string<wchar_t, std::__1::char_traits<wchar_t>, std::__1::allocator<wchar_t>> from this Python object of type float\n",
      "Error processing SMILES: nan - No registered converter was able to produce a C++ rvalue of type std::__1::basic_string<wchar_t, std::__1::char_traits<wchar_t>, std::__1::allocator<wchar_t>> from this Python object of type float\n",
      "Error processing SMILES: nan - No registered converter was able to produce a C++ rvalue of type std::__1::basic_string<wchar_t, std::__1::char_traits<wchar_t>, std::__1::allocator<wchar_t>> from this Python object of type float\n",
      "Error processing SMILES: nan - No registered converter was able to produce a C++ rvalue of type std::__1::basic_string<wchar_t, std::__1::char_traits<wchar_t>, std::__1::allocator<wchar_t>> from this Python object of type float\n",
      "Error processing SMILES: nan - No registered converter was able to produce a C++ rvalue of type std::__1::basic_string<wchar_t, std::__1::char_traits<wchar_t>, std::__1::allocator<wchar_t>> from this Python object of type float\n",
      "Error processing SMILES: nan - No registered converter was able to produce a C++ rvalue of type std::__1::basic_string<wchar_t, std::__1::char_traits<wchar_t>, std::__1::allocator<wchar_t>> from this Python object of type float\n",
      "Error processing SMILES: nan - No registered converter was able to produce a C++ rvalue of type std::__1::basic_string<wchar_t, std::__1::char_traits<wchar_t>, std::__1::allocator<wchar_t>> from this Python object of type float\n",
      "Error processing SMILES: nan - No registered converter was able to produce a C++ rvalue of type std::__1::basic_string<wchar_t, std::__1::char_traits<wchar_t>, std::__1::allocator<wchar_t>> from this Python object of type float\n",
      "Error processing SMILES: nan - No registered converter was able to produce a C++ rvalue of type std::__1::basic_string<wchar_t, std::__1::char_traits<wchar_t>, std::__1::allocator<wchar_t>> from this Python object of type float\n",
      "Error processing SMILES: nan - No registered converter was able to produce a C++ rvalue of type std::__1::basic_string<wchar_t, std::__1::char_traits<wchar_t>, std::__1::allocator<wchar_t>> from this Python object of type float\n",
      "Error processing SMILES: nan - No registered converter was able to produce a C++ rvalue of type std::__1::basic_string<wchar_t, std::__1::char_traits<wchar_t>, std::__1::allocator<wchar_t>> from this Python object of type float\n",
      "Error processing SMILES: nan - No registered converter was able to produce a C++ rvalue of type std::__1::basic_string<wchar_t, std::__1::char_traits<wchar_t>, std::__1::allocator<wchar_t>> from this Python object of type float\n",
      "Error processing SMILES: nan - No registered converter was able to produce a C++ rvalue of type std::__1::basic_string<wchar_t, std::__1::char_traits<wchar_t>, std::__1::allocator<wchar_t>> from this Python object of type float\n",
      "Error processing SMILES: nan - No registered converter was able to produce a C++ rvalue of type std::__1::basic_string<wchar_t, std::__1::char_traits<wchar_t>, std::__1::allocator<wchar_t>> from this Python object of type float\n",
      "Error processing SMILES: nan - No registered converter was able to produce a C++ rvalue of type std::__1::basic_string<wchar_t, std::__1::char_traits<wchar_t>, std::__1::allocator<wchar_t>> from this Python object of type float\n",
      "Error processing SMILES: nan - No registered converter was able to produce a C++ rvalue of type std::__1::basic_string<wchar_t, std::__1::char_traits<wchar_t>, std::__1::allocator<wchar_t>> from this Python object of type float\n",
      "Error processing SMILES: nan - No registered converter was able to produce a C++ rvalue of type std::__1::basic_string<wchar_t, std::__1::char_traits<wchar_t>, std::__1::allocator<wchar_t>> from this Python object of type float\n",
      "Error processing SMILES: nan - No registered converter was able to produce a C++ rvalue of type std::__1::basic_string<wchar_t, std::__1::char_traits<wchar_t>, std::__1::allocator<wchar_t>> from this Python object of type float\n",
      "Error processing SMILES: nan - No registered converter was able to produce a C++ rvalue of type std::__1::basic_string<wchar_t, std::__1::char_traits<wchar_t>, std::__1::allocator<wchar_t>> from this Python object of type float\n",
      "Error processing SMILES: nan - No registered converter was able to produce a C++ rvalue of type std::__1::basic_string<wchar_t, std::__1::char_traits<wchar_t>, std::__1::allocator<wchar_t>> from this Python object of type float\n",
      "Error processing SMILES: nan - No registered converter was able to produce a C++ rvalue of type std::__1::basic_string<wchar_t, std::__1::char_traits<wchar_t>, std::__1::allocator<wchar_t>> from this Python object of type float\n",
      "Error processing SMILES: nan - No registered converter was able to produce a C++ rvalue of type std::__1::basic_string<wchar_t, std::__1::char_traits<wchar_t>, std::__1::allocator<wchar_t>> from this Python object of type float\n",
      "Error processing SMILES: nan - No registered converter was able to produce a C++ rvalue of type std::__1::basic_string<wchar_t, std::__1::char_traits<wchar_t>, std::__1::allocator<wchar_t>> from this Python object of type float\n",
      "Error processing SMILES: nan - No registered converter was able to produce a C++ rvalue of type std::__1::basic_string<wchar_t, std::__1::char_traits<wchar_t>, std::__1::allocator<wchar_t>> from this Python object of type float\n",
      "Error processing SMILES: nan - No registered converter was able to produce a C++ rvalue of type std::__1::basic_string<wchar_t, std::__1::char_traits<wchar_t>, std::__1::allocator<wchar_t>> from this Python object of type float\n",
      "Error processing SMILES: nan - No registered converter was able to produce a C++ rvalue of type std::__1::basic_string<wchar_t, std::__1::char_traits<wchar_t>, std::__1::allocator<wchar_t>> from this Python object of type float\n",
      "Error processing SMILES: nan - No registered converter was able to produce a C++ rvalue of type std::__1::basic_string<wchar_t, std::__1::char_traits<wchar_t>, std::__1::allocator<wchar_t>> from this Python object of type float\n",
      "Error processing SMILES: nan - No registered converter was able to produce a C++ rvalue of type std::__1::basic_string<wchar_t, std::__1::char_traits<wchar_t>, std::__1::allocator<wchar_t>> from this Python object of type float\n",
      "Error processing SMILES: nan - No registered converter was able to produce a C++ rvalue of type std::__1::basic_string<wchar_t, std::__1::char_traits<wchar_t>, std::__1::allocator<wchar_t>> from this Python object of type float\n",
      "Error processing SMILES: nan - No registered converter was able to produce a C++ rvalue of type std::__1::basic_string<wchar_t, std::__1::char_traits<wchar_t>, std::__1::allocator<wchar_t>> from this Python object of type float\n",
      "Error processing SMILES: nan - No registered converter was able to produce a C++ rvalue of type std::__1::basic_string<wchar_t, std::__1::char_traits<wchar_t>, std::__1::allocator<wchar_t>> from this Python object of type float\n",
      "Error processing SMILES: nan - No registered converter was able to produce a C++ rvalue of type std::__1::basic_string<wchar_t, std::__1::char_traits<wchar_t>, std::__1::allocator<wchar_t>> from this Python object of type float\n",
      "Error processing SMILES: nan - No registered converter was able to produce a C++ rvalue of type std::__1::basic_string<wchar_t, std::__1::char_traits<wchar_t>, std::__1::allocator<wchar_t>> from this Python object of type float\n",
      "Error processing SMILES: nan - No registered converter was able to produce a C++ rvalue of type std::__1::basic_string<wchar_t, std::__1::char_traits<wchar_t>, std::__1::allocator<wchar_t>> from this Python object of type float\n",
      "Error processing SMILES: nan - No registered converter was able to produce a C++ rvalue of type std::__1::basic_string<wchar_t, std::__1::char_traits<wchar_t>, std::__1::allocator<wchar_t>> from this Python object of type float\n",
      "Error processing SMILES: nan - No registered converter was able to produce a C++ rvalue of type std::__1::basic_string<wchar_t, std::__1::char_traits<wchar_t>, std::__1::allocator<wchar_t>> from this Python object of type float\n",
      "Error processing SMILES: nan - No registered converter was able to produce a C++ rvalue of type std::__1::basic_string<wchar_t, std::__1::char_traits<wchar_t>, std::__1::allocator<wchar_t>> from this Python object of type float\n",
      "Error processing SMILES: nan - No registered converter was able to produce a C++ rvalue of type std::__1::basic_string<wchar_t, std::__1::char_traits<wchar_t>, std::__1::allocator<wchar_t>> from this Python object of type float\n",
      "Error processing SMILES: nan - No registered converter was able to produce a C++ rvalue of type std::__1::basic_string<wchar_t, std::__1::char_traits<wchar_t>, std::__1::allocator<wchar_t>> from this Python object of type float\n",
      "Error processing SMILES: nan - No registered converter was able to produce a C++ rvalue of type std::__1::basic_string<wchar_t, std::__1::char_traits<wchar_t>, std::__1::allocator<wchar_t>> from this Python object of type float\n",
      "Error processing SMILES: nan - No registered converter was able to produce a C++ rvalue of type std::__1::basic_string<wchar_t, std::__1::char_traits<wchar_t>, std::__1::allocator<wchar_t>> from this Python object of type float\n",
      "Error processing SMILES: nan - No registered converter was able to produce a C++ rvalue of type std::__1::basic_string<wchar_t, std::__1::char_traits<wchar_t>, std::__1::allocator<wchar_t>> from this Python object of type float\n",
      "Error processing SMILES: nan - No registered converter was able to produce a C++ rvalue of type std::__1::basic_string<wchar_t, std::__1::char_traits<wchar_t>, std::__1::allocator<wchar_t>> from this Python object of type float\n",
      "Error processing SMILES: nan - No registered converter was able to produce a C++ rvalue of type std::__1::basic_string<wchar_t, std::__1::char_traits<wchar_t>, std::__1::allocator<wchar_t>> from this Python object of type float\n",
      "Error processing SMILES: nan - No registered converter was able to produce a C++ rvalue of type std::__1::basic_string<wchar_t, std::__1::char_traits<wchar_t>, std::__1::allocator<wchar_t>> from this Python object of type float\n",
      "Error processing SMILES: nan - No registered converter was able to produce a C++ rvalue of type std::__1::basic_string<wchar_t, std::__1::char_traits<wchar_t>, std::__1::allocator<wchar_t>> from this Python object of type float\n",
      "Error processing SMILES: nan - No registered converter was able to produce a C++ rvalue of type std::__1::basic_string<wchar_t, std::__1::char_traits<wchar_t>, std::__1::allocator<wchar_t>> from this Python object of type float\n",
      "Error processing SMILES: nan - No registered converter was able to produce a C++ rvalue of type std::__1::basic_string<wchar_t, std::__1::char_traits<wchar_t>, std::__1::allocator<wchar_t>> from this Python object of type float\n",
      "Error processing SMILES: nan - No registered converter was able to produce a C++ rvalue of type std::__1::basic_string<wchar_t, std::__1::char_traits<wchar_t>, std::__1::allocator<wchar_t>> from this Python object of type float\n",
      "Error processing SMILES: nan - No registered converter was able to produce a C++ rvalue of type std::__1::basic_string<wchar_t, std::__1::char_traits<wchar_t>, std::__1::allocator<wchar_t>> from this Python object of type float\n",
      "Error processing SMILES: nan - No registered converter was able to produce a C++ rvalue of type std::__1::basic_string<wchar_t, std::__1::char_traits<wchar_t>, std::__1::allocator<wchar_t>> from this Python object of type float\n",
      "Error processing SMILES: nan - No registered converter was able to produce a C++ rvalue of type std::__1::basic_string<wchar_t, std::__1::char_traits<wchar_t>, std::__1::allocator<wchar_t>> from this Python object of type float\n",
      "Error processing SMILES: nan - No registered converter was able to produce a C++ rvalue of type std::__1::basic_string<wchar_t, std::__1::char_traits<wchar_t>, std::__1::allocator<wchar_t>> from this Python object of type float\n",
      "Error processing SMILES: nan - No registered converter was able to produce a C++ rvalue of type std::__1::basic_string<wchar_t, std::__1::char_traits<wchar_t>, std::__1::allocator<wchar_t>> from this Python object of type float\n",
      "Error processing SMILES: nan - No registered converter was able to produce a C++ rvalue of type std::__1::basic_string<wchar_t, std::__1::char_traits<wchar_t>, std::__1::allocator<wchar_t>> from this Python object of type float\n",
      "Error processing SMILES: nan - No registered converter was able to produce a C++ rvalue of type std::__1::basic_string<wchar_t, std::__1::char_traits<wchar_t>, std::__1::allocator<wchar_t>> from this Python object of type float\n",
      "Error processing SMILES: nan - No registered converter was able to produce a C++ rvalue of type std::__1::basic_string<wchar_t, std::__1::char_traits<wchar_t>, std::__1::allocator<wchar_t>> from this Python object of type float\n",
      "Error processing SMILES: nan - No registered converter was able to produce a C++ rvalue of type std::__1::basic_string<wchar_t, std::__1::char_traits<wchar_t>, std::__1::allocator<wchar_t>> from this Python object of type float\n",
      "Error processing SMILES: nan - No registered converter was able to produce a C++ rvalue of type std::__1::basic_string<wchar_t, std::__1::char_traits<wchar_t>, std::__1::allocator<wchar_t>> from this Python object of type float\n",
      "Error processing SMILES: nan - No registered converter was able to produce a C++ rvalue of type std::__1::basic_string<wchar_t, std::__1::char_traits<wchar_t>, std::__1::allocator<wchar_t>> from this Python object of type float\n",
      "Error processing SMILES: nan - No registered converter was able to produce a C++ rvalue of type std::__1::basic_string<wchar_t, std::__1::char_traits<wchar_t>, std::__1::allocator<wchar_t>> from this Python object of type float\n",
      "Error processing SMILES: nan - No registered converter was able to produce a C++ rvalue of type std::__1::basic_string<wchar_t, std::__1::char_traits<wchar_t>, std::__1::allocator<wchar_t>> from this Python object of type float\n",
      "Error processing SMILES: nan - No registered converter was able to produce a C++ rvalue of type std::__1::basic_string<wchar_t, std::__1::char_traits<wchar_t>, std::__1::allocator<wchar_t>> from this Python object of type float\n",
      "Error processing SMILES: nan - No registered converter was able to produce a C++ rvalue of type std::__1::basic_string<wchar_t, std::__1::char_traits<wchar_t>, std::__1::allocator<wchar_t>> from this Python object of type float\n",
      "Error processing SMILES: nan - No registered converter was able to produce a C++ rvalue of type std::__1::basic_string<wchar_t, std::__1::char_traits<wchar_t>, std::__1::allocator<wchar_t>> from this Python object of type float\n",
      "Error processing SMILES: nan - No registered converter was able to produce a C++ rvalue of type std::__1::basic_string<wchar_t, std::__1::char_traits<wchar_t>, std::__1::allocator<wchar_t>> from this Python object of type float\n",
      "Error processing SMILES: nan - No registered converter was able to produce a C++ rvalue of type std::__1::basic_string<wchar_t, std::__1::char_traits<wchar_t>, std::__1::allocator<wchar_t>> from this Python object of type float\n",
      "Error processing SMILES: nan - No registered converter was able to produce a C++ rvalue of type std::__1::basic_string<wchar_t, std::__1::char_traits<wchar_t>, std::__1::allocator<wchar_t>> from this Python object of type float\n",
      "Error processing SMILES: nan - No registered converter was able to produce a C++ rvalue of type std::__1::basic_string<wchar_t, std::__1::char_traits<wchar_t>, std::__1::allocator<wchar_t>> from this Python object of type float\n",
      "Error processing SMILES: nan - No registered converter was able to produce a C++ rvalue of type std::__1::basic_string<wchar_t, std::__1::char_traits<wchar_t>, std::__1::allocator<wchar_t>> from this Python object of type float\n",
      "Error processing SMILES: nan - No registered converter was able to produce a C++ rvalue of type std::__1::basic_string<wchar_t, std::__1::char_traits<wchar_t>, std::__1::allocator<wchar_t>> from this Python object of type float\n",
      "Error processing SMILES: nan - No registered converter was able to produce a C++ rvalue of type std::__1::basic_string<wchar_t, std::__1::char_traits<wchar_t>, std::__1::allocator<wchar_t>> from this Python object of type float\n",
      "Error processing SMILES: nan - No registered converter was able to produce a C++ rvalue of type std::__1::basic_string<wchar_t, std::__1::char_traits<wchar_t>, std::__1::allocator<wchar_t>> from this Python object of type float\n",
      "Error processing SMILES: nan - No registered converter was able to produce a C++ rvalue of type std::__1::basic_string<wchar_t, std::__1::char_traits<wchar_t>, std::__1::allocator<wchar_t>> from this Python object of type float\n",
      "Error processing SMILES: nan - No registered converter was able to produce a C++ rvalue of type std::__1::basic_string<wchar_t, std::__1::char_traits<wchar_t>, std::__1::allocator<wchar_t>> from this Python object of type float\n",
      "Error processing SMILES: nan - No registered converter was able to produce a C++ rvalue of type std::__1::basic_string<wchar_t, std::__1::char_traits<wchar_t>, std::__1::allocator<wchar_t>> from this Python object of type float\n",
      "Error processing SMILES: nan - No registered converter was able to produce a C++ rvalue of type std::__1::basic_string<wchar_t, std::__1::char_traits<wchar_t>, std::__1::allocator<wchar_t>> from this Python object of type float\n",
      "Error processing SMILES: nan - No registered converter was able to produce a C++ rvalue of type std::__1::basic_string<wchar_t, std::__1::char_traits<wchar_t>, std::__1::allocator<wchar_t>> from this Python object of type float\n",
      "Error processing SMILES: nan - No registered converter was able to produce a C++ rvalue of type std::__1::basic_string<wchar_t, std::__1::char_traits<wchar_t>, std::__1::allocator<wchar_t>> from this Python object of type float\n",
      "Error processing SMILES: nan - No registered converter was able to produce a C++ rvalue of type std::__1::basic_string<wchar_t, std::__1::char_traits<wchar_t>, std::__1::allocator<wchar_t>> from this Python object of type float\n",
      "Error processing SMILES: nan - No registered converter was able to produce a C++ rvalue of type std::__1::basic_string<wchar_t, std::__1::char_traits<wchar_t>, std::__1::allocator<wchar_t>> from this Python object of type float\n",
      "Error processing SMILES: nan - No registered converter was able to produce a C++ rvalue of type std::__1::basic_string<wchar_t, std::__1::char_traits<wchar_t>, std::__1::allocator<wchar_t>> from this Python object of type float\n",
      "Error processing SMILES: nan - No registered converter was able to produce a C++ rvalue of type std::__1::basic_string<wchar_t, std::__1::char_traits<wchar_t>, std::__1::allocator<wchar_t>> from this Python object of type float\n",
      "Error processing SMILES: nan - No registered converter was able to produce a C++ rvalue of type std::__1::basic_string<wchar_t, std::__1::char_traits<wchar_t>, std::__1::allocator<wchar_t>> from this Python object of type float\n",
      "Error processing SMILES: nan - No registered converter was able to produce a C++ rvalue of type std::__1::basic_string<wchar_t, std::__1::char_traits<wchar_t>, std::__1::allocator<wchar_t>> from this Python object of type float\n",
      "Error processing SMILES: nan - No registered converter was able to produce a C++ rvalue of type std::__1::basic_string<wchar_t, std::__1::char_traits<wchar_t>, std::__1::allocator<wchar_t>> from this Python object of type float\n",
      "Error processing SMILES: nan - No registered converter was able to produce a C++ rvalue of type std::__1::basic_string<wchar_t, std::__1::char_traits<wchar_t>, std::__1::allocator<wchar_t>> from this Python object of type float\n",
      "Error processing SMILES: nan - No registered converter was able to produce a C++ rvalue of type std::__1::basic_string<wchar_t, std::__1::char_traits<wchar_t>, std::__1::allocator<wchar_t>> from this Python object of type float\n",
      "Error processing SMILES: nan - No registered converter was able to produce a C++ rvalue of type std::__1::basic_string<wchar_t, std::__1::char_traits<wchar_t>, std::__1::allocator<wchar_t>> from this Python object of type float\n",
      "Error processing SMILES: nan - No registered converter was able to produce a C++ rvalue of type std::__1::basic_string<wchar_t, std::__1::char_traits<wchar_t>, std::__1::allocator<wchar_t>> from this Python object of type float\n",
      "Error processing SMILES: nan - No registered converter was able to produce a C++ rvalue of type std::__1::basic_string<wchar_t, std::__1::char_traits<wchar_t>, std::__1::allocator<wchar_t>> from this Python object of type float\n",
      "Error processing SMILES: nan - No registered converter was able to produce a C++ rvalue of type std::__1::basic_string<wchar_t, std::__1::char_traits<wchar_t>, std::__1::allocator<wchar_t>> from this Python object of type float\n",
      "Error processing SMILES: nan - No registered converter was able to produce a C++ rvalue of type std::__1::basic_string<wchar_t, std::__1::char_traits<wchar_t>, std::__1::allocator<wchar_t>> from this Python object of type float\n",
      "Error processing SMILES: nan - No registered converter was able to produce a C++ rvalue of type std::__1::basic_string<wchar_t, std::__1::char_traits<wchar_t>, std::__1::allocator<wchar_t>> from this Python object of type float\n",
      "Error processing SMILES: nan - No registered converter was able to produce a C++ rvalue of type std::__1::basic_string<wchar_t, std::__1::char_traits<wchar_t>, std::__1::allocator<wchar_t>> from this Python object of type float\n",
      "Error processing SMILES: nan - No registered converter was able to produce a C++ rvalue of type std::__1::basic_string<wchar_t, std::__1::char_traits<wchar_t>, std::__1::allocator<wchar_t>> from this Python object of type float\n",
      "Error processing SMILES: nan - No registered converter was able to produce a C++ rvalue of type std::__1::basic_string<wchar_t, std::__1::char_traits<wchar_t>, std::__1::allocator<wchar_t>> from this Python object of type float\n",
      "Error processing SMILES: nan - No registered converter was able to produce a C++ rvalue of type std::__1::basic_string<wchar_t, std::__1::char_traits<wchar_t>, std::__1::allocator<wchar_t>> from this Python object of type float\n",
      "Error processing SMILES: nan - No registered converter was able to produce a C++ rvalue of type std::__1::basic_string<wchar_t, std::__1::char_traits<wchar_t>, std::__1::allocator<wchar_t>> from this Python object of type float\n",
      "Error processing SMILES: nan - No registered converter was able to produce a C++ rvalue of type std::__1::basic_string<wchar_t, std::__1::char_traits<wchar_t>, std::__1::allocator<wchar_t>> from this Python object of type float\n",
      "Error processing SMILES: nan - No registered converter was able to produce a C++ rvalue of type std::__1::basic_string<wchar_t, std::__1::char_traits<wchar_t>, std::__1::allocator<wchar_t>> from this Python object of type float\n",
      "Error processing SMILES: nan - No registered converter was able to produce a C++ rvalue of type std::__1::basic_string<wchar_t, std::__1::char_traits<wchar_t>, std::__1::allocator<wchar_t>> from this Python object of type float\n",
      "Error processing SMILES: nan - No registered converter was able to produce a C++ rvalue of type std::__1::basic_string<wchar_t, std::__1::char_traits<wchar_t>, std::__1::allocator<wchar_t>> from this Python object of type float\n",
      "Error processing SMILES: nan - No registered converter was able to produce a C++ rvalue of type std::__1::basic_string<wchar_t, std::__1::char_traits<wchar_t>, std::__1::allocator<wchar_t>> from this Python object of type float\n",
      "Error processing SMILES: nan - No registered converter was able to produce a C++ rvalue of type std::__1::basic_string<wchar_t, std::__1::char_traits<wchar_t>, std::__1::allocator<wchar_t>> from this Python object of type float\n",
      "Error processing SMILES: nan - No registered converter was able to produce a C++ rvalue of type std::__1::basic_string<wchar_t, std::__1::char_traits<wchar_t>, std::__1::allocator<wchar_t>> from this Python object of type float\n",
      "Error processing SMILES: nan - No registered converter was able to produce a C++ rvalue of type std::__1::basic_string<wchar_t, std::__1::char_traits<wchar_t>, std::__1::allocator<wchar_t>> from this Python object of type float\n",
      "Error processing SMILES: nan - No registered converter was able to produce a C++ rvalue of type std::__1::basic_string<wchar_t, std::__1::char_traits<wchar_t>, std::__1::allocator<wchar_t>> from this Python object of type float\n",
      "Error processing SMILES: nan - No registered converter was able to produce a C++ rvalue of type std::__1::basic_string<wchar_t, std::__1::char_traits<wchar_t>, std::__1::allocator<wchar_t>> from this Python object of type float\n",
      "Error processing SMILES: nan - No registered converter was able to produce a C++ rvalue of type std::__1::basic_string<wchar_t, std::__1::char_traits<wchar_t>, std::__1::allocator<wchar_t>> from this Python object of type float\n",
      "Error processing SMILES: nan - No registered converter was able to produce a C++ rvalue of type std::__1::basic_string<wchar_t, std::__1::char_traits<wchar_t>, std::__1::allocator<wchar_t>> from this Python object of type float\n",
      "Error processing SMILES: nan - No registered converter was able to produce a C++ rvalue of type std::__1::basic_string<wchar_t, std::__1::char_traits<wchar_t>, std::__1::allocator<wchar_t>> from this Python object of type float\n",
      "Error processing SMILES: nan - No registered converter was able to produce a C++ rvalue of type std::__1::basic_string<wchar_t, std::__1::char_traits<wchar_t>, std::__1::allocator<wchar_t>> from this Python object of type float\n",
      "Error processing SMILES: nan - No registered converter was able to produce a C++ rvalue of type std::__1::basic_string<wchar_t, std::__1::char_traits<wchar_t>, std::__1::allocator<wchar_t>> from this Python object of type float\n",
      "Error processing SMILES: nan - No registered converter was able to produce a C++ rvalue of type std::__1::basic_string<wchar_t, std::__1::char_traits<wchar_t>, std::__1::allocator<wchar_t>> from this Python object of type float\n",
      "Error processing SMILES: nan - No registered converter was able to produce a C++ rvalue of type std::__1::basic_string<wchar_t, std::__1::char_traits<wchar_t>, std::__1::allocator<wchar_t>> from this Python object of type float\n",
      "Error processing SMILES: nan - No registered converter was able to produce a C++ rvalue of type std::__1::basic_string<wchar_t, std::__1::char_traits<wchar_t>, std::__1::allocator<wchar_t>> from this Python object of type float\n",
      "Error processing SMILES: nan - No registered converter was able to produce a C++ rvalue of type std::__1::basic_string<wchar_t, std::__1::char_traits<wchar_t>, std::__1::allocator<wchar_t>> from this Python object of type float\n",
      "Error processing SMILES: nan - No registered converter was able to produce a C++ rvalue of type std::__1::basic_string<wchar_t, std::__1::char_traits<wchar_t>, std::__1::allocator<wchar_t>> from this Python object of type float\n",
      "Error processing SMILES: nan - No registered converter was able to produce a C++ rvalue of type std::__1::basic_string<wchar_t, std::__1::char_traits<wchar_t>, std::__1::allocator<wchar_t>> from this Python object of type float\n",
      "Error processing SMILES: nan - No registered converter was able to produce a C++ rvalue of type std::__1::basic_string<wchar_t, std::__1::char_traits<wchar_t>, std::__1::allocator<wchar_t>> from this Python object of type float\n",
      "Error processing SMILES: nan - No registered converter was able to produce a C++ rvalue of type std::__1::basic_string<wchar_t, std::__1::char_traits<wchar_t>, std::__1::allocator<wchar_t>> from this Python object of type float\n",
      "Error processing SMILES: nan - No registered converter was able to produce a C++ rvalue of type std::__1::basic_string<wchar_t, std::__1::char_traits<wchar_t>, std::__1::allocator<wchar_t>> from this Python object of type float\n",
      "Error processing SMILES: nan - No registered converter was able to produce a C++ rvalue of type std::__1::basic_string<wchar_t, std::__1::char_traits<wchar_t>, std::__1::allocator<wchar_t>> from this Python object of type float\n",
      "Error processing SMILES: nan - No registered converter was able to produce a C++ rvalue of type std::__1::basic_string<wchar_t, std::__1::char_traits<wchar_t>, std::__1::allocator<wchar_t>> from this Python object of type float\n",
      "Error processing SMILES: nan - No registered converter was able to produce a C++ rvalue of type std::__1::basic_string<wchar_t, std::__1::char_traits<wchar_t>, std::__1::allocator<wchar_t>> from this Python object of type float\n",
      "Error processing SMILES: nan - No registered converter was able to produce a C++ rvalue of type std::__1::basic_string<wchar_t, std::__1::char_traits<wchar_t>, std::__1::allocator<wchar_t>> from this Python object of type float\n",
      "Error processing SMILES: nan - No registered converter was able to produce a C++ rvalue of type std::__1::basic_string<wchar_t, std::__1::char_traits<wchar_t>, std::__1::allocator<wchar_t>> from this Python object of type float\n",
      "Error processing SMILES: nan - No registered converter was able to produce a C++ rvalue of type std::__1::basic_string<wchar_t, std::__1::char_traits<wchar_t>, std::__1::allocator<wchar_t>> from this Python object of type float\n",
      "Error processing SMILES: nan - No registered converter was able to produce a C++ rvalue of type std::__1::basic_string<wchar_t, std::__1::char_traits<wchar_t>, std::__1::allocator<wchar_t>> from this Python object of type float\n",
      "Error processing SMILES: nan - No registered converter was able to produce a C++ rvalue of type std::__1::basic_string<wchar_t, std::__1::char_traits<wchar_t>, std::__1::allocator<wchar_t>> from this Python object of type float\n",
      "Error processing SMILES: nan - No registered converter was able to produce a C++ rvalue of type std::__1::basic_string<wchar_t, std::__1::char_traits<wchar_t>, std::__1::allocator<wchar_t>> from this Python object of type float\n",
      "Error processing SMILES: nan - No registered converter was able to produce a C++ rvalue of type std::__1::basic_string<wchar_t, std::__1::char_traits<wchar_t>, std::__1::allocator<wchar_t>> from this Python object of type float\n",
      "Error processing SMILES: nan - No registered converter was able to produce a C++ rvalue of type std::__1::basic_string<wchar_t, std::__1::char_traits<wchar_t>, std::__1::allocator<wchar_t>> from this Python object of type float\n",
      "Error processing SMILES: nan - No registered converter was able to produce a C++ rvalue of type std::__1::basic_string<wchar_t, std::__1::char_traits<wchar_t>, std::__1::allocator<wchar_t>> from this Python object of type float\n",
      "Error processing SMILES: nan - No registered converter was able to produce a C++ rvalue of type std::__1::basic_string<wchar_t, std::__1::char_traits<wchar_t>, std::__1::allocator<wchar_t>> from this Python object of type float\n",
      "Error processing SMILES: nan - No registered converter was able to produce a C++ rvalue of type std::__1::basic_string<wchar_t, std::__1::char_traits<wchar_t>, std::__1::allocator<wchar_t>> from this Python object of type float\n",
      "Error processing SMILES: nan - No registered converter was able to produce a C++ rvalue of type std::__1::basic_string<wchar_t, std::__1::char_traits<wchar_t>, std::__1::allocator<wchar_t>> from this Python object of type float\n",
      "Error processing SMILES: nan - No registered converter was able to produce a C++ rvalue of type std::__1::basic_string<wchar_t, std::__1::char_traits<wchar_t>, std::__1::allocator<wchar_t>> from this Python object of type float\n",
      "Error processing SMILES: nan - No registered converter was able to produce a C++ rvalue of type std::__1::basic_string<wchar_t, std::__1::char_traits<wchar_t>, std::__1::allocator<wchar_t>> from this Python object of type float\n",
      "Error processing SMILES: nan - No registered converter was able to produce a C++ rvalue of type std::__1::basic_string<wchar_t, std::__1::char_traits<wchar_t>, std::__1::allocator<wchar_t>> from this Python object of type float\n",
      "Error processing SMILES: nan - No registered converter was able to produce a C++ rvalue of type std::__1::basic_string<wchar_t, std::__1::char_traits<wchar_t>, std::__1::allocator<wchar_t>> from this Python object of type float\n",
      "Error processing SMILES: nan - No registered converter was able to produce a C++ rvalue of type std::__1::basic_string<wchar_t, std::__1::char_traits<wchar_t>, std::__1::allocator<wchar_t>> from this Python object of type float\n",
      "Error processing SMILES: nan - No registered converter was able to produce a C++ rvalue of type std::__1::basic_string<wchar_t, std::__1::char_traits<wchar_t>, std::__1::allocator<wchar_t>> from this Python object of type float\n",
      "Error processing SMILES: nan - No registered converter was able to produce a C++ rvalue of type std::__1::basic_string<wchar_t, std::__1::char_traits<wchar_t>, std::__1::allocator<wchar_t>> from this Python object of type float\n",
      "Error processing SMILES: nan - No registered converter was able to produce a C++ rvalue of type std::__1::basic_string<wchar_t, std::__1::char_traits<wchar_t>, std::__1::allocator<wchar_t>> from this Python object of type float\n",
      "Error processing SMILES: nan - No registered converter was able to produce a C++ rvalue of type std::__1::basic_string<wchar_t, std::__1::char_traits<wchar_t>, std::__1::allocator<wchar_t>> from this Python object of type float\n",
      "Error processing SMILES: nan - No registered converter was able to produce a C++ rvalue of type std::__1::basic_string<wchar_t, std::__1::char_traits<wchar_t>, std::__1::allocator<wchar_t>> from this Python object of type float\n",
      "Error processing SMILES: nan - No registered converter was able to produce a C++ rvalue of type std::__1::basic_string<wchar_t, std::__1::char_traits<wchar_t>, std::__1::allocator<wchar_t>> from this Python object of type float\n",
      "Error processing SMILES: nan - No registered converter was able to produce a C++ rvalue of type std::__1::basic_string<wchar_t, std::__1::char_traits<wchar_t>, std::__1::allocator<wchar_t>> from this Python object of type float\n",
      "Error processing SMILES: nan - No registered converter was able to produce a C++ rvalue of type std::__1::basic_string<wchar_t, std::__1::char_traits<wchar_t>, std::__1::allocator<wchar_t>> from this Python object of type float\n",
      "Error processing SMILES: nan - No registered converter was able to produce a C++ rvalue of type std::__1::basic_string<wchar_t, std::__1::char_traits<wchar_t>, std::__1::allocator<wchar_t>> from this Python object of type float\n",
      "Error processing SMILES: nan - No registered converter was able to produce a C++ rvalue of type std::__1::basic_string<wchar_t, std::__1::char_traits<wchar_t>, std::__1::allocator<wchar_t>> from this Python object of type float\n",
      "Error processing SMILES: nan - No registered converter was able to produce a C++ rvalue of type std::__1::basic_string<wchar_t, std::__1::char_traits<wchar_t>, std::__1::allocator<wchar_t>> from this Python object of type float\n",
      "Error processing SMILES: nan - No registered converter was able to produce a C++ rvalue of type std::__1::basic_string<wchar_t, std::__1::char_traits<wchar_t>, std::__1::allocator<wchar_t>> from this Python object of type float\n",
      "Error processing SMILES: nan - No registered converter was able to produce a C++ rvalue of type std::__1::basic_string<wchar_t, std::__1::char_traits<wchar_t>, std::__1::allocator<wchar_t>> from this Python object of type float\n",
      "Error processing SMILES: nan - No registered converter was able to produce a C++ rvalue of type std::__1::basic_string<wchar_t, std::__1::char_traits<wchar_t>, std::__1::allocator<wchar_t>> from this Python object of type float\n",
      "Error processing SMILES: nan - No registered converter was able to produce a C++ rvalue of type std::__1::basic_string<wchar_t, std::__1::char_traits<wchar_t>, std::__1::allocator<wchar_t>> from this Python object of type float\n",
      "Error processing SMILES: nan - No registered converter was able to produce a C++ rvalue of type std::__1::basic_string<wchar_t, std::__1::char_traits<wchar_t>, std::__1::allocator<wchar_t>> from this Python object of type float\n",
      "Error processing SMILES: nan - No registered converter was able to produce a C++ rvalue of type std::__1::basic_string<wchar_t, std::__1::char_traits<wchar_t>, std::__1::allocator<wchar_t>> from this Python object of type float\n",
      "Error processing SMILES: nan - No registered converter was able to produce a C++ rvalue of type std::__1::basic_string<wchar_t, std::__1::char_traits<wchar_t>, std::__1::allocator<wchar_t>> from this Python object of type float\n",
      "Error processing SMILES: nan - No registered converter was able to produce a C++ rvalue of type std::__1::basic_string<wchar_t, std::__1::char_traits<wchar_t>, std::__1::allocator<wchar_t>> from this Python object of type float\n",
      "Error processing SMILES: nan - No registered converter was able to produce a C++ rvalue of type std::__1::basic_string<wchar_t, std::__1::char_traits<wchar_t>, std::__1::allocator<wchar_t>> from this Python object of type float\n",
      "Error processing SMILES: nan - No registered converter was able to produce a C++ rvalue of type std::__1::basic_string<wchar_t, std::__1::char_traits<wchar_t>, std::__1::allocator<wchar_t>> from this Python object of type float\n",
      "Error processing SMILES: nan - No registered converter was able to produce a C++ rvalue of type std::__1::basic_string<wchar_t, std::__1::char_traits<wchar_t>, std::__1::allocator<wchar_t>> from this Python object of type float\n",
      "Error processing SMILES: nan - No registered converter was able to produce a C++ rvalue of type std::__1::basic_string<wchar_t, std::__1::char_traits<wchar_t>, std::__1::allocator<wchar_t>> from this Python object of type float\n",
      "Error processing SMILES: nan - No registered converter was able to produce a C++ rvalue of type std::__1::basic_string<wchar_t, std::__1::char_traits<wchar_t>, std::__1::allocator<wchar_t>> from this Python object of type float\n",
      "Error processing SMILES: nan - No registered converter was able to produce a C++ rvalue of type std::__1::basic_string<wchar_t, std::__1::char_traits<wchar_t>, std::__1::allocator<wchar_t>> from this Python object of type float\n",
      "Error processing SMILES: nan - No registered converter was able to produce a C++ rvalue of type std::__1::basic_string<wchar_t, std::__1::char_traits<wchar_t>, std::__1::allocator<wchar_t>> from this Python object of type float\n",
      "Error processing SMILES: nan - No registered converter was able to produce a C++ rvalue of type std::__1::basic_string<wchar_t, std::__1::char_traits<wchar_t>, std::__1::allocator<wchar_t>> from this Python object of type float\n",
      "Error processing SMILES: nan - No registered converter was able to produce a C++ rvalue of type std::__1::basic_string<wchar_t, std::__1::char_traits<wchar_t>, std::__1::allocator<wchar_t>> from this Python object of type float\n",
      "Error processing SMILES: nan - No registered converter was able to produce a C++ rvalue of type std::__1::basic_string<wchar_t, std::__1::char_traits<wchar_t>, std::__1::allocator<wchar_t>> from this Python object of type float\n",
      "Error processing SMILES: nan - No registered converter was able to produce a C++ rvalue of type std::__1::basic_string<wchar_t, std::__1::char_traits<wchar_t>, std::__1::allocator<wchar_t>> from this Python object of type float\n",
      "Error processing SMILES: nan - No registered converter was able to produce a C++ rvalue of type std::__1::basic_string<wchar_t, std::__1::char_traits<wchar_t>, std::__1::allocator<wchar_t>> from this Python object of type float\n",
      "Error processing SMILES: nan - No registered converter was able to produce a C++ rvalue of type std::__1::basic_string<wchar_t, std::__1::char_traits<wchar_t>, std::__1::allocator<wchar_t>> from this Python object of type float\n",
      "Error processing SMILES: nan - No registered converter was able to produce a C++ rvalue of type std::__1::basic_string<wchar_t, std::__1::char_traits<wchar_t>, std::__1::allocator<wchar_t>> from this Python object of type float\n",
      "Error processing SMILES: nan - No registered converter was able to produce a C++ rvalue of type std::__1::basic_string<wchar_t, std::__1::char_traits<wchar_t>, std::__1::allocator<wchar_t>> from this Python object of type float\n",
      "Error processing SMILES: nan - No registered converter was able to produce a C++ rvalue of type std::__1::basic_string<wchar_t, std::__1::char_traits<wchar_t>, std::__1::allocator<wchar_t>> from this Python object of type float\n",
      "Error processing SMILES: nan - No registered converter was able to produce a C++ rvalue of type std::__1::basic_string<wchar_t, std::__1::char_traits<wchar_t>, std::__1::allocator<wchar_t>> from this Python object of type float\n",
      "Error processing SMILES: nan - No registered converter was able to produce a C++ rvalue of type std::__1::basic_string<wchar_t, std::__1::char_traits<wchar_t>, std::__1::allocator<wchar_t>> from this Python object of type float\n",
      "Error processing SMILES: nan - No registered converter was able to produce a C++ rvalue of type std::__1::basic_string<wchar_t, std::__1::char_traits<wchar_t>, std::__1::allocator<wchar_t>> from this Python object of type float\n",
      "Error processing SMILES: nan - No registered converter was able to produce a C++ rvalue of type std::__1::basic_string<wchar_t, std::__1::char_traits<wchar_t>, std::__1::allocator<wchar_t>> from this Python object of type float\n",
      "Error processing SMILES: nan - No registered converter was able to produce a C++ rvalue of type std::__1::basic_string<wchar_t, std::__1::char_traits<wchar_t>, std::__1::allocator<wchar_t>> from this Python object of type float\n",
      "Error processing SMILES: nan - No registered converter was able to produce a C++ rvalue of type std::__1::basic_string<wchar_t, std::__1::char_traits<wchar_t>, std::__1::allocator<wchar_t>> from this Python object of type float\n",
      "Error processing SMILES: nan - No registered converter was able to produce a C++ rvalue of type std::__1::basic_string<wchar_t, std::__1::char_traits<wchar_t>, std::__1::allocator<wchar_t>> from this Python object of type float\n",
      "Error processing SMILES: nan - No registered converter was able to produce a C++ rvalue of type std::__1::basic_string<wchar_t, std::__1::char_traits<wchar_t>, std::__1::allocator<wchar_t>> from this Python object of type float\n",
      "Error processing SMILES: nan - No registered converter was able to produce a C++ rvalue of type std::__1::basic_string<wchar_t, std::__1::char_traits<wchar_t>, std::__1::allocator<wchar_t>> from this Python object of type float\n",
      "Error processing SMILES: nan - No registered converter was able to produce a C++ rvalue of type std::__1::basic_string<wchar_t, std::__1::char_traits<wchar_t>, std::__1::allocator<wchar_t>> from this Python object of type float\n",
      "Error processing SMILES: nan - No registered converter was able to produce a C++ rvalue of type std::__1::basic_string<wchar_t, std::__1::char_traits<wchar_t>, std::__1::allocator<wchar_t>> from this Python object of type float\n",
      "Error processing SMILES: nan - No registered converter was able to produce a C++ rvalue of type std::__1::basic_string<wchar_t, std::__1::char_traits<wchar_t>, std::__1::allocator<wchar_t>> from this Python object of type float\n",
      "Error processing SMILES: nan - No registered converter was able to produce a C++ rvalue of type std::__1::basic_string<wchar_t, std::__1::char_traits<wchar_t>, std::__1::allocator<wchar_t>> from this Python object of type float\n",
      "Error processing SMILES: nan - No registered converter was able to produce a C++ rvalue of type std::__1::basic_string<wchar_t, std::__1::char_traits<wchar_t>, std::__1::allocator<wchar_t>> from this Python object of type float\n",
      "Error processing SMILES: nan - No registered converter was able to produce a C++ rvalue of type std::__1::basic_string<wchar_t, std::__1::char_traits<wchar_t>, std::__1::allocator<wchar_t>> from this Python object of type float\n",
      "Error processing SMILES: nan - No registered converter was able to produce a C++ rvalue of type std::__1::basic_string<wchar_t, std::__1::char_traits<wchar_t>, std::__1::allocator<wchar_t>> from this Python object of type float\n",
      "Error processing SMILES: nan - No registered converter was able to produce a C++ rvalue of type std::__1::basic_string<wchar_t, std::__1::char_traits<wchar_t>, std::__1::allocator<wchar_t>> from this Python object of type float\n",
      "Error processing SMILES: nan - No registered converter was able to produce a C++ rvalue of type std::__1::basic_string<wchar_t, std::__1::char_traits<wchar_t>, std::__1::allocator<wchar_t>> from this Python object of type float\n",
      "Error processing SMILES: nan - No registered converter was able to produce a C++ rvalue of type std::__1::basic_string<wchar_t, std::__1::char_traits<wchar_t>, std::__1::allocator<wchar_t>> from this Python object of type float\n",
      "Error processing SMILES: nan - No registered converter was able to produce a C++ rvalue of type std::__1::basic_string<wchar_t, std::__1::char_traits<wchar_t>, std::__1::allocator<wchar_t>> from this Python object of type float\n",
      "Error processing SMILES: nan - No registered converter was able to produce a C++ rvalue of type std::__1::basic_string<wchar_t, std::__1::char_traits<wchar_t>, std::__1::allocator<wchar_t>> from this Python object of type float\n",
      "Error processing SMILES: nan - No registered converter was able to produce a C++ rvalue of type std::__1::basic_string<wchar_t, std::__1::char_traits<wchar_t>, std::__1::allocator<wchar_t>> from this Python object of type float\n",
      "Error processing SMILES: nan - No registered converter was able to produce a C++ rvalue of type std::__1::basic_string<wchar_t, std::__1::char_traits<wchar_t>, std::__1::allocator<wchar_t>> from this Python object of type float\n",
      "Error processing SMILES: nan - No registered converter was able to produce a C++ rvalue of type std::__1::basic_string<wchar_t, std::__1::char_traits<wchar_t>, std::__1::allocator<wchar_t>> from this Python object of type float\n",
      "Error processing SMILES: nan - No registered converter was able to produce a C++ rvalue of type std::__1::basic_string<wchar_t, std::__1::char_traits<wchar_t>, std::__1::allocator<wchar_t>> from this Python object of type float\n",
      "Error processing SMILES: nan - No registered converter was able to produce a C++ rvalue of type std::__1::basic_string<wchar_t, std::__1::char_traits<wchar_t>, std::__1::allocator<wchar_t>> from this Python object of type float\n",
      "Error processing SMILES: nan - No registered converter was able to produce a C++ rvalue of type std::__1::basic_string<wchar_t, std::__1::char_traits<wchar_t>, std::__1::allocator<wchar_t>> from this Python object of type float\n",
      "Error processing SMILES: nan - No registered converter was able to produce a C++ rvalue of type std::__1::basic_string<wchar_t, std::__1::char_traits<wchar_t>, std::__1::allocator<wchar_t>> from this Python object of type float\n",
      "Error processing SMILES: nan - No registered converter was able to produce a C++ rvalue of type std::__1::basic_string<wchar_t, std::__1::char_traits<wchar_t>, std::__1::allocator<wchar_t>> from this Python object of type float\n",
      "Error processing SMILES: nan - No registered converter was able to produce a C++ rvalue of type std::__1::basic_string<wchar_t, std::__1::char_traits<wchar_t>, std::__1::allocator<wchar_t>> from this Python object of type float\n",
      "Error processing SMILES: nan - No registered converter was able to produce a C++ rvalue of type std::__1::basic_string<wchar_t, std::__1::char_traits<wchar_t>, std::__1::allocator<wchar_t>> from this Python object of type float\n",
      "Error processing SMILES: nan - No registered converter was able to produce a C++ rvalue of type std::__1::basic_string<wchar_t, std::__1::char_traits<wchar_t>, std::__1::allocator<wchar_t>> from this Python object of type float\n",
      "Error processing SMILES: nan - No registered converter was able to produce a C++ rvalue of type std::__1::basic_string<wchar_t, std::__1::char_traits<wchar_t>, std::__1::allocator<wchar_t>> from this Python object of type float\n",
      "Error processing SMILES: nan - No registered converter was able to produce a C++ rvalue of type std::__1::basic_string<wchar_t, std::__1::char_traits<wchar_t>, std::__1::allocator<wchar_t>> from this Python object of type float\n",
      "Error processing SMILES: nan - No registered converter was able to produce a C++ rvalue of type std::__1::basic_string<wchar_t, std::__1::char_traits<wchar_t>, std::__1::allocator<wchar_t>> from this Python object of type float\n",
      "Error processing SMILES: nan - No registered converter was able to produce a C++ rvalue of type std::__1::basic_string<wchar_t, std::__1::char_traits<wchar_t>, std::__1::allocator<wchar_t>> from this Python object of type float\n",
      "Error processing SMILES: nan - No registered converter was able to produce a C++ rvalue of type std::__1::basic_string<wchar_t, std::__1::char_traits<wchar_t>, std::__1::allocator<wchar_t>> from this Python object of type float\n",
      "Error processing SMILES: nan - No registered converter was able to produce a C++ rvalue of type std::__1::basic_string<wchar_t, std::__1::char_traits<wchar_t>, std::__1::allocator<wchar_t>> from this Python object of type float\n",
      "Error processing SMILES: nan - No registered converter was able to produce a C++ rvalue of type std::__1::basic_string<wchar_t, std::__1::char_traits<wchar_t>, std::__1::allocator<wchar_t>> from this Python object of type float\n",
      "Error processing SMILES: nan - No registered converter was able to produce a C++ rvalue of type std::__1::basic_string<wchar_t, std::__1::char_traits<wchar_t>, std::__1::allocator<wchar_t>> from this Python object of type float\n",
      "Error processing SMILES: nan - No registered converter was able to produce a C++ rvalue of type std::__1::basic_string<wchar_t, std::__1::char_traits<wchar_t>, std::__1::allocator<wchar_t>> from this Python object of type float\n",
      "Error processing SMILES: nan - No registered converter was able to produce a C++ rvalue of type std::__1::basic_string<wchar_t, std::__1::char_traits<wchar_t>, std::__1::allocator<wchar_t>> from this Python object of type float\n",
      "Error processing SMILES: nan - No registered converter was able to produce a C++ rvalue of type std::__1::basic_string<wchar_t, std::__1::char_traits<wchar_t>, std::__1::allocator<wchar_t>> from this Python object of type float\n",
      "Error processing SMILES: nan - No registered converter was able to produce a C++ rvalue of type std::__1::basic_string<wchar_t, std::__1::char_traits<wchar_t>, std::__1::allocator<wchar_t>> from this Python object of type float\n",
      "Error processing SMILES: nan - No registered converter was able to produce a C++ rvalue of type std::__1::basic_string<wchar_t, std::__1::char_traits<wchar_t>, std::__1::allocator<wchar_t>> from this Python object of type float\n",
      "Error processing SMILES: nan - No registered converter was able to produce a C++ rvalue of type std::__1::basic_string<wchar_t, std::__1::char_traits<wchar_t>, std::__1::allocator<wchar_t>> from this Python object of type float\n",
      "Error processing SMILES: nan - No registered converter was able to produce a C++ rvalue of type std::__1::basic_string<wchar_t, std::__1::char_traits<wchar_t>, std::__1::allocator<wchar_t>> from this Python object of type float\n",
      "Error processing SMILES: nan - No registered converter was able to produce a C++ rvalue of type std::__1::basic_string<wchar_t, std::__1::char_traits<wchar_t>, std::__1::allocator<wchar_t>> from this Python object of type float\n",
      "Error processing SMILES: nan - No registered converter was able to produce a C++ rvalue of type std::__1::basic_string<wchar_t, std::__1::char_traits<wchar_t>, std::__1::allocator<wchar_t>> from this Python object of type float\n",
      "Error processing SMILES: nan - No registered converter was able to produce a C++ rvalue of type std::__1::basic_string<wchar_t, std::__1::char_traits<wchar_t>, std::__1::allocator<wchar_t>> from this Python object of type float\n",
      "Error processing SMILES: nan - No registered converter was able to produce a C++ rvalue of type std::__1::basic_string<wchar_t, std::__1::char_traits<wchar_t>, std::__1::allocator<wchar_t>> from this Python object of type float\n",
      "Error processing SMILES: nan - No registered converter was able to produce a C++ rvalue of type std::__1::basic_string<wchar_t, std::__1::char_traits<wchar_t>, std::__1::allocator<wchar_t>> from this Python object of type float\n",
      "Error processing SMILES: nan - No registered converter was able to produce a C++ rvalue of type std::__1::basic_string<wchar_t, std::__1::char_traits<wchar_t>, std::__1::allocator<wchar_t>> from this Python object of type float\n",
      "Error processing SMILES: nan - No registered converter was able to produce a C++ rvalue of type std::__1::basic_string<wchar_t, std::__1::char_traits<wchar_t>, std::__1::allocator<wchar_t>> from this Python object of type float\n",
      "Error processing SMILES: nan - No registered converter was able to produce a C++ rvalue of type std::__1::basic_string<wchar_t, std::__1::char_traits<wchar_t>, std::__1::allocator<wchar_t>> from this Python object of type float\n",
      "Error processing SMILES: nan - No registered converter was able to produce a C++ rvalue of type std::__1::basic_string<wchar_t, std::__1::char_traits<wchar_t>, std::__1::allocator<wchar_t>> from this Python object of type float\n",
      "Error processing SMILES: nan - No registered converter was able to produce a C++ rvalue of type std::__1::basic_string<wchar_t, std::__1::char_traits<wchar_t>, std::__1::allocator<wchar_t>> from this Python object of type float\n",
      "Error processing SMILES: nan - No registered converter was able to produce a C++ rvalue of type std::__1::basic_string<wchar_t, std::__1::char_traits<wchar_t>, std::__1::allocator<wchar_t>> from this Python object of type float\n",
      "Error processing SMILES: nan - No registered converter was able to produce a C++ rvalue of type std::__1::basic_string<wchar_t, std::__1::char_traits<wchar_t>, std::__1::allocator<wchar_t>> from this Python object of type float\n",
      "Error processing SMILES: nan - No registered converter was able to produce a C++ rvalue of type std::__1::basic_string<wchar_t, std::__1::char_traits<wchar_t>, std::__1::allocator<wchar_t>> from this Python object of type float\n",
      "Error processing SMILES: nan - No registered converter was able to produce a C++ rvalue of type std::__1::basic_string<wchar_t, std::__1::char_traits<wchar_t>, std::__1::allocator<wchar_t>> from this Python object of type float\n",
      "Error processing SMILES: nan - No registered converter was able to produce a C++ rvalue of type std::__1::basic_string<wchar_t, std::__1::char_traits<wchar_t>, std::__1::allocator<wchar_t>> from this Python object of type float\n",
      "Error processing SMILES: nan - No registered converter was able to produce a C++ rvalue of type std::__1::basic_string<wchar_t, std::__1::char_traits<wchar_t>, std::__1::allocator<wchar_t>> from this Python object of type float\n",
      "Error processing SMILES: nan - No registered converter was able to produce a C++ rvalue of type std::__1::basic_string<wchar_t, std::__1::char_traits<wchar_t>, std::__1::allocator<wchar_t>> from this Python object of type float\n",
      "Error processing SMILES: nan - No registered converter was able to produce a C++ rvalue of type std::__1::basic_string<wchar_t, std::__1::char_traits<wchar_t>, std::__1::allocator<wchar_t>> from this Python object of type float\n",
      "Error processing SMILES: nan - No registered converter was able to produce a C++ rvalue of type std::__1::basic_string<wchar_t, std::__1::char_traits<wchar_t>, std::__1::allocator<wchar_t>> from this Python object of type float\n",
      "Error processing SMILES: nan - No registered converter was able to produce a C++ rvalue of type std::__1::basic_string<wchar_t, std::__1::char_traits<wchar_t>, std::__1::allocator<wchar_t>> from this Python object of type float\n",
      "Error processing SMILES: nan - No registered converter was able to produce a C++ rvalue of type std::__1::basic_string<wchar_t, std::__1::char_traits<wchar_t>, std::__1::allocator<wchar_t>> from this Python object of type float\n",
      "Error processing SMILES: nan - No registered converter was able to produce a C++ rvalue of type std::__1::basic_string<wchar_t, std::__1::char_traits<wchar_t>, std::__1::allocator<wchar_t>> from this Python object of type float\n",
      "Error processing SMILES: nan - No registered converter was able to produce a C++ rvalue of type std::__1::basic_string<wchar_t, std::__1::char_traits<wchar_t>, std::__1::allocator<wchar_t>> from this Python object of type float\n",
      "Error processing SMILES: nan - No registered converter was able to produce a C++ rvalue of type std::__1::basic_string<wchar_t, std::__1::char_traits<wchar_t>, std::__1::allocator<wchar_t>> from this Python object of type float\n",
      "Error processing SMILES: nan - No registered converter was able to produce a C++ rvalue of type std::__1::basic_string<wchar_t, std::__1::char_traits<wchar_t>, std::__1::allocator<wchar_t>> from this Python object of type float\n",
      "Error processing SMILES: nan - No registered converter was able to produce a C++ rvalue of type std::__1::basic_string<wchar_t, std::__1::char_traits<wchar_t>, std::__1::allocator<wchar_t>> from this Python object of type float\n",
      "Error processing SMILES: nan - No registered converter was able to produce a C++ rvalue of type std::__1::basic_string<wchar_t, std::__1::char_traits<wchar_t>, std::__1::allocator<wchar_t>> from this Python object of type float\n",
      "Error processing SMILES: nan - No registered converter was able to produce a C++ rvalue of type std::__1::basic_string<wchar_t, std::__1::char_traits<wchar_t>, std::__1::allocator<wchar_t>> from this Python object of type float\n",
      "Error processing SMILES: nan - No registered converter was able to produce a C++ rvalue of type std::__1::basic_string<wchar_t, std::__1::char_traits<wchar_t>, std::__1::allocator<wchar_t>> from this Python object of type float\n",
      "Error processing SMILES: nan - No registered converter was able to produce a C++ rvalue of type std::__1::basic_string<wchar_t, std::__1::char_traits<wchar_t>, std::__1::allocator<wchar_t>> from this Python object of type float\n"
     ]
    },
    {
     "ename": "ValueError",
     "evalue": "Length of values (0) does not match length of index (260)",
     "output_type": "error",
     "traceback": [
      "\u001b[0;31m---------------------------------------------------------------------------\u001b[0m",
      "\u001b[0;31mValueError\u001b[0m                                Traceback (most recent call last)",
      "Cell \u001b[0;32mIn[113], line 19\u001b[0m\n\u001b[1;32m     16\u001b[0m         _, predicted \u001b[38;5;241m=\u001b[39m torch\u001b[38;5;241m.\u001b[39mmax(output, dim\u001b[38;5;241m=\u001b[39m\u001b[38;5;241m1\u001b[39m)\n\u001b[1;32m     17\u001b[0m         predictions\u001b[38;5;241m.\u001b[39mappend(predicted\u001b[38;5;241m.\u001b[39mitem())\n\u001b[0;32m---> 19\u001b[0m \u001b[43mdf\u001b[49m\u001b[43m[\u001b[49m\u001b[38;5;124;43m'\u001b[39;49m\u001b[38;5;124;43mPredicted Label\u001b[39;49m\u001b[38;5;124;43m'\u001b[39;49m\u001b[43m]\u001b[49m \u001b[38;5;241m=\u001b[39m predictions\n\u001b[1;32m     21\u001b[0m df\u001b[38;5;241m.\u001b[39mto_csv(\u001b[38;5;124m'\u001b[39m\u001b[38;5;124mnicotine_derivatives_with_predictions.csv\u001b[39m\u001b[38;5;124m'\u001b[39m, index\u001b[38;5;241m=\u001b[39m\u001b[38;5;28;01mFalse\u001b[39;00m)\n\u001b[1;32m     23\u001b[0m total \u001b[38;5;241m=\u001b[39m \u001b[38;5;28mlen\u001b[39m(df)\n",
      "File \u001b[0;32m~/opt/anaconda3/envs/cs229/lib/python3.10/site-packages/pandas/core/frame.py:4311\u001b[0m, in \u001b[0;36mDataFrame.__setitem__\u001b[0;34m(self, key, value)\u001b[0m\n\u001b[1;32m   4308\u001b[0m     \u001b[38;5;28mself\u001b[39m\u001b[38;5;241m.\u001b[39m_setitem_array([key], value)\n\u001b[1;32m   4309\u001b[0m \u001b[38;5;28;01melse\u001b[39;00m:\n\u001b[1;32m   4310\u001b[0m     \u001b[38;5;66;03m# set column\u001b[39;00m\n\u001b[0;32m-> 4311\u001b[0m     \u001b[38;5;28;43mself\u001b[39;49m\u001b[38;5;241;43m.\u001b[39;49m\u001b[43m_set_item\u001b[49m\u001b[43m(\u001b[49m\u001b[43mkey\u001b[49m\u001b[43m,\u001b[49m\u001b[43m \u001b[49m\u001b[43mvalue\u001b[49m\u001b[43m)\u001b[49m\n",
      "File \u001b[0;32m~/opt/anaconda3/envs/cs229/lib/python3.10/site-packages/pandas/core/frame.py:4524\u001b[0m, in \u001b[0;36mDataFrame._set_item\u001b[0;34m(self, key, value)\u001b[0m\n\u001b[1;32m   4514\u001b[0m \u001b[38;5;28;01mdef\u001b[39;00m \u001b[38;5;21m_set_item\u001b[39m(\u001b[38;5;28mself\u001b[39m, key, value) \u001b[38;5;241m-\u001b[39m\u001b[38;5;241m>\u001b[39m \u001b[38;5;28;01mNone\u001b[39;00m:\n\u001b[1;32m   4515\u001b[0m \u001b[38;5;250m    \u001b[39m\u001b[38;5;124;03m\"\"\"\u001b[39;00m\n\u001b[1;32m   4516\u001b[0m \u001b[38;5;124;03m    Add series to DataFrame in specified column.\u001b[39;00m\n\u001b[1;32m   4517\u001b[0m \n\u001b[0;32m   (...)\u001b[0m\n\u001b[1;32m   4522\u001b[0m \u001b[38;5;124;03m    ensure homogeneity.\u001b[39;00m\n\u001b[1;32m   4523\u001b[0m \u001b[38;5;124;03m    \"\"\"\u001b[39;00m\n\u001b[0;32m-> 4524\u001b[0m     value, refs \u001b[38;5;241m=\u001b[39m \u001b[38;5;28;43mself\u001b[39;49m\u001b[38;5;241;43m.\u001b[39;49m\u001b[43m_sanitize_column\u001b[49m\u001b[43m(\u001b[49m\u001b[43mvalue\u001b[49m\u001b[43m)\u001b[49m\n\u001b[1;32m   4526\u001b[0m     \u001b[38;5;28;01mif\u001b[39;00m (\n\u001b[1;32m   4527\u001b[0m         key \u001b[38;5;129;01min\u001b[39;00m \u001b[38;5;28mself\u001b[39m\u001b[38;5;241m.\u001b[39mcolumns\n\u001b[1;32m   4528\u001b[0m         \u001b[38;5;129;01mand\u001b[39;00m value\u001b[38;5;241m.\u001b[39mndim \u001b[38;5;241m==\u001b[39m \u001b[38;5;241m1\u001b[39m\n\u001b[1;32m   4529\u001b[0m         \u001b[38;5;129;01mand\u001b[39;00m \u001b[38;5;129;01mnot\u001b[39;00m \u001b[38;5;28misinstance\u001b[39m(value\u001b[38;5;241m.\u001b[39mdtype, ExtensionDtype)\n\u001b[1;32m   4530\u001b[0m     ):\n\u001b[1;32m   4531\u001b[0m         \u001b[38;5;66;03m# broadcast across multiple columns if necessary\u001b[39;00m\n\u001b[1;32m   4532\u001b[0m         \u001b[38;5;28;01mif\u001b[39;00m \u001b[38;5;129;01mnot\u001b[39;00m \u001b[38;5;28mself\u001b[39m\u001b[38;5;241m.\u001b[39mcolumns\u001b[38;5;241m.\u001b[39mis_unique \u001b[38;5;129;01mor\u001b[39;00m \u001b[38;5;28misinstance\u001b[39m(\u001b[38;5;28mself\u001b[39m\u001b[38;5;241m.\u001b[39mcolumns, MultiIndex):\n",
      "File \u001b[0;32m~/opt/anaconda3/envs/cs229/lib/python3.10/site-packages/pandas/core/frame.py:5266\u001b[0m, in \u001b[0;36mDataFrame._sanitize_column\u001b[0;34m(self, value)\u001b[0m\n\u001b[1;32m   5263\u001b[0m     \u001b[38;5;28;01mreturn\u001b[39;00m _reindex_for_setitem(value, \u001b[38;5;28mself\u001b[39m\u001b[38;5;241m.\u001b[39mindex)\n\u001b[1;32m   5265\u001b[0m \u001b[38;5;28;01mif\u001b[39;00m is_list_like(value):\n\u001b[0;32m-> 5266\u001b[0m     \u001b[43mcom\u001b[49m\u001b[38;5;241;43m.\u001b[39;49m\u001b[43mrequire_length_match\u001b[49m\u001b[43m(\u001b[49m\u001b[43mvalue\u001b[49m\u001b[43m,\u001b[49m\u001b[43m \u001b[49m\u001b[38;5;28;43mself\u001b[39;49m\u001b[38;5;241;43m.\u001b[39;49m\u001b[43mindex\u001b[49m\u001b[43m)\u001b[49m\n\u001b[1;32m   5267\u001b[0m arr \u001b[38;5;241m=\u001b[39m sanitize_array(value, \u001b[38;5;28mself\u001b[39m\u001b[38;5;241m.\u001b[39mindex, copy\u001b[38;5;241m=\u001b[39m\u001b[38;5;28;01mTrue\u001b[39;00m, allow_2d\u001b[38;5;241m=\u001b[39m\u001b[38;5;28;01mTrue\u001b[39;00m)\n\u001b[1;32m   5268\u001b[0m \u001b[38;5;28;01mif\u001b[39;00m (\n\u001b[1;32m   5269\u001b[0m     \u001b[38;5;28misinstance\u001b[39m(value, Index)\n\u001b[1;32m   5270\u001b[0m     \u001b[38;5;129;01mand\u001b[39;00m value\u001b[38;5;241m.\u001b[39mdtype \u001b[38;5;241m==\u001b[39m \u001b[38;5;124m\"\u001b[39m\u001b[38;5;124mobject\u001b[39m\u001b[38;5;124m\"\u001b[39m\n\u001b[0;32m   (...)\u001b[0m\n\u001b[1;32m   5273\u001b[0m     \u001b[38;5;66;03m# TODO: Remove kludge in sanitize_array for string mode when enforcing\u001b[39;00m\n\u001b[1;32m   5274\u001b[0m     \u001b[38;5;66;03m# this deprecation\u001b[39;00m\n",
      "File \u001b[0;32m~/opt/anaconda3/envs/cs229/lib/python3.10/site-packages/pandas/core/common.py:573\u001b[0m, in \u001b[0;36mrequire_length_match\u001b[0;34m(data, index)\u001b[0m\n\u001b[1;32m    569\u001b[0m \u001b[38;5;250m\u001b[39m\u001b[38;5;124;03m\"\"\"\u001b[39;00m\n\u001b[1;32m    570\u001b[0m \u001b[38;5;124;03mCheck the length of data matches the length of the index.\u001b[39;00m\n\u001b[1;32m    571\u001b[0m \u001b[38;5;124;03m\"\"\"\u001b[39;00m\n\u001b[1;32m    572\u001b[0m \u001b[38;5;28;01mif\u001b[39;00m \u001b[38;5;28mlen\u001b[39m(data) \u001b[38;5;241m!=\u001b[39m \u001b[38;5;28mlen\u001b[39m(index):\n\u001b[0;32m--> 573\u001b[0m     \u001b[38;5;28;01mraise\u001b[39;00m \u001b[38;5;167;01mValueError\u001b[39;00m(\n\u001b[1;32m    574\u001b[0m         \u001b[38;5;124m\"\u001b[39m\u001b[38;5;124mLength of values \u001b[39m\u001b[38;5;124m\"\u001b[39m\n\u001b[1;32m    575\u001b[0m         \u001b[38;5;124mf\u001b[39m\u001b[38;5;124m\"\u001b[39m\u001b[38;5;124m(\u001b[39m\u001b[38;5;132;01m{\u001b[39;00m\u001b[38;5;28mlen\u001b[39m(data)\u001b[38;5;132;01m}\u001b[39;00m\u001b[38;5;124m) \u001b[39m\u001b[38;5;124m\"\u001b[39m\n\u001b[1;32m    576\u001b[0m         \u001b[38;5;124m\"\u001b[39m\u001b[38;5;124mdoes not match length of index \u001b[39m\u001b[38;5;124m\"\u001b[39m\n\u001b[1;32m    577\u001b[0m         \u001b[38;5;124mf\u001b[39m\u001b[38;5;124m\"\u001b[39m\u001b[38;5;124m(\u001b[39m\u001b[38;5;132;01m{\u001b[39;00m\u001b[38;5;28mlen\u001b[39m(index)\u001b[38;5;132;01m}\u001b[39;00m\u001b[38;5;124m)\u001b[39m\u001b[38;5;124m\"\u001b[39m\n\u001b[1;32m    578\u001b[0m     )\n",
      "\u001b[0;31mValueError\u001b[0m: Length of values (0) does not match length of index (260)"
     ]
    }
   ],
   "source": [
    "df = pd.read_csv('cleaned_nicotine_derivatives_with_smiles.csv')\n",
    "nicotine_smiles = df['SMILES']\n",
    "\n",
    "nicotine_graphs = [graph for graph in [smiles_to_graph(smile) for smile in nicotine_smiles] if graph is not None]\n",
    "\n",
    "model_path = 'gnn_model.pth'\n",
    "model = GNNModel(num_node_features=26, hidden_dim=128, output_dim=2)\n",
    "model.load_state_dict(torch.load(model_path))\n",
    "model.eval()\n",
    "\n",
    "predictions = []\n",
    "\n",
    "with torch.no_grad():\n",
    "    for graph in nicotine_graphs:\n",
    "        output = model(graph)\n",
    "        _, predicted = torch.max(output, dim=1)\n",
    "        predictions.append(predicted.item())\n",
    "\n",
    "df['Predicted Label'] = predictions\n",
    "\n",
    "df.to_csv('nicotine_derivatives_with_predictions.csv', index=False)\n",
    "\n",
    "total = len(df)\n",
    "predicted_count = len(predictions)\n",
    "print(f\"Total rows: {total}\")\n",
    "print(f\"Predictions made: {predicted_count}\")\n",
    "print(f\"Updated CSV saved with predictions.\")"
   ]
  }
 ],
 "metadata": {
  "kernelspec": {
   "display_name": "cs229",
   "language": "python",
   "name": "python3"
  },
  "language_info": {
   "codemirror_mode": {
    "name": "ipython",
    "version": 3
   },
   "file_extension": ".py",
   "mimetype": "text/x-python",
   "name": "python",
   "nbconvert_exporter": "python",
   "pygments_lexer": "ipython3",
   "version": "3.10.15"
  }
 },
 "nbformat": 4,
 "nbformat_minor": 2
}
