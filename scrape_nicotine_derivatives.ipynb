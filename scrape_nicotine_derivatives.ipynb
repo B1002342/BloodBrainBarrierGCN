{
 "cells": [
  {
   "cell_type": "code",
   "execution_count": 11,
   "metadata": {},
   "outputs": [],
   "source": [
    "import requests\n",
    "from bs4 import BeautifulSoup\n",
    "import json\n",
    "import re\n",
    "import csv"
   ]
  },
  {
   "cell_type": "code",
   "execution_count": 12,
   "metadata": {},
   "outputs": [
    {
     "name": "stdout",
     "output_type": "stream",
     "text": [
      "json_ld is a dictionary\n",
      "{\n",
      "  \"@context\": \"http://schema.org\",\n",
      "  \"@type\": \"WebSite\",\n",
      "  \"url\": \"https://cymitquimica.com\",\n",
      "  \"dateModified\": \"2019-02-15T00:00\",\n",
      "  \"image\": \"https://static.cymitquimica.com/public/img/logo-cymit.png\",\n",
      "  \"potentialAction\": {\n",
      "    \"@type\": \"SearchAction\",\n",
      "    \"target\": \"https://cymitquimica.com/search/{search_term_string}/\",\n",
      "    \"query-input\": \"required name=search_term_string\"\n",
      "  },\n",
      "  \"sameAs\": [\n",
      "    \"https://www.facebook.com/cymitquimica/\",\n",
      "    \"https://twitter.com/cymitquimica\",\n",
      "    \"https://es.linkedin.com/company/cymit-quimica-s-l-\",\n",
      "    \"https://www.instagram.com/cymitquimica/\",\n",
      "    \"https://www.pinterest.es/cymit/\",\n",
      "    \"https://cymit.tumblr.com/\"\n",
      "  ]\n",
      "}\n"
     ]
    }
   ],
   "source": [
    "\n",
    "url = \"https://cymitquimica.com/categories/1828/nicotine-and-nicotine-derivatives/?srsltid=AfmBOor5CHkEY17td7i8alPNqfsjPX-VKsd6igxeoJFVzukYf576WD9_\"\n",
    "response = requests.get(url)\n",
    "\n",
    "soup = BeautifulSoup(response.content, 'html.parser')\n",
    "\n",
    "json_ld = None\n",
    "for script in soup.find_all('script', type='application/ld+json'):\n",
    "    try:\n",
    "        json_ld = json.loads(script.string)\n",
    "        break\n",
    "    except json.JSONDecodeError as e:\n",
    "        print(f\"Error decoding JSON: {e}\")\n",
    "        continue\n",
    "\n",
    "if json_ld:\n",
    "    if isinstance(json_ld, dict):\n",
    "        print(\"json_ld is a dictionary\")\n",
    "        print(json.dumps(json_ld, indent=2))\n",
    "    else:\n",
    "        print(f\"Unexpected JSON-LD structure: {type(json_ld)}\")\n",
    "else:\n",
    "    print(\"No valid JSON-LD found\")\n"
   ]
  },
  {
   "cell_type": "code",
   "execution_count": 13,
   "metadata": {},
   "outputs": [
    {
     "name": "stdout",
     "output_type": "stream",
     "text": [
      "https://example.com/products/IN-DA00DBPO/494-97-3/nornicotine-dl-rg/\n",
      "https://example.com/products/IN-DA0034OC/485-35-8/15-methano-8h-pyrido12-a15diazocin-8-one-123456-hexahydro-1r5s/\n",
      "https://example.com/products/IN-DA00IIQD/95091-91-1/3-pyridinecarboxamide-n-methoxy-n-methyl/\n",
      "https://example.com/products/IN-DA003EIR/6456-44-6/4-iodo-1-methyl-12-dihydropyridine-3-carboxamide/\n",
      "https://example.com/products/IN-DA003S6S/532-12-7/3-34-dihydro-2h-pyrrol-5-ylpyridine/\n",
      "https://example.com/products/IN-DA0028CD/20260-53-1/3-pyridinecarbonyl-chloride-hydrochloride-11/\n",
      "https://example.com/products/IN-DA00BCE9/2743-90-0/rs-anatabine/\n",
      "https://example.com/products/IN-DA0033CY/609-71-2/2-hydroxynicotinic-acid/\n",
      "https://example.com/products/IN-DA00EEI3/59288-43-6/5-hydroxy-6-nitropyridine-3-carboxylic-acid/\n",
      "https://example.com/products/IN-DA00358E/5470-70-2/methyl-6-methylnicotinate/\n",
      "https://example.com/products/IN-DA0039B2/3562-11-6/nornicotine-2-carboxylic-acid/\n",
      "https://example.com/products/IN-DA0025JG/177785-14-7/3-pyridinecarboxylic-acid-2-chloromethyl-methyl-ester/\n",
      "https://example.com/products/IN-DA002Z3F/29681-45-6/3-pyridinecarboxylic-acid-5-methyl-methyl-ester/\n",
      "https://example.com/products/IN-DA005K29/6960-22-1/6-methylnicotinamide/\n",
      "https://example.com/products/IN-DA0021S6/1802-30-8/22-bipyridine-55-dicarboxylic-acid/\n",
      "https://example.com/products/TM-T10871/1215721-40-6/cp-809101-hydrochloride/\n",
      "https://example.com/products/IN-DA0010JW/132334-98-6/3-pyridinecarboxylic-acid-6-bromo-ethyl-ester/\n",
      "https://example.com/products/IN-DA0042XA/89690-09-5/n-methylbutane-14-diamine-dihydrochloride/\n",
      "https://example.com/products/IN-DA0032H0/494-52-0/3-2s-2-piperidinylpyridine/\n",
      "https://example.com/products/IN-DA00IK0C/98-92-0/3-pyridinecarboxamide/\n"
     ]
    }
   ],
   "source": [
    "response = requests.get(url)\n",
    "\n",
    "soup = BeautifulSoup(response.text, \"html.parser\")\n",
    "\n",
    "product_links = soup.find_all(\"a\", class_=\"js-product-link\")\n",
    "\n",
    "for link in product_links:\n",
    "    product_url = link.get(\"href\")\n",
    "    if product_url:\n",
    "        print(f\"https://example.com{product_url}\")\n"
   ]
  },
  {
   "cell_type": "code",
   "execution_count": 14,
   "metadata": {},
   "outputs": [],
   "source": [
    "def scrape_page(page_number):\n",
    "    url_new = url + str(page_number)\n",
    "    response = requests.get(url_new)\n",
    "    \n",
    "    if response.status_code == 200:\n",
    "        soup = BeautifulSoup(response.text, \"html.parser\")\n",
    "        product_links = soup.find_all(\"a\", class_=\"js-product-link\")\n",
    "        \n",
    "        for link in product_links:\n",
    "            product_url = link.get(\"href\")\n",
    "            if product_url:\n",
    "                # Extract last part (after the last \"/\")\n",
    "                last_part = product_url.strip(\"/\").split(\"/\")[-1]\n",
    "                product_urls.append(last_part)\n",
    "    else:\n",
    "        print(f\"Failed to retrieve page {page_number}\")"
   ]
  },
  {
   "cell_type": "code",
   "execution_count": 15,
   "metadata": {},
   "outputs": [
    {
     "name": "stdout",
     "output_type": "stream",
     "text": [
      "Scraping page 1...\n",
      "Scraping page 2...\n",
      "Scraping page 3...\n",
      "Scraping page 4...\n",
      "Scraping page 5...\n",
      "Scraping page 6...\n",
      "Scraping page 7...\n",
      "Scraping page 8...\n",
      "Scraping page 9...\n",
      "Scraping page 10...\n",
      "Scraping page 11...\n",
      "Scraping page 12...\n",
      "Scraping page 13...\n",
      "Number of entries saved in nicotine_derivative_names.csv: 260\n"
     ]
    }
   ],
   "source": [
    "product_urls = []\n",
    "\n",
    "# Loop through all pages (adjust the range if needed)\n",
    "for page in range(1, 14):  # Adjust the range as needed\n",
    "    print(f\"Scraping page {page}...\")\n",
    "    scrape_page(page)\n",
    "\n",
    "# Save the results to a CSV file\n",
    "csv_filename = \"nicotine_derivative_names.csv\"\n",
    "with open(csv_filename, mode=\"w\", newline=\"\") as file:\n",
    "    writer = csv.writer(file)\n",
    "    writer.writerow([\"Nicotine Derivative Name\"])  # Write header\n",
    "    for url in product_urls:\n",
    "        writer.writerow([url])  # Write each product part\n",
    "\n",
    "# Print the number of entries in the CSV file\n",
    "print(f\"Number of entries saved in {csv_filename}: {len(product_urls)}\")"
   ]
  },
  {
   "cell_type": "code",
   "execution_count": 16,
   "metadata": {},
   "outputs": [],
   "source": [
    "import cirpy\n",
    "from pubchempy import get_compounds\n",
    "import pandas as pd\n",
    "from tqdm.notebook import tqdm_notebook\n",
    "import openbabel\n",
    "from rdkit import Chem\n",
    "from chemspipy import ChemSpider"
   ]
  },
  {
   "cell_type": "code",
   "execution_count": 17,
   "metadata": {},
   "outputs": [],
   "source": [
    "def name_to_smiles_pubchem(name):\n",
    "    try:\n",
    "        compounds = get_compounds(name, 'name')\n",
    "        if compounds:\n",
    "            return compounds[0].canonical_smiles\n",
    "    except:\n",
    "        pass\n",
    "    return None\n",
    "\n",
    "def name_to_smiles_cirpy(name):\n",
    "    try:\n",
    "        smiles = cirpy.resolve(name, 'smiles')\n",
    "        if smiles:\n",
    "            return smiles\n",
    "    except:\n",
    "        pass\n",
    "    return None"
   ]
  },
  {
   "cell_type": "code",
   "execution_count": 18,
   "metadata": {},
   "outputs": [],
   "source": [
    "def name_to_smiles(name):\n",
    "    smiles = name_to_smiles_pubchem(name)\n",
    "    if smiles:\n",
    "        return smiles\n",
    "    \n",
    "    smiles = name_to_smiles_cirpy(name)\n",
    "    if smiles:\n",
    "        return smiles\n",
    "    \n",
    "    return None"
   ]
  },
  {
   "cell_type": "code",
   "execution_count": null,
   "metadata": {},
   "outputs": [
    {
     "name": "stdout",
     "output_type": "stream",
     "text": [
      "Index(['Nicotine Derivative Name'], dtype='object')\n"
     ]
    },
    {
     "data": {
      "application/vnd.jupyter.widget-view+json": {
       "model_id": "2e60687ad6154fc7b682b8dd9de99585",
       "version_major": 2,
       "version_minor": 0
      },
      "text/plain": [
       "  0%|          | 0/260 [00:00<?, ?it/s]"
      ]
     },
     "metadata": {},
     "output_type": "display_data"
    },
    {
     "name": "stdout",
     "output_type": "stream",
     "text": [
      "                        Nicotine Derivative Name  \\\n",
      "7                        2-hydroxynicotinic-acid   \n",
      "8    5-hydroxy-6-nitropyridine-3-carboxylic-acid   \n",
      "9                      methyl-6-methylnicotinate   \n",
      "10                 nornicotine-2-carboxylic-acid   \n",
      "13                          6-methylnicotinamide   \n",
      "..                                           ...   \n",
      "249                    methyl-6-methylnicotinate   \n",
      "250                nornicotine-2-carboxylic-acid   \n",
      "253                         6-methylnicotinamide   \n",
      "255                      cp-809101-hydrochloride   \n",
      "259                        3-pyridinecarboxamide   \n",
      "\n",
      "                                          SMILES  \n",
      "7                         C1=CNC(=O)C(=C1)C(=O)O  \n",
      "8                OC(=O)c1cnc(c(O)c1)[N+]([O-])=O  \n",
      "9                          CC1=NC=C(C=C1)C(=O)OC  \n",
      "10                    C1CC(NC1C2=CN=CC=C2)C(=O)O  \n",
      "13                          CC1=NC=C(C=C1)C(=O)N  \n",
      "..                                           ...  \n",
      "249                        CC1=NC=C(C=C1)C(=O)OC  \n",
      "250                   C1CC(NC1C2=CN=CC=C2)C(=O)O  \n",
      "253                         CC1=NC=C(C=C1)C(=O)N  \n",
      "255  C1CN(CCN1)C2=CN=CC(=N2)OCC3=CC(=CC=C3)Cl.Cl  \n",
      "259                          C1=CC(=CN=C1)C(=O)N  \n",
      "\n",
      "[91 rows x 2 columns]\n",
      "Total compounds: 91\n",
      "Successfully converted: 91\n",
      "Conversion rate: 100.00%\n"
     ]
    }
   ],
   "source": [
    "df = pd.read_csv('nicotine_derivative_names.csv')\n",
    "print(df.columns)\n",
    "\n",
    "tqdm_notebook.pandas()\n",
    "df['SMILES'] = df['Nicotine Derivative Name'].progress_apply(name_to_smiles)\n",
    "\n",
    "total = len(df)\n",
    "converted = df['SMILES'].notna().sum()\n",
    "print(f\"Total compounds: {total}\")\n",
    "print(f\"Successfully converted: {converted}\")\n",
    "print(f\"Conversion rate: {converted/total:.2%}\")\n",
    "\n",
    "df = df.dropna(subset=['SMILES'])\n",
    "print(df)\n",
    "\n",
    "df.to_csv('nicotine_derivatives_with_smiles.csv', index=False)"
   ]
  }
 ],
 "metadata": {
  "kernelspec": {
   "display_name": "cs229",
   "language": "python",
   "name": "python3"
  },
  "language_info": {
   "codemirror_mode": {
    "name": "ipython",
    "version": 3
   },
   "file_extension": ".py",
   "mimetype": "text/x-python",
   "name": "python",
   "nbconvert_exporter": "python",
   "pygments_lexer": "ipython3",
   "version": "3.10.15"
  }
 },
 "nbformat": 4,
 "nbformat_minor": 2
}
