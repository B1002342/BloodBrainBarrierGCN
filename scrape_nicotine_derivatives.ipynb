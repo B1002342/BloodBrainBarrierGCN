{
 "cells": [
  {
   "cell_type": "code",
   "execution_count": null,
   "metadata": {},
   "outputs": [],
   "source": []
  },
  {
   "cell_type": "code",
   "execution_count": 43,
   "metadata": {},
   "outputs": [],
   "source": [
    "import requests\n",
    "from bs4 import BeautifulSoup\n",
    "import json\n",
    "import re\n",
    "import csv\n",
    "import pandas as pd"
   ]
  },
  {
   "cell_type": "code",
   "execution_count": 44,
   "metadata": {},
   "outputs": [
    {
     "name": "stdout",
     "output_type": "stream",
     "text": [
      "json_ld is a dictionary\n",
      "{\n",
      "  \"@context\": \"http://schema.org\",\n",
      "  \"@type\": \"WebSite\",\n",
      "  \"url\": \"https://cymitquimica.com\",\n",
      "  \"dateModified\": \"2019-02-15T00:00\",\n",
      "  \"image\": \"https://static.cymitquimica.com/public/img/logo-cymit.png\",\n",
      "  \"potentialAction\": {\n",
      "    \"@type\": \"SearchAction\",\n",
      "    \"target\": \"https://cymitquimica.com/search/{search_term_string}/\",\n",
      "    \"query-input\": \"required name=search_term_string\"\n",
      "  },\n",
      "  \"sameAs\": [\n",
      "    \"https://www.facebook.com/cymitquimica/\",\n",
      "    \"https://twitter.com/cymitquimica\",\n",
      "    \"https://es.linkedin.com/company/cymit-quimica-s-l-\",\n",
      "    \"https://www.instagram.com/cymitquimica/\",\n",
      "    \"https://www.pinterest.es/cymit/\",\n",
      "    \"https://cymit.tumblr.com/\"\n",
      "  ]\n",
      "}\n"
     ]
    }
   ],
   "source": [
    "\n",
    "url = \"https://cymitquimica.com/categories/1828/nicotine-and-nicotine-derivatives/?srsltid=AfmBOor5CHkEY17td7i8alPNqfsjPX-VKsd6igxeoJFVzukYf576WD9_&page=\"\n",
    "response = requests.get(url)\n",
    "\n",
    "soup = BeautifulSoup(response.content, 'html.parser')\n",
    "\n",
    "json_ld = None\n",
    "for script in soup.find_all('script', type='application/ld+json'):\n",
    "    try:\n",
    "        json_ld = json.loads(script.string)\n",
    "        break\n",
    "    except json.JSONDecodeError as e:\n",
    "        print(f\"Error decoding JSON: {e}\")\n",
    "        continue\n",
    "\n",
    "if json_ld:\n",
    "    if isinstance(json_ld, dict):\n",
    "        print(\"json_ld is a dictionary\")\n",
    "        print(json.dumps(json_ld, indent=2))\n",
    "    else:\n",
    "        print(f\"Unexpected JSON-LD structure: {type(json_ld)}\")\n",
    "else:\n",
    "    print(\"No valid JSON-LD found\")\n"
   ]
  },
  {
   "cell_type": "code",
   "execution_count": 45,
   "metadata": {},
   "outputs": [],
   "source": [
    "response = requests.get(url)\n",
    "\n",
    "soup = BeautifulSoup(response.text, \"html.parser\")\n",
    "\n",
    "product_links = soup.find_all(\"a\", class_=\"js-product-link\")\n",
    "\n",
    "for link in product_links:\n",
    "    product_url = link.get(\"href\")\n",
    "    if product_url:\n",
    "        print(f\"https://example.com{product_url}\")\n"
   ]
  },
  {
   "cell_type": "code",
   "execution_count": 46,
   "metadata": {},
   "outputs": [
    {
     "name": "stdout",
     "output_type": "stream",
     "text": [
      "494-97-3\n",
      "485-35-8\n",
      "95091-91-1\n",
      "6456-44-6\n",
      "532-12-7\n",
      "20260-53-1\n",
      "2743-90-0\n",
      "609-71-2\n",
      "59288-43-6\n",
      "5470-70-2\n",
      "3562-11-6\n",
      "177785-14-7\n",
      "29681-45-6\n",
      "6960-22-1\n",
      "1802-30-8\n",
      "1215721-40-6\n",
      "132334-98-6\n",
      "89690-09-5\n",
      "494-52-0\n",
      "98-92-0\n",
      "494-97-3\n",
      "485-35-8\n",
      "95091-91-1\n",
      "6456-44-6\n",
      "532-12-7\n",
      "20260-53-1\n",
      "2743-90-0\n",
      "609-71-2\n",
      "59288-43-6\n",
      "5470-70-2\n",
      "3562-11-6\n",
      "177785-14-7\n",
      "29681-45-6\n",
      "6960-22-1\n",
      "1802-30-8\n",
      "1215721-40-6\n",
      "132334-98-6\n",
      "89690-09-5\n",
      "494-52-0\n",
      "98-92-0\n",
      "6197-39-3\n",
      "5398-44-7\n",
      "61445-55-4\n",
      "5006-66-6\n",
      "5746-86-1\n",
      "38496-18-3\n",
      "39178-35-3\n",
      "129747-52-0\n",
      "38806-38-1\n",
      "64091-91-4\n",
      "486-56-6\n",
      "1094-61-7\n",
      "27828-71-3\n",
      "78348-28-4\n",
      "66093-90-1\n",
      "1364663-27-3\n",
      "13190-97-1\n",
      "3222-56-8\n",
      "1986-81-8\n",
      "90872-72-3\n",
      "6197-39-3\n",
      "5398-44-7\n",
      "61445-55-4\n",
      "5006-66-6\n",
      "5746-86-1\n",
      "38496-18-3\n",
      "39178-35-3\n",
      "129747-52-0\n",
      "38806-38-1\n",
      "64091-91-4\n",
      "486-56-6\n",
      "1094-61-7\n",
      "27828-71-3\n",
      "78348-28-4\n",
      "66093-90-1\n",
      "1364663-27-3\n",
      "13190-97-1\n",
      "3222-56-8\n",
      "1986-81-8\n",
      "90872-72-3\n",
      "59578-62-0\n",
      "2047-49-6\n",
      "6311-35-9\n",
      "499-81-0\n",
      "7076-23-5\n",
      "614-00-6\n",
      "2004-06-0\n",
      "27247-34-3\n",
      "3569-99-1\n",
      "3222-47-7\n",
      "321-02-8\n",
      "13078-04-1\n",
      "1314217-69-0\n",
      "4314-66-3\n",
      "5176-27-2\n",
      "924-16-3\n",
      "1207384-47-1\n",
      "51095-86-4\n",
      "51020-67-8\n",
      "59578-62-0\n",
      "2047-49-6\n",
      "6311-35-9\n",
      "499-81-0\n",
      "7076-23-5\n",
      "614-00-6\n",
      "2004-06-0\n",
      "27247-34-3\n",
      "3569-99-1\n",
      "3222-47-7\n",
      "321-02-8\n",
      "13078-04-1\n",
      "1314217-69-0\n",
      "4314-66-3\n",
      "5176-27-2\n",
      "924-16-3\n",
      "1207384-47-1\n",
      "51095-86-4\n",
      "51020-67-8\n",
      "1216737-36-8\n",
      "5654-86-4\n",
      "491-26-9\n",
      "63551-14-4\n",
      "491-26-9\n",
      "3612-80-4\n",
      "98491-81-7\n",
      "54-11-5\n",
      "2743-90-0\n",
      "532-12-7\n",
      "3719-45-7\n",
      "701-44-0\n",
      "66148-19-4\n",
      "1219805-86-3\n",
      "69980-24-1\n",
      "501-81-5\n",
      "6419-36-9\n",
      "769-49-3\n",
      "5746-86-1\n",
      "1207384-48-2\n",
      "350818-69-8\n",
      "59-67-6\n",
      "1216737-36-8\n",
      "5654-86-4\n",
      "491-26-9\n",
      "63551-14-4\n",
      "491-26-9\n",
      "3612-80-4\n",
      "98491-81-7\n",
      "54-11-5\n",
      "2743-90-0\n",
      "532-12-7\n",
      "3719-45-7\n",
      "701-44-0\n",
      "66148-19-4\n",
      "1219805-86-3\n",
      "69980-24-1\n",
      "501-81-5\n",
      "6419-36-9\n",
      "769-49-3\n",
      "5746-86-1\n",
      "1207384-48-2\n",
      "350818-69-8\n",
      "59-67-6\n",
      "487-19-4\n",
      "66148-15-0\n",
      "94-44-0\n",
      "65550-28-9\n",
      "1020719-11-2\n",
      "5654-86-4\n",
      "153536-53-9\n",
      "138946-42-6\n",
      "51095-86-4\n",
      "887355-56-8\n",
      "2743-90-0\n",
      "25162-00-9\n",
      "487-19-4\n",
      "5746-86-1\n",
      "532-12-7\n",
      "125630-26-4\n",
      "491-26-9\n",
      "54-11-5\n",
      "494-52-0\n",
      "487-19-4\n",
      "66148-15-0\n",
      "94-44-0\n",
      "65550-28-9\n",
      "1020719-11-2\n",
      "5654-86-4\n",
      "153536-53-9\n",
      "138946-42-6\n",
      "51095-86-4\n",
      "887355-56-8\n",
      "2743-90-0\n",
      "25162-00-9\n",
      "487-19-4\n",
      "5746-86-1\n",
      "532-12-7\n",
      "125630-26-4\n",
      "491-26-9\n",
      "54-11-5\n",
      "494-52-0\n",
      "494-98-4\n",
      "16543-55-8\n",
      "2743-90-0\n",
      "51095-86-4\n",
      "2055-29-0\n",
      "17708-87-1\n",
      "13078-04-1\n",
      "66093-90-1\n",
      "486-56-6\n",
      "73057-36-0\n",
      "1824020-12-3\n",
      "494-97-3\n",
      "1060802-34-7\n",
      "535-83-1\n",
      "6138-41-6\n",
      "320386-54-7\n",
      "92761-98-3\n",
      "15268-31-2\n",
      "1393569-52-2\n",
      "29790-52-1\n",
      "60138-76-3\n",
      "494-98-4\n",
      "16543-55-8\n",
      "2743-90-0\n",
      "51095-86-4\n",
      "2055-29-0\n",
      "17708-87-1\n",
      "13078-04-1\n",
      "66093-90-1\n",
      "486-56-6\n",
      "73057-36-0\n",
      "1824020-12-3\n",
      "494-97-3\n",
      "1060802-34-7\n",
      "535-83-1\n",
      "6138-41-6\n",
      "320386-54-7\n",
      "92761-98-3\n",
      "15268-31-2\n",
      "1393569-52-2\n",
      "29790-52-1\n",
      "60138-76-3\n",
      "2873-36-1\n",
      "104809-30-5\n",
      "339155-13-4\n",
      "525-74-6\n",
      "75043-32-2\n",
      "2873-36-1\n",
      "29681-45-6\n",
      "3705-26-8\n",
      "39642-60-9\n",
      "3222-49-9\n",
      "535-83-1\n",
      "75195-76-5\n",
      "21446-46-8\n",
      "6019-06-3\n",
      "65-31-6\n",
      "942922-74-9\n",
      "66148-18-3\n",
      "2854-40-2\n",
      "88660-53-1\n",
      "2873-36-1\n",
      "104809-30-5\n",
      "339155-13-4\n",
      "525-74-6\n",
      "75043-32-2\n",
      "2873-36-1\n",
      "29681-45-6\n",
      "3705-26-8\n",
      "39642-60-9\n",
      "3222-49-9\n",
      "535-83-1\n",
      "75195-76-5\n",
      "21446-46-8\n",
      "6019-06-3\n",
      "65-31-6\n",
      "942922-74-9\n",
      "66148-18-3\n",
      "2854-40-2\n",
      "88660-53-1\n",
      "870975-59-0\n",
      "23950-04-1\n",
      "75195-76-5\n",
      "98-98-6\n",
      "3705-26-8\n",
      "102074-19-1\n",
      "1657-32-5\n",
      "1426174-36-8\n",
      "2854-40-2\n",
      "535-83-1\n",
      "129547-84-8\n",
      "1824020-12-3\n",
      "2055-23-4\n",
      "591-22-0\n",
      "347841-88-7\n",
      "51020-67-8\n",
      "1346601-08-8\n",
      "2873-36-1\n",
      "494-52-0\n",
      "870975-59-0\n",
      "23950-04-1\n",
      "75195-76-5\n",
      "98-98-6\n",
      "3705-26-8\n",
      "102074-19-1\n",
      "1657-32-5\n",
      "1426174-36-8\n",
      "2854-40-2\n",
      "535-83-1\n",
      "129547-84-8\n",
      "1824020-12-3\n",
      "2055-23-4\n",
      "591-22-0\n",
      "347841-88-7\n",
      "51020-67-8\n",
      "1346601-08-8\n",
      "2873-36-1\n",
      "494-52-0\n",
      "71267-22-6\n",
      "1207384-48-2\n",
      "1020719-70-3\n",
      "1469367-99-4\n",
      "494-04-2\n",
      "5746-86-1\n",
      "532-12-7\n",
      "350818-69-8\n",
      "1020719-11-2\n",
      "114-33-0\n",
      "1207384-47-1\n",
      "494-04-2\n",
      "34834-67-8\n",
      "15569-85-4\n",
      "71267-22-6\n",
      "66148-17-2\n",
      "139427-57-9\n",
      "51095-86-4\n",
      "66148-19-4\n",
      "21446-46-8\n",
      "71267-22-6\n",
      "1207384-48-2\n",
      "1020719-70-3\n",
      "1469367-99-4\n",
      "494-04-2\n",
      "5746-86-1\n",
      "532-12-7\n",
      "350818-69-8\n",
      "1020719-11-2\n",
      "114-33-0\n",
      "1207384-47-1\n",
      "494-04-2\n",
      "34834-67-8\n",
      "15569-85-4\n",
      "71267-22-6\n",
      "66148-17-2\n",
      "139427-57-9\n",
      "51095-86-4\n",
      "66148-19-4\n",
      "21446-46-8\n",
      "486-56-6\n",
      "53-84-9\n",
      "17708-87-1\n",
      "34366-21-7\n",
      "4314-66-3\n",
      "66148-19-4\n",
      "494-98-4\n",
      "764661-23-6\n",
      "146275-18-5\n",
      "159956-78-2\n",
      "6138-41-6\n",
      "487-19-4\n",
      "69980-24-1\n",
      "66148-19-4\n",
      "909014-86-4\n",
      "110952-70-0\n",
      "1020719-08-7\n",
      "1040920-61-3\n",
      "1020719-68-9\n",
      "486-56-6\n",
      "53-84-9\n",
      "17708-87-1\n",
      "34366-21-7\n",
      "4314-66-3\n",
      "66148-19-4\n",
      "494-98-4\n",
      "764661-23-6\n",
      "146275-18-5\n",
      "159956-78-2\n",
      "6138-41-6\n",
      "487-19-4\n",
      "69980-24-1\n",
      "66148-19-4\n",
      "909014-86-4\n",
      "110952-70-0\n",
      "1020719-08-7\n",
      "1040920-61-3\n",
      "1020719-68-9\n",
      "769-49-3\n",
      "125630-26-4\n",
      "701-44-0\n",
      "25162-00-9\n",
      "284685-07-0\n",
      "494-97-3\n",
      "66148-18-3\n",
      "23950-04-1\n",
      "581-49-7\n",
      "1246819-72-6\n",
      "98-98-6\n",
      "54-11-5\n",
      "1215842-75-3\n",
      "66148-15-0\n",
      "153536-53-9\n",
      "2743-90-0\n",
      "347841-88-7\n",
      "1189727-40-9\n",
      "1216737-36-8\n",
      "769-49-3\n",
      "125630-26-4\n",
      "701-44-0\n",
      "25162-00-9\n",
      "284685-07-0\n",
      "494-97-3\n",
      "66148-18-3\n",
      "23950-04-1\n",
      "581-49-7\n",
      "1246819-72-6\n",
      "98-98-6\n",
      "54-11-5\n",
      "1215842-75-3\n",
      "66148-15-0\n",
      "153536-53-9\n",
      "2743-90-0\n",
      "347841-88-7\n",
      "1189727-40-9\n",
      "1216737-36-8\n",
      "1426174-36-8\n",
      "350818-68-7\n",
      "66148-18-3\n",
      "17708-87-1\n",
      "871894-35-8\n",
      "132929-88-5\n",
      "6419-36-9\n",
      "90872-72-3\n",
      "581-50-0\n",
      "764661-24-7\n",
      "80508-23-2\n",
      "887407-16-1\n",
      "612-64-6\n",
      "486-56-6\n",
      "918625-36-2\n",
      "82111-06-6\n",
      "5746-86-1\n",
      "1217540-34-5\n",
      "1246812-39-4\n",
      "1426174-36-8\n",
      "350818-68-7\n",
      "66148-18-3\n",
      "17708-87-1\n",
      "871894-35-8\n",
      "132929-88-5\n",
      "6419-36-9\n",
      "90872-72-3\n",
      "581-50-0\n",
      "764661-24-7\n",
      "80508-23-2\n",
      "887407-16-1\n",
      "612-64-6\n",
      "486-56-6\n",
      "918625-36-2\n",
      "82111-06-6\n",
      "5746-86-1\n",
      "1217540-34-5\n",
      "1246812-39-4\n",
      "1076199-53-5\n",
      "147732-32-9\n",
      "887406-85-1\n",
      "4315-37-1\n",
      "107971-06-2\n",
      "27247-34-3\n",
      "1217540-34-5\n",
      "1246812-39-4\n",
      "857146-29-3\n",
      "20971-79-3\n",
      "1076199-53-5\n",
      "147732-32-9\n",
      "887406-85-1\n",
      "4315-37-1\n",
      "107971-06-2\n",
      "27247-34-3\n",
      "1217540-34-5\n",
      "1246812-39-4\n",
      "857146-29-3\n",
      "20971-79-3\n",
      "Total CAS Numbers: 505\n",
      "Duplicates Removed: 332\n",
      "Invalid Rows Removed (with letters): 1\n",
      "Final Unique CAS Numbers: 172\n"
     ]
    }
   ],
   "source": [
    "all_cas_numbers = []\n",
    "\n",
    "for page in range(1, 14):\n",
    "    urln = url + str(page)\n",
    "    response = requests.get(urln)\n",
    "    soup = BeautifulSoup(response.content, 'html.parser')\n",
    "\n",
    "    for a_tag in soup.find_all('a', href=True):\n",
    "        if \"/cas/\" in a_tag['href']:\n",
    "            cas_number = a_tag.text.strip()\n",
    "            if cas_number != \"CAS list\": print(cas_number)\n",
    "            all_cas_numbers.append(cas_number)\n",
    "\n",
    "df = pd.DataFrame(all_cas_numbers, columns = [\"cas\"])\n",
    "unique_cas = df[\"cas\"].drop_duplicates()\n",
    "unique_cas_cleaned = unique_cas[~unique_cas.str.contains(r'[a-zA-Z]', regex=True)]\n",
    "\n",
    "unique_cas_df = pd.DataFrame(unique_cas_cleaned, columns=[\"cas\"])\n",
    "\n",
    "total_original = len(df)\n",
    "duplicates_removed = total_original - len(unique_cas)\n",
    "invalid_rows_removed = len(unique_cas) - len(unique_cas_cleaned)\n",
    "\n",
    "print(f\"Total CAS Numbers: {total_original}\")\n",
    "print(f\"Duplicates Removed: {duplicates_removed}\")\n",
    "print(f\"Invalid Rows Removed (with letters): {invalid_rows_removed}\")\n",
    "print(f\"Final Unique CAS Numbers: {len(unique_cas_cleaned)}\")"
   ]
  },
  {
   "cell_type": "code",
   "execution_count": 47,
   "metadata": {},
   "outputs": [],
   "source": [
    "from selenium import webdriver\n",
    "from selenium.webdriver.common.by import By\n",
    "from selenium.webdriver.common.keys import Keys\n",
    "from selenium.webdriver.chrome.service import Service\n",
    "from selenium.webdriver.support.ui import WebDriverWait\n",
    "from webdriver_manager.chrome import ChromeDriverManager\n",
    "from selenium.webdriver.support import expected_conditions as EC\n",
    "from selenium.common.exceptions import TimeoutException\n",
    "import pandas as pd\n",
    "from tqdm import tqdm\n",
    "import time\n",
    "from selenium.webdriver.chrome.options import Options\n",
    "import pubchempy as pcp\n",
    "\n",
    "options = Options()\n",
    "options.add_argument(\"--headless\")  # Run in headless mode for speed\n",
    "options.add_argument(\"--disable-gpu\")  # Avoid GPU rendering issues\n",
    "options.add_argument(\"--no-sandbox\")\n",
    "driver = webdriver.Chrome(options=options)\n",
    "\n",
    "# Set a page load timeout (e.g., 180 seconds)\n",
    "driver.set_page_load_timeout(180)"
   ]
  },
  {
   "cell_type": "code",
   "execution_count": 48,
   "metadata": {},
   "outputs": [],
   "source": [
    "def get_smiles_from_cas(cas_number):\n",
    "    print(cas_number)\n",
    "    try:\n",
    "        compound = pcp.get_compounds(f'{cas_number}', 'name')[0]\n",
    "        smiles = compound.isomeric_smiles\n",
    "        print(f\"SMILES for {cas_number}: {smiles}\")\n",
    "        return smiles\n",
    "    except IndexError:\n",
    "        print(f\"No compound found for CAS: {cas_number}\")\n",
    "    except Exception as e:\n",
    "        print(f\"Error occurred: {e}\")\n",
    "        return None"
   ]
  },
  {
   "cell_type": "code",
   "execution_count": 49,
   "metadata": {},
   "outputs": [
    {
     "name": "stderr",
     "output_type": "stream",
     "text": [
      "  0%|          | 0/172 [00:00<?, ?it/s]"
     ]
    },
    {
     "name": "stdout",
     "output_type": "stream",
     "text": [
      "494-97-3\n"
     ]
    },
    {
     "name": "stderr",
     "output_type": "stream",
     "text": [
      "  1%|          | 2/172 [00:00<00:39,  4.34it/s]"
     ]
    },
    {
     "name": "stdout",
     "output_type": "stream",
     "text": [
      "SMILES for 494-97-3: C1C[C@H](NC1)C2=CN=CC=C2\n",
      "485-35-8\n"
     ]
    },
    {
     "name": "stderr",
     "output_type": "stream",
     "text": [
      "  2%|▏         | 3/172 [00:00<00:49,  3.43it/s]"
     ]
    },
    {
     "name": "stdout",
     "output_type": "stream",
     "text": [
      "SMILES for 485-35-8: C1[C@H]2CNC[C@@H]1C3=CC=CC(=O)N3C2\n",
      "95091-91-1\n"
     ]
    },
    {
     "name": "stderr",
     "output_type": "stream",
     "text": [
      "  2%|▏         | 4/172 [00:01<01:02,  2.67it/s]"
     ]
    },
    {
     "name": "stdout",
     "output_type": "stream",
     "text": [
      "SMILES for 95091-91-1: CN(C(=O)C1=CN=CC=C1)OC\n",
      "6456-44-6\n"
     ]
    },
    {
     "name": "stderr",
     "output_type": "stream",
     "text": [
      "  3%|▎         | 5/172 [00:01<01:06,  2.50it/s]"
     ]
    },
    {
     "name": "stdout",
     "output_type": "stream",
     "text": [
      "SMILES for 6456-44-6: C[N+]1=CC=CC(=C1)C(=O)N.[I-]\n",
      "532-12-7\n"
     ]
    },
    {
     "name": "stderr",
     "output_type": "stream",
     "text": [
      "  3%|▎         | 6/172 [00:02<01:03,  2.60it/s]"
     ]
    },
    {
     "name": "stdout",
     "output_type": "stream",
     "text": [
      "SMILES for 532-12-7: C1CC(=NC1)C2=CN=CC=C2\n",
      "20260-53-1\n"
     ]
    },
    {
     "name": "stderr",
     "output_type": "stream",
     "text": [
      "  4%|▍         | 7/172 [00:02<01:11,  2.31it/s]"
     ]
    },
    {
     "name": "stdout",
     "output_type": "stream",
     "text": [
      "SMILES for 20260-53-1: C1=CC(=CN=C1)C(=O)Cl.Cl\n",
      "2743-90-0\n"
     ]
    },
    {
     "name": "stderr",
     "output_type": "stream",
     "text": [
      "  5%|▍         | 8/172 [00:03<01:09,  2.35it/s]"
     ]
    },
    {
     "name": "stdout",
     "output_type": "stream",
     "text": [
      "SMILES for 2743-90-0: C1C=CCNC1C2=CN=CC=C2\n",
      "609-71-2\n"
     ]
    },
    {
     "name": "stderr",
     "output_type": "stream",
     "text": [
      "  5%|▌         | 9/172 [00:03<01:06,  2.44it/s]"
     ]
    },
    {
     "name": "stdout",
     "output_type": "stream",
     "text": [
      "SMILES for 609-71-2: C1=CNC(=O)C(=C1)C(=O)O\n",
      "59288-43-6\n"
     ]
    },
    {
     "name": "stderr",
     "output_type": "stream",
     "text": [
      "  6%|▌         | 10/172 [00:03<01:10,  2.31it/s]"
     ]
    },
    {
     "name": "stdout",
     "output_type": "stream",
     "text": [
      "SMILES for 59288-43-6: C1=C(C=NC(=C1O)[N+](=O)[O-])C(=O)O\n",
      "5470-70-2\n"
     ]
    },
    {
     "name": "stderr",
     "output_type": "stream",
     "text": [
      "  6%|▋         | 11/172 [00:04<01:07,  2.40it/s]"
     ]
    },
    {
     "name": "stdout",
     "output_type": "stream",
     "text": [
      "SMILES for 5470-70-2: CC1=NC=C(C=C1)C(=O)OC\n",
      "3562-11-6\n"
     ]
    },
    {
     "name": "stderr",
     "output_type": "stream",
     "text": [
      "  7%|▋         | 12/172 [00:04<01:07,  2.37it/s]"
     ]
    },
    {
     "name": "stdout",
     "output_type": "stream",
     "text": [
      "SMILES for 3562-11-6: C1CC(NC1C2=CN=CC=C2)C(=O)O\n",
      "177785-14-7\n"
     ]
    },
    {
     "name": "stderr",
     "output_type": "stream",
     "text": [
      "  8%|▊         | 13/172 [00:05<01:11,  2.22it/s]"
     ]
    },
    {
     "name": "stdout",
     "output_type": "stream",
     "text": [
      "SMILES for 177785-14-7: COC(=O)C1=C(N=CC=C1)CCl\n",
      "29681-45-6\n"
     ]
    },
    {
     "name": "stderr",
     "output_type": "stream",
     "text": [
      "  8%|▊         | 14/172 [00:05<01:08,  2.30it/s]"
     ]
    },
    {
     "name": "stdout",
     "output_type": "stream",
     "text": [
      "SMILES for 29681-45-6: CC1=CC(=CN=C1)C(=O)OC\n",
      "6960-22-1\n"
     ]
    },
    {
     "name": "stderr",
     "output_type": "stream",
     "text": [
      "  9%|▊         | 15/172 [00:06<01:07,  2.33it/s]"
     ]
    },
    {
     "name": "stdout",
     "output_type": "stream",
     "text": [
      "SMILES for 6960-22-1: CC1=NC=C(C=C1)C(=O)N\n",
      "1802-30-8\n"
     ]
    },
    {
     "name": "stderr",
     "output_type": "stream",
     "text": [
      "  9%|▉         | 16/172 [00:06<01:05,  2.39it/s]"
     ]
    },
    {
     "name": "stdout",
     "output_type": "stream",
     "text": [
      "SMILES for 1802-30-8: C1=CC(=NC=C1C(=O)O)C2=NC=C(C=C2)C(=O)O\n",
      "1215721-40-6\n"
     ]
    },
    {
     "name": "stderr",
     "output_type": "stream",
     "text": [
      " 10%|▉         | 17/172 [00:07<01:10,  2.21it/s]"
     ]
    },
    {
     "name": "stdout",
     "output_type": "stream",
     "text": [
      "SMILES for 1215721-40-6: C1CN(CCN1)C2=CN=CC(=N2)OCC3=CC(=CC=C3)Cl.Cl\n",
      "132334-98-6\n"
     ]
    },
    {
     "name": "stderr",
     "output_type": "stream",
     "text": [
      " 10%|█         | 18/172 [00:07<01:13,  2.08it/s]"
     ]
    },
    {
     "name": "stdout",
     "output_type": "stream",
     "text": [
      "SMILES for 132334-98-6: CCOC(=O)C1=CN=C(C=C1)Br\n",
      "89690-09-5\n"
     ]
    },
    {
     "name": "stderr",
     "output_type": "stream",
     "text": [
      " 11%|█         | 19/172 [00:08<01:12,  2.10it/s]"
     ]
    },
    {
     "name": "stdout",
     "output_type": "stream",
     "text": [
      "SMILES for 89690-09-5: CNCCCCN.Cl.Cl\n",
      "494-52-0\n"
     ]
    },
    {
     "name": "stderr",
     "output_type": "stream",
     "text": [
      " 12%|█▏        | 20/172 [00:08<01:08,  2.22it/s]"
     ]
    },
    {
     "name": "stdout",
     "output_type": "stream",
     "text": [
      "SMILES for 494-52-0: C1CCN[C@@H](C1)C2=CN=CC=C2\n",
      "98-92-0\n"
     ]
    },
    {
     "name": "stderr",
     "output_type": "stream",
     "text": [
      " 12%|█▏        | 21/172 [00:08<01:04,  2.36it/s]"
     ]
    },
    {
     "name": "stdout",
     "output_type": "stream",
     "text": [
      "SMILES for 98-92-0: C1=CC(=CN=C1)C(=O)N\n",
      "6197-39-3\n"
     ]
    },
    {
     "name": "stderr",
     "output_type": "stream",
     "text": [
      " 13%|█▎        | 22/172 [00:09<01:06,  2.26it/s]"
     ]
    },
    {
     "name": "stdout",
     "output_type": "stream",
     "text": [
      "SMILES for 6197-39-3: COC(=O)C1=CCCNC1.Cl\n",
      "5398-44-7\n"
     ]
    },
    {
     "name": "stderr",
     "output_type": "stream",
     "text": [
      " 13%|█▎        | 23/172 [00:09<01:04,  2.30it/s]"
     ]
    },
    {
     "name": "stdout",
     "output_type": "stream",
     "text": [
      "SMILES for 5398-44-7: C1=C(C=C(N=C1Cl)Cl)C(=O)O\n",
      "61445-55-4\n"
     ]
    },
    {
     "name": "stderr",
     "output_type": "stream",
     "text": [
      " 14%|█▍        | 24/172 [00:10<01:02,  2.38it/s]"
     ]
    },
    {
     "name": "stdout",
     "output_type": "stream",
     "text": [
      "SMILES for 61445-55-4: CN(CCCC(=O)O)N=O\n",
      "5006-66-6\n"
     ]
    },
    {
     "name": "stderr",
     "output_type": "stream",
     "text": [
      " 15%|█▍        | 25/172 [00:10<01:17,  1.90it/s]"
     ]
    },
    {
     "name": "stdout",
     "output_type": "stream",
     "text": [
      "SMILES for 5006-66-6: C1=CC(=O)NC=C1C(=O)O\n",
      "5746-86-1\n"
     ]
    },
    {
     "name": "stderr",
     "output_type": "stream",
     "text": [
      " 15%|█▌        | 26/172 [00:11<01:09,  2.09it/s]"
     ]
    },
    {
     "name": "stdout",
     "output_type": "stream",
     "text": [
      "SMILES for 5746-86-1: C1CC(NC1)C2=CN=CC=C2\n",
      "38496-18-3\n"
     ]
    },
    {
     "name": "stderr",
     "output_type": "stream",
     "text": [
      " 16%|█▌        | 27/172 [00:11<01:04,  2.25it/s]"
     ]
    },
    {
     "name": "stdout",
     "output_type": "stream",
     "text": [
      "SMILES for 38496-18-3: C1=CC(=NC(=C1C(=O)O)Cl)Cl\n",
      "39178-35-3\n"
     ]
    },
    {
     "name": "stderr",
     "output_type": "stream",
     "text": [
      " 16%|█▋        | 28/172 [00:11<01:02,  2.30it/s]"
     ]
    },
    {
     "name": "stdout",
     "output_type": "stream",
     "text": [
      "SMILES for 39178-35-3: C1=CN=CC=C1C(=O)Cl.Cl\n",
      "129747-52-0\n"
     ]
    },
    {
     "name": "stderr",
     "output_type": "stream",
     "text": [
      " 17%|█▋        | 29/172 [00:12<01:03,  2.26it/s]"
     ]
    },
    {
     "name": "stdout",
     "output_type": "stream",
     "text": [
      "SMILES for 129747-52-0: COC(=O)C1=CN=CC(=C1)CO\n",
      "38806-38-1\n"
     ]
    },
    {
     "name": "stderr",
     "output_type": "stream",
     "text": [
      " 17%|█▋        | 30/172 [00:12<01:02,  2.28it/s]"
     ]
    },
    {
     "name": "stdout",
     "output_type": "stream",
     "text": [
      "SMILES for 38806-38-1: C1=CC(=C[N+](=C1)[C@H]2[C@@H]([C@@H]([C@H](O2)COP(=O)([O-])OP(=O)(O)OC[C@@H]3[C@H]([C@H]([C@@H](O3)N4C=NC5=C4N=CN6C5=NC=C6)O)O)O)O)C(=O)N\n",
      "64091-91-4\n"
     ]
    },
    {
     "name": "stderr",
     "output_type": "stream",
     "text": [
      " 18%|█▊        | 31/172 [00:13<01:02,  2.25it/s]"
     ]
    },
    {
     "name": "stdout",
     "output_type": "stream",
     "text": [
      "SMILES for 64091-91-4: CN(CCCC(=O)C1=CN=CC=C1)N=O\n",
      "486-56-6\n"
     ]
    },
    {
     "name": "stderr",
     "output_type": "stream",
     "text": [
      " 19%|█▊        | 32/172 [00:13<01:00,  2.33it/s]"
     ]
    },
    {
     "name": "stdout",
     "output_type": "stream",
     "text": [
      "SMILES for 486-56-6: CN1[C@@H](CCC1=O)C2=CN=CC=C2\n",
      "1094-61-7\n"
     ]
    },
    {
     "name": "stderr",
     "output_type": "stream",
     "text": [
      " 19%|█▉        | 33/172 [00:14<01:02,  2.23it/s]"
     ]
    },
    {
     "name": "stdout",
     "output_type": "stream",
     "text": [
      "SMILES for 1094-61-7: C1=CC(=C[N+](=C1)[C@H]2[C@@H]([C@@H]([C@H](O2)COP(=O)(O)[O-])O)O)C(=O)N\n",
      "27828-71-3\n"
     ]
    },
    {
     "name": "stderr",
     "output_type": "stream",
     "text": [
      " 20%|█▉        | 34/172 [00:14<01:00,  2.29it/s]"
     ]
    },
    {
     "name": "stdout",
     "output_type": "stream",
     "text": [
      "SMILES for 27828-71-3: C1=C(C=NC=C1O)C(=O)O\n",
      "78348-28-4\n"
     ]
    },
    {
     "name": "stderr",
     "output_type": "stream",
     "text": [
      " 20%|██        | 35/172 [00:15<00:57,  2.38it/s]"
     ]
    },
    {
     "name": "stdout",
     "output_type": "stream",
     "text": [
      "SMILES for 78348-28-4: C1CC(=O)N(C1=O)OC(=O)C2=CN=CC=C2\n",
      "66093-90-1\n"
     ]
    },
    {
     "name": "stderr",
     "output_type": "stream",
     "text": [
      " 21%|██        | 36/172 [00:15<00:54,  2.50it/s]"
     ]
    },
    {
     "name": "stdout",
     "output_type": "stream",
     "text": [
      "SMILES for 66093-90-1: CNCCCC(=O)C1=CN=CC=C1.Cl.Cl\n",
      "1364663-27-3\n"
     ]
    },
    {
     "name": "stderr",
     "output_type": "stream",
     "text": [
      " 22%|██▏       | 37/172 [00:15<00:56,  2.38it/s]"
     ]
    },
    {
     "name": "stdout",
     "output_type": "stream",
     "text": [
      "SMILES for 1364663-27-3: COC(=O)C1=CN=C(C=C1Br)Br\n",
      "13190-97-1\n"
     ]
    },
    {
     "name": "stderr",
     "output_type": "stream",
     "text": [
      " 22%|██▏       | 38/172 [00:16<00:57,  2.33it/s]"
     ]
    },
    {
     "name": "stdout",
     "output_type": "stream",
     "text": [
      "SMILES for 13190-97-1: CC(=CCC/C(=C/CC/C(=C/CC/C(=C/CC/C(=C/CC/C(=C/CC/C(=C/CC/C(=C/CC/C(=C/CO)/C)/C)/C)/C)/C)/C)/C)/C)C\n",
      "3222-56-8\n"
     ]
    },
    {
     "name": "stderr",
     "output_type": "stream",
     "text": [
      " 23%|██▎       | 39/172 [00:16<00:59,  2.24it/s]"
     ]
    },
    {
     "name": "stdout",
     "output_type": "stream",
     "text": [
      "SMILES for 3222-56-8: CC1=C(C=CC=N1)C(=O)O\n",
      "1986-81-8\n"
     ]
    },
    {
     "name": "stderr",
     "output_type": "stream",
     "text": [
      " 23%|██▎       | 40/172 [00:17<00:55,  2.39it/s]"
     ]
    },
    {
     "name": "stdout",
     "output_type": "stream",
     "text": [
      "SMILES for 1986-81-8: C1=CC(=C[N+](=C1)[O-])C(=O)N\n",
      "90872-72-3\n"
     ]
    },
    {
     "name": "stderr",
     "output_type": "stream",
     "text": [
      " 24%|██▍       | 41/172 [00:17<00:58,  2.23it/s]"
     ]
    },
    {
     "name": "stdout",
     "output_type": "stream",
     "text": [
      "SMILES for 90872-72-3: CC1=NC=C(C=C1)C2CCCN2\n",
      "59578-62-0\n"
     ]
    },
    {
     "name": "stderr",
     "output_type": "stream",
     "text": [
      " 24%|██▍       | 42/172 [00:18<00:59,  2.17it/s]"
     ]
    },
    {
     "name": "stdout",
     "output_type": "stream",
     "text": [
      "SMILES for 59578-62-0: C1=CC(=CN=C1)C(=O)CCCO\n",
      "2047-49-6\n"
     ]
    },
    {
     "name": "stderr",
     "output_type": "stream",
     "text": [
      " 25%|██▌       | 43/172 [00:18<01:00,  2.12it/s]"
     ]
    },
    {
     "name": "stdout",
     "output_type": "stream",
     "text": [
      "SMILES for 2047-49-6: C1=C(C=NC=C1[N+](=O)[O-])C(=O)O\n",
      "6311-35-9\n"
     ]
    },
    {
     "name": "stderr",
     "output_type": "stream",
     "text": [
      " 26%|██▌       | 44/172 [00:19<01:01,  2.09it/s]"
     ]
    },
    {
     "name": "stdout",
     "output_type": "stream",
     "text": [
      "SMILES for 6311-35-9: C1=CC(=NC=C1C(=O)O)Br\n",
      "499-81-0\n"
     ]
    },
    {
     "name": "stderr",
     "output_type": "stream",
     "text": [
      " 26%|██▌       | 45/172 [00:19<01:11,  1.77it/s]"
     ]
    },
    {
     "name": "stdout",
     "output_type": "stream",
     "text": [
      "SMILES for 499-81-0: C1=C(C=NC=C1C(=O)O)C(=O)O\n",
      "7076-23-5\n"
     ]
    },
    {
     "name": "stderr",
     "output_type": "stream",
     "text": [
      " 27%|██▋       | 46/172 [00:20<01:06,  1.90it/s]"
     ]
    },
    {
     "name": "stdout",
     "output_type": "stream",
     "text": [
      "SMILES for 7076-23-5: C1C[C@@H](NC1)C2=CN=CC=C2\n",
      "614-00-6\n"
     ]
    },
    {
     "name": "stderr",
     "output_type": "stream",
     "text": [
      " 27%|██▋       | 47/172 [00:20<00:59,  2.08it/s]"
     ]
    },
    {
     "name": "stdout",
     "output_type": "stream",
     "text": [
      "SMILES for 614-00-6: CN(C1=CC=CC=C1)N=O\n",
      "2004-06-0\n"
     ]
    },
    {
     "name": "stderr",
     "output_type": "stream",
     "text": [
      " 28%|██▊       | 48/172 [00:21<01:06,  1.87it/s]"
     ]
    },
    {
     "name": "stdout",
     "output_type": "stream",
     "text": [
      "SMILES for 2004-06-0: C1=NC2=C(C(=N1)Cl)N=CN2[C@H]3[C@@H]([C@@H]([C@H](O3)CO)O)O\n",
      "27247-34-3\n"
     ]
    },
    {
     "name": "stderr",
     "output_type": "stream",
     "text": [
      " 28%|██▊       | 49/172 [00:22<01:11,  1.73it/s]"
     ]
    },
    {
     "name": "stdout",
     "output_type": "stream",
     "text": [
      "SMILES for 27247-34-3: COC(=O)C1=CN=CC(=C1)C(=O)[O-].[K+]\n",
      "3569-99-1\n"
     ]
    },
    {
     "name": "stderr",
     "output_type": "stream",
     "text": [
      " 29%|██▉       | 50/172 [00:22<01:03,  1.92it/s]"
     ]
    },
    {
     "name": "stdout",
     "output_type": "stream",
     "text": [
      "SMILES for 3569-99-1: C1=CC(=CN=C1)C(=O)NCO\n",
      "3222-47-7\n"
     ]
    },
    {
     "name": "stderr",
     "output_type": "stream",
     "text": [
      " 30%|██▉       | 51/172 [00:22<00:59,  2.03it/s]"
     ]
    },
    {
     "name": "stdout",
     "output_type": "stream",
     "text": [
      "SMILES for 3222-47-7: CC1=NC=C(C=C1)C(=O)O\n",
      "321-02-8\n"
     ]
    },
    {
     "name": "stderr",
     "output_type": "stream",
     "text": [
      " 30%|███       | 52/172 [00:23<01:00,  1.98it/s]"
     ]
    },
    {
     "name": "stdout",
     "output_type": "stream",
     "text": [
      "SMILES for 321-02-8: C1=CC(=C[N+](=C1)[C@H]2[C@@H]([C@@H]([C@H](O2)COP(=O)(O)O)O)O)C(=O)[O-]\n",
      "13078-04-1\n"
     ]
    },
    {
     "name": "stderr",
     "output_type": "stream",
     "text": [
      " 31%|███       | 53/172 [00:23<00:55,  2.13it/s]"
     ]
    },
    {
     "name": "stdout",
     "output_type": "stream",
     "text": [
      "SMILES for 13078-04-1: C1CCNC(C1)C2=CN=CC=C2\n",
      "1314217-69-0\n"
     ]
    },
    {
     "name": "stderr",
     "output_type": "stream",
     "text": [
      " 31%|███▏      | 54/172 [00:24<00:55,  2.14it/s]"
     ]
    },
    {
     "name": "stdout",
     "output_type": "stream",
     "text": [
      "SMILES for 1314217-69-0: CC1=CC(=CC2=C1C(=O)N(C2)CC3=CC=C(C=C3)OC(F)(F)F)C4=NC(=NO4)CN5CCNCC5.CS(=O)(=O)O\n",
      "4314-66-3\n"
     ]
    },
    {
     "name": "stderr",
     "output_type": "stream",
     "text": [
      " 32%|███▏      | 55/172 [00:24<00:52,  2.25it/s]"
     ]
    },
    {
     "name": "stdout",
     "output_type": "stream",
     "text": [
      "SMILES for 4314-66-3: CCNC(=O)C1=CN=CC=C1\n",
      "5176-27-2\n"
     ]
    },
    {
     "name": "stderr",
     "output_type": "stream",
     "text": [
      " 33%|███▎      | 56/172 [00:25<00:49,  2.33it/s]"
     ]
    },
    {
     "name": "stdout",
     "output_type": "stream",
     "text": [
      "SMILES for 5176-27-2: CC(C)(C)OC(=O)N1C=CC=C1\n",
      "924-16-3\n"
     ]
    },
    {
     "name": "stderr",
     "output_type": "stream",
     "text": [
      " 33%|███▎      | 57/172 [00:25<00:48,  2.37it/s]"
     ]
    },
    {
     "name": "stdout",
     "output_type": "stream",
     "text": [
      "SMILES for 924-16-3: CCCCN(CCCC)N=O\n",
      "1207384-47-1\n"
     ]
    },
    {
     "name": "stderr",
     "output_type": "stream",
     "text": [
      " 34%|███▎      | 58/172 [00:25<00:48,  2.36it/s]"
     ]
    },
    {
     "name": "stdout",
     "output_type": "stream",
     "text": [
      "SMILES for 1207384-47-1: [2H]C([2H])([2H])N1C=CC(=O)C(=C1)C(=O)N\n",
      "51095-86-4\n"
     ]
    },
    {
     "name": "stderr",
     "output_type": "stream",
     "text": [
      " 34%|███▍      | 59/172 [00:26<00:48,  2.33it/s]"
     ]
    },
    {
     "name": "stdout",
     "output_type": "stream",
     "text": [
      "SMILES for 51095-86-4: C[N@@+]1(CCC[C@H]1C2=CN=CC=C2)[O-]\n",
      "51020-67-8\n"
     ]
    },
    {
     "name": "stderr",
     "output_type": "stream",
     "text": [
      " 35%|███▍      | 60/172 [00:26<00:46,  2.42it/s]"
     ]
    },
    {
     "name": "stdout",
     "output_type": "stream",
     "text": [
      "SMILES for 51020-67-8: C[N@+]1(CCC[C@H]1C2=CN=CC=C2)[O-]\n",
      "1216737-36-8\n"
     ]
    },
    {
     "name": "stderr",
     "output_type": "stream",
     "text": [
      " 35%|███▌      | 61/172 [00:27<00:47,  2.33it/s]"
     ]
    },
    {
     "name": "stdout",
     "output_type": "stream",
     "text": [
      "SMILES for 1216737-36-8: [2H]C1=C(C(=C(N=C1[2H])[2H])C(=O)NCC(=O)O)[2H]\n",
      "5654-86-4\n"
     ]
    },
    {
     "name": "stderr",
     "output_type": "stream",
     "text": [
      " 36%|███▌      | 62/172 [00:27<00:48,  2.29it/s]"
     ]
    },
    {
     "name": "stdout",
     "output_type": "stream",
     "text": [
      "SMILES for 5654-86-4: CC(C)CC1C(=O)N2CCCC2C(=O)N1\n",
      "491-26-9\n"
     ]
    },
    {
     "name": "stderr",
     "output_type": "stream",
     "text": [
      " 37%|███▋      | 63/172 [00:28<00:46,  2.34it/s]"
     ]
    },
    {
     "name": "stdout",
     "output_type": "stream",
     "text": [
      "SMILES for 491-26-9: C[N+]1(CCC[C@H]1C2=CN=CC=C2)[O-]\n",
      "63551-14-4\n"
     ]
    },
    {
     "name": "stderr",
     "output_type": "stream",
     "text": [
      " 37%|███▋      | 64/172 [00:28<00:43,  2.47it/s]"
     ]
    },
    {
     "name": "stdout",
     "output_type": "stream",
     "text": [
      "SMILES for 63551-14-4: C[N+]1(CCCC1C2=CN=CC=C2)[O-]\n",
      "3612-80-4\n"
     ]
    },
    {
     "name": "stderr",
     "output_type": "stream",
     "text": [
      " 38%|███▊      | 65/172 [00:28<00:44,  2.43it/s]"
     ]
    },
    {
     "name": "stdout",
     "output_type": "stream",
     "text": [
      "SMILES for 3612-80-4: C1=CC(=CN=C1)C(=O)OCCO\n",
      "98491-81-7\n"
     ]
    },
    {
     "name": "stderr",
     "output_type": "stream",
     "text": [
      " 38%|███▊      | 66/172 [00:29<00:42,  2.48it/s]"
     ]
    },
    {
     "name": "stdout",
     "output_type": "stream",
     "text": [
      "SMILES for 98491-81-7: C1=CC(=CN=C1)C(=O)OCCO.Cl\n",
      "54-11-5\n"
     ]
    },
    {
     "name": "stderr",
     "output_type": "stream",
     "text": [
      " 39%|███▉      | 67/172 [00:29<00:43,  2.40it/s]"
     ]
    },
    {
     "name": "stdout",
     "output_type": "stream",
     "text": [
      "SMILES for 54-11-5: CN1CCC[C@H]1C2=CN=CC=C2\n",
      "3719-45-7\n"
     ]
    },
    {
     "name": "stderr",
     "output_type": "stream",
     "text": [
      " 40%|███▉      | 68/172 [00:29<00:42,  2.47it/s]"
     ]
    },
    {
     "name": "stdout",
     "output_type": "stream",
     "text": [
      "SMILES for 3719-45-7: CN1C=C(C=CC1=O)C(=O)O\n",
      "701-44-0\n"
     ]
    },
    {
     "name": "stderr",
     "output_type": "stream",
     "text": [
      " 40%|████      | 69/172 [00:30<00:41,  2.49it/s]"
     ]
    },
    {
     "name": "stdout",
     "output_type": "stream",
     "text": [
      "SMILES for 701-44-0: CN1C=C(C=CC1=O)C(=O)N\n",
      "66148-19-4\n"
     ]
    },
    {
     "name": "stderr",
     "output_type": "stream",
     "text": [
      " 41%|████      | 70/172 [00:30<00:40,  2.50it/s]"
     ]
    },
    {
     "name": "stdout",
     "output_type": "stream",
     "text": [
      "SMILES for 66148-19-4: [2H]C1=C(C(=C(N=C1[2H])[2H])C2CCCN2N=O)[2H]\n",
      "1219805-86-3\n"
     ]
    },
    {
     "name": "stderr",
     "output_type": "stream",
     "text": [
      " 41%|████▏     | 71/172 [00:31<00:39,  2.54it/s]"
     ]
    },
    {
     "name": "stdout",
     "output_type": "stream",
     "text": [
      "SMILES for 1219805-86-3: [2H]C1=C(C(=C(N=C1[2H])[2H])C2CCCN2C([2H])([2H])[2H])[2H]\n",
      "69980-24-1\n"
     ]
    },
    {
     "name": "stderr",
     "output_type": "stream",
     "text": [
      " 42%|████▏     | 72/172 [00:31<00:40,  2.48it/s]"
     ]
    },
    {
     "name": "stdout",
     "output_type": "stream",
     "text": [
      "SMILES for 69980-24-1: [2H]C([2H])([2H])N1CCCC1C2=CN=CC=C2\n",
      "501-81-5\n"
     ]
    },
    {
     "name": "stderr",
     "output_type": "stream",
     "text": [
      " 42%|████▏     | 73/172 [00:31<00:39,  2.52it/s]"
     ]
    },
    {
     "name": "stdout",
     "output_type": "stream",
     "text": [
      "SMILES for 501-81-5: C1=CC(=CN=C1)CC(=O)O\n",
      "6419-36-9\n"
     ]
    },
    {
     "name": "stderr",
     "output_type": "stream",
     "text": [
      " 43%|████▎     | 74/172 [00:32<00:39,  2.51it/s]"
     ]
    },
    {
     "name": "stdout",
     "output_type": "stream",
     "text": [
      "SMILES for 6419-36-9: C1=CC(=CN=C1)CC(=O)O.Cl\n",
      "769-49-3\n"
     ]
    },
    {
     "name": "stderr",
     "output_type": "stream",
     "text": [
      " 44%|████▎     | 75/172 [00:32<00:38,  2.51it/s]"
     ]
    },
    {
     "name": "stdout",
     "output_type": "stream",
     "text": [
      "SMILES for 769-49-3: CN1C=CC(=O)C(=C1)C(=O)N\n",
      "1207384-48-2\n"
     ]
    },
    {
     "name": "stderr",
     "output_type": "stream",
     "text": [
      " 44%|████▍     | 76/172 [00:33<00:38,  2.46it/s]"
     ]
    },
    {
     "name": "stdout",
     "output_type": "stream",
     "text": [
      "SMILES for 1207384-48-2: [2H]C([2H])([2H])N1C=C(C=CC1=O)C(=O)N\n",
      "350818-69-8\n"
     ]
    },
    {
     "name": "stderr",
     "output_type": "stream",
     "text": [
      " 45%|████▍     | 77/172 [00:33<00:37,  2.52it/s]"
     ]
    },
    {
     "name": "stdout",
     "output_type": "stream",
     "text": [
      "SMILES for 350818-69-8: [2H]C1=C(C(=C(N=C1[2H])[2H])C2CCCN2C)[2H]\n",
      "59-67-6\n"
     ]
    },
    {
     "name": "stderr",
     "output_type": "stream",
     "text": [
      " 45%|████▌     | 78/172 [00:33<00:36,  2.56it/s]"
     ]
    },
    {
     "name": "stdout",
     "output_type": "stream",
     "text": [
      "SMILES for 59-67-6: C1=CC(=CN=C1)C(=O)O\n",
      "487-19-4\n"
     ]
    },
    {
     "name": "stderr",
     "output_type": "stream",
     "text": [
      " 46%|████▌     | 79/172 [00:34<00:35,  2.60it/s]"
     ]
    },
    {
     "name": "stdout",
     "output_type": "stream",
     "text": [
      "SMILES for 487-19-4: CN1C=CC=C1C2=CN=CC=C2\n",
      "66148-15-0\n"
     ]
    },
    {
     "name": "stderr",
     "output_type": "stream",
     "text": [
      " 47%|████▋     | 80/172 [00:34<00:36,  2.52it/s]"
     ]
    },
    {
     "name": "stdout",
     "output_type": "stream",
     "text": [
      "SMILES for 66148-15-0: [2H]C1=C(C(=C(N=C1[2H])[2H])C(=O)O)[2H]\n",
      "94-44-0\n"
     ]
    },
    {
     "name": "stderr",
     "output_type": "stream",
     "text": [
      " 47%|████▋     | 81/172 [00:35<00:37,  2.45it/s]"
     ]
    },
    {
     "name": "stdout",
     "output_type": "stream",
     "text": [
      "SMILES for 94-44-0: C1=CC=C(C=C1)COC(=O)C2=CN=CC=C2\n",
      "65550-28-9\n"
     ]
    },
    {
     "name": "stderr",
     "output_type": "stream",
     "text": [
      " 48%|████▊     | 82/172 [00:35<00:34,  2.62it/s]"
     ]
    },
    {
     "name": "stdout",
     "output_type": "stream",
     "text": [
      "No compound found for CAS: 65550-28-9\n",
      "1020719-11-2\n"
     ]
    },
    {
     "name": "stderr",
     "output_type": "stream",
     "text": [
      " 48%|████▊     | 83/172 [00:35<00:36,  2.44it/s]"
     ]
    },
    {
     "name": "stdout",
     "output_type": "stream",
     "text": [
      "SMILES for 1020719-11-2: [2H]C1=C(C(=C(N=C1[2H])[2H])C2CC=CCN2)[2H]\n",
      "153536-53-9\n"
     ]
    },
    {
     "name": "stderr",
     "output_type": "stream",
     "text": [
      " 49%|████▉     | 84/172 [00:36<00:36,  2.44it/s]"
     ]
    },
    {
     "name": "stdout",
     "output_type": "stream",
     "text": [
      "SMILES for 153536-53-9: CN1CCC[C@H]1C2=C[N+](=CC=C2)[C@H]3[C@@H]([C@H]([C@@H]([C@H](O3)C(=O)[O-])O)O)O\n",
      "138946-42-6\n"
     ]
    },
    {
     "name": "stderr",
     "output_type": "stream",
     "text": [
      " 49%|████▉     | 85/172 [00:36<00:36,  2.35it/s]"
     ]
    },
    {
     "name": "stdout",
     "output_type": "stream",
     "text": [
      "SMILES for 138946-42-6: [2H]C1=C(C(=C(N=C1[2H])C(=O)O)C(=O)O)[2H]\n",
      "887355-56-8\n"
     ]
    },
    {
     "name": "stderr",
     "output_type": "stream",
     "text": [
      " 50%|█████     | 86/172 [00:37<00:36,  2.38it/s]"
     ]
    },
    {
     "name": "stdout",
     "output_type": "stream",
     "text": [
      "SMILES for 887355-56-8: C1=CC(=CN=C1)C(=O)CCCNC=O\n",
      "25162-00-9\n"
     ]
    },
    {
     "name": "stderr",
     "output_type": "stream",
     "text": [
      " 51%|█████     | 87/172 [00:37<00:35,  2.39it/s]"
     ]
    },
    {
     "name": "stdout",
     "output_type": "stream",
     "text": [
      "SMILES for 25162-00-9: CN1CCC[C@@H]1C2=CN=CC=C2\n",
      "125630-26-4\n"
     ]
    },
    {
     "name": "stderr",
     "output_type": "stream",
     "text": [
      " 51%|█████     | 88/172 [00:38<00:35,  2.34it/s]"
     ]
    },
    {
     "name": "stdout",
     "output_type": "stream",
     "text": [
      "SMILES for 125630-26-4: CN1CCC(C1)C(=O)C2=CN=CC=C2\n",
      "494-98-4\n"
     ]
    },
    {
     "name": "stderr",
     "output_type": "stream",
     "text": [
      " 52%|█████▏    | 89/172 [00:38<00:34,  2.44it/s]"
     ]
    },
    {
     "name": "stdout",
     "output_type": "stream",
     "text": [
      "SMILES for 494-98-4: C1=CC(=CN=C1)C2=CC=CN2\n",
      "16543-55-8\n"
     ]
    },
    {
     "name": "stderr",
     "output_type": "stream",
     "text": [
      " 52%|█████▏    | 90/172 [00:38<00:32,  2.51it/s]"
     ]
    },
    {
     "name": "stdout",
     "output_type": "stream",
     "text": [
      "SMILES for 16543-55-8: C1C[C@H](N(C1)N=O)C2=CN=CC=C2\n",
      "2055-29-0\n"
     ]
    },
    {
     "name": "stderr",
     "output_type": "stream",
     "text": [
      " 53%|█████▎    | 91/172 [00:39<00:30,  2.64it/s]"
     ]
    },
    {
     "name": "stdout",
     "output_type": "stream",
     "text": [
      "No compound found for CAS: 2055-29-0\n",
      "17708-87-1\n"
     ]
    },
    {
     "name": "stderr",
     "output_type": "stream",
     "text": [
      " 53%|█████▎    | 92/172 [00:39<00:31,  2.54it/s]"
     ]
    },
    {
     "name": "stdout",
     "output_type": "stream",
     "text": [
      "SMILES for 17708-87-1: C1CC(=O)NC1C2=CN=CC=C2\n",
      "73057-36-0\n"
     ]
    },
    {
     "name": "stderr",
     "output_type": "stream",
     "text": [
      " 54%|█████▍    | 93/172 [00:40<00:30,  2.56it/s]"
     ]
    },
    {
     "name": "stdout",
     "output_type": "stream",
     "text": [
      "No compound found for CAS: 73057-36-0\n",
      "1824020-12-3\n"
     ]
    },
    {
     "name": "stderr",
     "output_type": "stream",
     "text": [
      " 55%|█████▍    | 94/172 [00:40<00:30,  2.59it/s]"
     ]
    },
    {
     "name": "stdout",
     "output_type": "stream",
     "text": [
      "SMILES for 1824020-12-3: CN1CCCC1(C2=CN=CC=C2)O\n",
      "1060802-34-7\n"
     ]
    },
    {
     "name": "stderr",
     "output_type": "stream",
     "text": [
      " 55%|█████▌    | 95/172 [00:40<00:29,  2.63it/s]"
     ]
    },
    {
     "name": "stdout",
     "output_type": "stream",
     "text": [
      "SMILES for 1060802-34-7: C1=C(C(=C(C=N1)F)Cl)C=O\n",
      "535-83-1\n"
     ]
    },
    {
     "name": "stderr",
     "output_type": "stream",
     "text": [
      " 56%|█████▌    | 96/172 [00:41<00:28,  2.68it/s]"
     ]
    },
    {
     "name": "stdout",
     "output_type": "stream",
     "text": [
      "SMILES for 535-83-1: C[N+]1=CC=CC(=C1)C(=O)[O-]\n",
      "6138-41-6\n"
     ]
    },
    {
     "name": "stderr",
     "output_type": "stream",
     "text": [
      " 56%|█████▋    | 97/172 [00:41<00:28,  2.66it/s]"
     ]
    },
    {
     "name": "stdout",
     "output_type": "stream",
     "text": [
      "SMILES for 6138-41-6: C[N+]1=CC=CC(=C1)C(=O)O.[Cl-]\n",
      "320386-54-7\n"
     ]
    },
    {
     "name": "stderr",
     "output_type": "stream",
     "text": [
      " 57%|█████▋    | 98/172 [00:41<00:29,  2.54it/s]"
     ]
    },
    {
     "name": "stdout",
     "output_type": "stream",
     "text": [
      "SMILES for 320386-54-7: C1=CC(=C(N=C1)C(=O)O)S.Cl\n",
      "92761-98-3\n"
     ]
    },
    {
     "name": "stderr",
     "output_type": "stream",
     "text": [
      " 58%|█████▊    | 99/172 [00:42<00:29,  2.45it/s]"
     ]
    },
    {
     "name": "stdout",
     "output_type": "stream",
     "text": [
      "SMILES for 92761-98-3: [2H]C1=C(C(=C(N=C1[2H])[2H])[C@@H]2CCCN2)[2H]\n",
      "15268-31-2\n"
     ]
    },
    {
     "name": "stderr",
     "output_type": "stream",
     "text": [
      " 58%|█████▊    | 100/172 [00:42<00:29,  2.48it/s]"
     ]
    },
    {
     "name": "stdout",
     "output_type": "stream",
     "text": [
      "SMILES for 15268-31-2: C1=CC(=CN=C1)N=C=O\n",
      "1393569-52-2\n"
     ]
    },
    {
     "name": "stderr",
     "output_type": "stream",
     "text": [
      " 59%|█████▊    | 101/172 [00:43<00:27,  2.54it/s]"
     ]
    },
    {
     "name": "stdout",
     "output_type": "stream",
     "text": [
      "SMILES for 1393569-52-2: C1=C(C=C(N=C1C(=O)O)[N+](=O)[O-])Cl\n",
      "29790-52-1\n"
     ]
    },
    {
     "name": "stderr",
     "output_type": "stream",
     "text": [
      " 59%|█████▉    | 102/172 [00:43<00:27,  2.54it/s]"
     ]
    },
    {
     "name": "stdout",
     "output_type": "stream",
     "text": [
      "SMILES for 29790-52-1: CN1CCC[C@H]1C2=CN=CC=C2.C1=CC=C(C(=C1)C(=O)O)O\n",
      "60138-76-3\n"
     ]
    },
    {
     "name": "stderr",
     "output_type": "stream",
     "text": [
      " 60%|█████▉    | 103/172 [00:43<00:28,  2.45it/s]"
     ]
    },
    {
     "name": "stdout",
     "output_type": "stream",
     "text": [
      "SMILES for 60138-76-3: CN(C)C1=C(C=CC=N1)C#N\n",
      "2873-36-1\n"
     ]
    },
    {
     "name": "stderr",
     "output_type": "stream",
     "text": [
      " 60%|██████    | 104/172 [00:44<00:34,  1.96it/s]"
     ]
    },
    {
     "name": "stdout",
     "output_type": "stream",
     "text": [
      "SMILES for 2873-36-1: CC(C)C[C@H]1C(=O)N2CCC[C@H]2C(=O)N1\n",
      "104809-30-5\n"
     ]
    },
    {
     "name": "stderr",
     "output_type": "stream",
     "text": [
      " 61%|██████    | 105/172 [00:45<00:33,  1.99it/s]"
     ]
    },
    {
     "name": "stdout",
     "output_type": "stream",
     "text": [
      "SMILES for 104809-30-5: C1=CC(=C[N+](=C1)[C@H]2[C@@H]([C@@H]([C@H](O2)COP(=O)([O-])OP(=O)([O-])OC[C@@H]3[C@H]([C@H]([C@@H](O3)N4C=NC5=C(N=CN=C54)N)O)O)O)O)C(=O)O.[Na+]\n",
      "339155-13-4\n"
     ]
    },
    {
     "name": "stderr",
     "output_type": "stream",
     "text": [
      " 62%|██████▏   | 106/172 [00:45<00:30,  2.14it/s]"
     ]
    },
    {
     "name": "stdout",
     "output_type": "stream",
     "text": [
      "SMILES for 339155-13-4: C1=CC(=C(N=C1)C(=O)O)C(=O)O\n",
      "525-74-6\n"
     ]
    },
    {
     "name": "stderr",
     "output_type": "stream",
     "text": [
      " 62%|██████▏   | 107/172 [00:46<00:30,  2.13it/s]"
     ]
    },
    {
     "name": "stdout",
     "output_type": "stream",
     "text": [
      "SMILES for 525-74-6: CN1CCC=C1C2=CN=CC=C2\n",
      "75043-32-2\n"
     ]
    },
    {
     "name": "stderr",
     "output_type": "stream",
     "text": [
      " 63%|██████▎   | 108/172 [00:46<00:28,  2.27it/s]"
     ]
    },
    {
     "name": "stdout",
     "output_type": "stream",
     "text": [
      "No compound found for CAS: 75043-32-2\n",
      "3705-26-8\n"
     ]
    },
    {
     "name": "stderr",
     "output_type": "stream",
     "text": [
      " 63%|██████▎   | 109/172 [00:46<00:26,  2.38it/s]"
     ]
    },
    {
     "name": "stdout",
     "output_type": "stream",
     "text": [
      "SMILES for 3705-26-8: C1C[C@H]2C(=O)N[C@H](C(=O)N2C1)CC3=CC=CC=C3\n",
      "39642-60-9\n"
     ]
    },
    {
     "name": "stderr",
     "output_type": "stream",
     "text": [
      " 64%|██████▍   | 110/172 [00:47<00:27,  2.28it/s]"
     ]
    },
    {
     "name": "stdout",
     "output_type": "stream",
     "text": [
      "SMILES for 39642-60-9: C1=CC(=CN=C1)NC(=O)NC2=CN=CC=C2\n",
      "3222-49-9\n"
     ]
    },
    {
     "name": "stderr",
     "output_type": "stream",
     "text": [
      " 65%|██████▍   | 111/172 [00:47<00:25,  2.38it/s]"
     ]
    },
    {
     "name": "stdout",
     "output_type": "stream",
     "text": [
      "SMILES for 3222-49-9: CC1=CC(=CN=C1)C(=O)O\n",
      "75195-76-5\n"
     ]
    },
    {
     "name": "stderr",
     "output_type": "stream",
     "text": [
      " 65%|██████▌   | 112/172 [00:48<00:24,  2.45it/s]"
     ]
    },
    {
     "name": "stdout",
     "output_type": "stream",
     "text": [
      "SMILES for 75195-76-5: C1C[C@H](N(C1)N=O)C2=C[N+](=CC=C2)[O-]\n",
      "21446-46-8\n"
     ]
    },
    {
     "name": "stderr",
     "output_type": "stream",
     "text": [
      " 66%|██████▌   | 113/172 [00:48<00:25,  2.32it/s]"
     ]
    },
    {
     "name": "stdout",
     "output_type": "stream",
     "text": [
      "SMILES for 21446-46-8: CN1CCC[C@H]1C2=C[N+](=CC=C2)C.[I-]\n",
      "6019-06-3\n"
     ]
    },
    {
     "name": "stderr",
     "output_type": "stream",
     "text": [
      " 66%|██████▋   | 114/172 [00:48<00:25,  2.30it/s]"
     ]
    },
    {
     "name": "stdout",
     "output_type": "stream",
     "text": [
      "SMILES for 6019-06-3: CN1CCC[C@H]1C2=CN=CC=C2.[C@@H]([C@H](C(=O)O)O)(C(=O)O)O.[C@@H]([C@H](C(=O)O)O)(C(=O)O)O.O.O\n",
      "65-31-6\n"
     ]
    },
    {
     "name": "stderr",
     "output_type": "stream",
     "text": [
      " 67%|██████▋   | 115/172 [00:49<00:25,  2.21it/s]"
     ]
    },
    {
     "name": "stdout",
     "output_type": "stream",
     "text": [
      "SMILES for 65-31-6: CN1CCC[C@H]1C2=CN=CC=C2.[C@@H]([C@H](C(=O)O)O)(C(=O)O)O.[C@@H]([C@H](C(=O)O)O)(C(=O)O)O\n",
      "942922-74-9\n"
     ]
    },
    {
     "name": "stderr",
     "output_type": "stream",
     "text": [
      " 67%|██████▋   | 116/172 [00:49<00:25,  2.16it/s]"
     ]
    },
    {
     "name": "stdout",
     "output_type": "stream",
     "text": [
      "SMILES for 942922-74-9: COC(=O)C1=NC=CC(=C1)C2=CC(=NC=C2)C(=O)OC\n",
      "66148-18-3\n"
     ]
    },
    {
     "name": "stderr",
     "output_type": "stream",
     "text": [
      " 68%|██████▊   | 117/172 [00:50<00:23,  2.33it/s]"
     ]
    },
    {
     "name": "stdout",
     "output_type": "stream",
     "text": [
      "SMILES for 66148-18-3: [2H]C1=C(C(=C(N=C1[2H])[2H])C2CCCN2)[2H]\n",
      "2854-40-2\n"
     ]
    },
    {
     "name": "stderr",
     "output_type": "stream",
     "text": [
      " 69%|██████▊   | 118/172 [00:50<00:21,  2.47it/s]"
     ]
    },
    {
     "name": "stdout",
     "output_type": "stream",
     "text": [
      "SMILES for 2854-40-2: CC(C)[C@H]1C(=O)N2CCC[C@H]2C(=O)N1\n",
      "88660-53-1\n"
     ]
    },
    {
     "name": "stderr",
     "output_type": "stream",
     "text": [
      " 69%|██████▉   | 119/172 [00:51<00:22,  2.32it/s]"
     ]
    },
    {
     "name": "stdout",
     "output_type": "stream",
     "text": [
      "SMILES for 88660-53-1: CN1CCC[C@H]1C2=CN=CC=C2.C1=CC=C(C=C1)C(=O)O\n",
      "870975-59-0\n"
     ]
    },
    {
     "name": "stderr",
     "output_type": "stream",
     "text": [
      " 70%|██████▉   | 120/172 [00:51<00:20,  2.52it/s]"
     ]
    },
    {
     "name": "stdout",
     "output_type": "stream",
     "text": [
      "No compound found for CAS: 870975-59-0\n",
      "23950-04-1\n"
     ]
    },
    {
     "name": "stderr",
     "output_type": "stream",
     "text": [
      " 70%|███████   | 121/172 [00:51<00:20,  2.53it/s]"
     ]
    },
    {
     "name": "stdout",
     "output_type": "stream",
     "text": [
      "SMILES for 23950-04-1: CN1CCCC1C2=CC=CC=N2\n",
      "98-98-6\n"
     ]
    },
    {
     "name": "stderr",
     "output_type": "stream",
     "text": [
      " 71%|███████   | 122/172 [00:52<00:19,  2.58it/s]"
     ]
    },
    {
     "name": "stdout",
     "output_type": "stream",
     "text": [
      "SMILES for 98-98-6: C1=CC=NC(=C1)C(=O)O\n",
      "102074-19-1\n"
     ]
    },
    {
     "name": "stderr",
     "output_type": "stream",
     "text": [
      " 72%|███████▏  | 123/172 [00:52<00:20,  2.44it/s]"
     ]
    },
    {
     "name": "stdout",
     "output_type": "stream",
     "text": [
      "SMILES for 102074-19-1: CC1=CC(=CN=C1)CO\n",
      "1657-32-5\n"
     ]
    },
    {
     "name": "stderr",
     "output_type": "stream",
     "text": [
      " 72%|███████▏  | 124/172 [00:53<00:19,  2.47it/s]"
     ]
    },
    {
     "name": "stdout",
     "output_type": "stream",
     "text": [
      "SMILES for 1657-32-5: C1=CC(=C[N+](=C1)[O-])N\n",
      "1426174-36-8\n"
     ]
    },
    {
     "name": "stderr",
     "output_type": "stream",
     "text": [
      " 73%|███████▎  | 125/172 [00:53<00:18,  2.56it/s]"
     ]
    },
    {
     "name": "stdout",
     "output_type": "stream",
     "text": [
      "SMILES for 1426174-36-8: [2H]C1=C(C(=C(N=C1[2H])[2H])[C@@H]2CCCN2N=O)[2H]\n",
      "129547-84-8\n"
     ]
    },
    {
     "name": "stderr",
     "output_type": "stream",
     "text": [
      " 73%|███████▎  | 126/172 [00:53<00:17,  2.63it/s]"
     ]
    },
    {
     "name": "stdout",
     "output_type": "stream",
     "text": [
      "SMILES for 129547-84-8: C[N+]1(CCC[C@H]1C2=C[N+](=CC=C2)[O-])[O-]\n",
      "2055-23-4\n"
     ]
    },
    {
     "name": "stderr",
     "output_type": "stream",
     "text": [
      " 74%|███████▍  | 127/172 [00:54<00:16,  2.66it/s]"
     ]
    },
    {
     "name": "stdout",
     "output_type": "stream",
     "text": [
      "SMILES for 2055-23-4: CNCCCC(=O)C1=CN=CC=C1\n",
      "591-22-0\n"
     ]
    },
    {
     "name": "stderr",
     "output_type": "stream",
     "text": [
      " 74%|███████▍  | 128/172 [00:54<00:16,  2.63it/s]"
     ]
    },
    {
     "name": "stdout",
     "output_type": "stream",
     "text": [
      "SMILES for 591-22-0: CC1=CC(=CN=C1)C\n",
      "347841-88-7\n"
     ]
    },
    {
     "name": "stderr",
     "output_type": "stream",
     "text": [
      " 75%|███████▌  | 129/172 [00:54<00:17,  2.48it/s]"
     ]
    },
    {
     "name": "stdout",
     "output_type": "stream",
     "text": [
      "SMILES for 347841-88-7: [2H]C1=C(C(=C(N=C1[2H])[2H])C(=O)N)[2H]\n",
      "1346601-08-8\n"
     ]
    },
    {
     "name": "stderr",
     "output_type": "stream",
     "text": [
      " 76%|███████▌  | 130/172 [00:55<00:16,  2.54it/s]"
     ]
    },
    {
     "name": "stdout",
     "output_type": "stream",
     "text": [
      "SMILES for 1346601-08-8: [2H]C([2H])([2H])N1CCC(C1)C2=CN=CC=C2\n",
      "71267-22-6\n"
     ]
    },
    {
     "name": "stderr",
     "output_type": "stream",
     "text": [
      " 76%|███████▌  | 131/172 [00:55<00:16,  2.45it/s]"
     ]
    },
    {
     "name": "stdout",
     "output_type": "stream",
     "text": [
      "SMILES for 71267-22-6: C1C=CCN([C@@H]1C2=CN=CC=C2)N=O\n",
      "1020719-70-3\n"
     ]
    },
    {
     "name": "stderr",
     "output_type": "stream",
     "text": [
      " 77%|███████▋  | 132/172 [00:56<00:16,  2.41it/s]"
     ]
    },
    {
     "name": "stdout",
     "output_type": "stream",
     "text": [
      "SMILES for 1020719-70-3: [2H]C1=C(C(=C(N=C1[2H])[2H])C2CCC(=O)N2)[2H]\n",
      "1469367-99-4\n"
     ]
    },
    {
     "name": "stderr",
     "output_type": "stream",
     "text": [
      " 77%|███████▋  | 133/172 [00:56<00:15,  2.49it/s]"
     ]
    },
    {
     "name": "stdout",
     "output_type": "stream",
     "text": [
      "No compound found for CAS: 1469367-99-4\n",
      "494-04-2\n"
     ]
    },
    {
     "name": "stderr",
     "output_type": "stream",
     "text": [
      " 78%|███████▊  | 134/172 [00:57<00:15,  2.46it/s]"
     ]
    },
    {
     "name": "stdout",
     "output_type": "stream",
     "text": [
      "SMILES for 494-04-2: C1=CC(=CN=C1)C2=CC(=NC=C2)C3=CN=CC=C3\n",
      "114-33-0\n"
     ]
    },
    {
     "name": "stderr",
     "output_type": "stream",
     "text": [
      " 78%|███████▊  | 135/172 [00:57<00:14,  2.56it/s]"
     ]
    },
    {
     "name": "stdout",
     "output_type": "stream",
     "text": [
      "SMILES for 114-33-0: CNC(=O)C1=CN=CC=C1\n",
      "34834-67-8\n"
     ]
    },
    {
     "name": "stderr",
     "output_type": "stream",
     "text": [
      " 79%|███████▉  | 136/172 [00:57<00:14,  2.48it/s]"
     ]
    },
    {
     "name": "stdout",
     "output_type": "stream",
     "text": [
      "SMILES for 34834-67-8: CN1[C@@H](C[C@H](C1=O)O)C2=CN=CC=C2\n",
      "15569-85-4\n"
     ]
    },
    {
     "name": "stderr",
     "output_type": "stream",
     "text": [
      " 80%|███████▉  | 137/172 [00:58<00:14,  2.43it/s]"
     ]
    },
    {
     "name": "stdout",
     "output_type": "stream",
     "text": [
      "SMILES for 15569-85-4: CN1C(CCC1=O)C2=CN=CC=C2\n",
      "66148-17-2\n"
     ]
    },
    {
     "name": "stderr",
     "output_type": "stream",
     "text": [
      " 80%|████████  | 138/172 [00:58<00:14,  2.30it/s]"
     ]
    },
    {
     "name": "stdout",
     "output_type": "stream",
     "text": [
      "SMILES for 66148-17-2: [2H]C1=C(C(=C(N=C1[2H])[2H])C2=NCCC2)[2H]\n",
      "139427-57-9\n"
     ]
    },
    {
     "name": "stderr",
     "output_type": "stream",
     "text": [
      " 81%|████████  | 139/172 [00:59<00:13,  2.39it/s]"
     ]
    },
    {
     "name": "stdout",
     "output_type": "stream",
     "text": [
      "SMILES for 139427-57-9: CN1[C@@H](CCC1=O)C2=C[N+](=CC=C2)[C@H]3[C@@H]([C@H]([C@@H]([C@H](O3)C(=O)[O-])O)O)O\n",
      "53-84-9\n"
     ]
    },
    {
     "name": "stderr",
     "output_type": "stream",
     "text": [
      " 81%|████████▏ | 140/172 [00:59<00:14,  2.17it/s]"
     ]
    },
    {
     "name": "stdout",
     "output_type": "stream",
     "text": [
      "SMILES for 53-84-9: C1=CC(=C[N+](=C1)[C@H]2[C@@H]([C@@H]([C@H](O2)COP(=O)([O-])OP(=O)(O)OC[C@@H]3[C@H]([C@H]([C@@H](O3)N4C=NC5=C(N=CN=C54)N)O)O)O)O)C(=O)N\n",
      "34366-21-7\n"
     ]
    },
    {
     "name": "stderr",
     "output_type": "stream",
     "text": [
      " 82%|████████▏ | 141/172 [01:00<00:13,  2.25it/s]"
     ]
    },
    {
     "name": "stdout",
     "output_type": "stream",
     "text": [
      "SMILES for 34366-21-7: C1CCN[C@H](C1)C2=CN=CC=C2\n",
      "764661-23-6\n"
     ]
    },
    {
     "name": "stderr",
     "output_type": "stream",
     "text": [
      " 83%|████████▎ | 142/172 [01:00<00:12,  2.34it/s]"
     ]
    },
    {
     "name": "stdout",
     "output_type": "stream",
     "text": [
      "SMILES for 764661-23-6: [2H]C1=C(C(=C(N=C1[2H])[2H])C(=O)CCCNC)[2H]\n",
      "146275-18-5\n"
     ]
    },
    {
     "name": "stderr",
     "output_type": "stream",
     "text": [
      " 83%|████████▎ | 143/172 [01:00<00:12,  2.41it/s]"
     ]
    },
    {
     "name": "stdout",
     "output_type": "stream",
     "text": [
      "SMILES for 146275-18-5: CN1[C@@H](C[C@H](C1=O)O)C2=C[N+](=CC=C2)[C@H]3[C@@H]([C@H]([C@@H]([C@H](O3)C(=O)[O-])O)O)O\n",
      "159956-78-2\n"
     ]
    },
    {
     "name": "stderr",
     "output_type": "stream",
     "text": [
      " 84%|████████▎ | 144/172 [01:01<00:11,  2.40it/s]"
     ]
    },
    {
     "name": "stdout",
     "output_type": "stream",
     "text": [
      "SMILES for 159956-78-2: [2H]C([2H])([2H])N1[C@@H](C[C@H](C1=O)O)C2=CN=CC=C2\n",
      "909014-86-4\n"
     ]
    },
    {
     "name": "stderr",
     "output_type": "stream",
     "text": [
      " 84%|████████▍ | 145/172 [01:01<00:11,  2.31it/s]"
     ]
    },
    {
     "name": "stdout",
     "output_type": "stream",
     "text": [
      "SMILES for 909014-86-4: [2H][13C]([2H])([2H])N1CCCC1C2=CN=CC=C2\n",
      "110952-70-0\n"
     ]
    },
    {
     "name": "stderr",
     "output_type": "stream",
     "text": [
      " 85%|████████▍ | 146/172 [01:02<00:11,  2.27it/s]"
     ]
    },
    {
     "name": "stdout",
     "output_type": "stream",
     "text": [
      "SMILES for 110952-70-0: [2H]C([2H])([2H])N1C(CCC1=O)C2=CN=CC=C2\n",
      "1020719-08-7\n"
     ]
    },
    {
     "name": "stderr",
     "output_type": "stream",
     "text": [
      " 85%|████████▌ | 147/172 [01:02<00:10,  2.27it/s]"
     ]
    },
    {
     "name": "stdout",
     "output_type": "stream",
     "text": [
      "SMILES for 1020719-08-7: [2H]C1=C(C(=C(N=C1[2H])[2H])C2CCCCN2)[2H]\n",
      "1040920-61-3\n"
     ]
    },
    {
     "name": "stderr",
     "output_type": "stream",
     "text": [
      " 86%|████████▌ | 148/172 [01:02<00:09,  2.41it/s]"
     ]
    },
    {
     "name": "stdout",
     "output_type": "stream",
     "text": [
      "No compound found for CAS: 1040920-61-3\n",
      "1020719-68-9\n"
     ]
    },
    {
     "name": "stderr",
     "output_type": "stream",
     "text": [
      " 87%|████████▋ | 149/172 [01:03<00:09,  2.42it/s]"
     ]
    },
    {
     "name": "stdout",
     "output_type": "stream",
     "text": [
      "SMILES for 1020719-68-9: [2H]C1=C(C(=C(N=C1[2H])[2H])C2CCCCN2N=O)[2H]\n",
      "284685-07-0\n"
     ]
    },
    {
     "name": "stderr",
     "output_type": "stream",
     "text": [
      " 87%|████████▋ | 150/172 [01:03<00:09,  2.44it/s]"
     ]
    },
    {
     "name": "stdout",
     "output_type": "stream",
     "text": [
      "SMILES for 284685-07-0: [2H]C1=C(C(=C(N=C1[2H])[2H])[C@@H]2CCCN2C)[2H]\n",
      "581-49-7\n"
     ]
    },
    {
     "name": "stderr",
     "output_type": "stream",
     "text": [
      " 88%|████████▊ | 151/172 [01:04<00:08,  2.54it/s]"
     ]
    },
    {
     "name": "stdout",
     "output_type": "stream",
     "text": [
      "SMILES for 581-49-7: C1C=CCN[C@@H]1C2=CN=CC=C2\n",
      "1246819-72-6\n"
     ]
    },
    {
     "name": "stderr",
     "output_type": "stream",
     "text": [
      " 88%|████████▊ | 152/172 [01:04<00:07,  2.64it/s]"
     ]
    },
    {
     "name": "stdout",
     "output_type": "stream",
     "text": [
      "SMILES for 1246819-72-6: CNCCC[13C](=O)[13C]1=[13CH]N=[13CH][13CH]=[13CH]1\n",
      "1215842-75-3\n"
     ]
    },
    {
     "name": "stderr",
     "output_type": "stream",
     "text": [
      " 89%|████████▉ | 153/172 [01:04<00:07,  2.65it/s]"
     ]
    },
    {
     "name": "stdout",
     "output_type": "stream",
     "text": [
      "SMILES for 1215842-75-3: [2H][13C]([2H])([2H])N1C(CCC1=O)C2=CN=CC=C2\n",
      "1189727-40-9\n"
     ]
    },
    {
     "name": "stderr",
     "output_type": "stream",
     "text": [
      " 90%|████████▉ | 154/172 [01:05<00:07,  2.48it/s]"
     ]
    },
    {
     "name": "stdout",
     "output_type": "stream",
     "text": [
      "SMILES for 1189727-40-9: [2H]C([2H])([2H])NCCCC(=O)C1=CN=CC=C1\n",
      "350818-68-7\n"
     ]
    },
    {
     "name": "stderr",
     "output_type": "stream",
     "text": [
      " 90%|█████████ | 155/172 [01:06<00:08,  2.05it/s]"
     ]
    },
    {
     "name": "stdout",
     "output_type": "stream",
     "text": [
      "SMILES for 350818-68-7: [2H]C1=C(C(=C(N=C1[2H])[2H])C2CCC(=O)N2C)[2H]\n",
      "871894-35-8\n"
     ]
    },
    {
     "name": "stderr",
     "output_type": "stream",
     "text": [
      " 91%|█████████ | 156/172 [01:06<00:08,  1.78it/s]"
     ]
    },
    {
     "name": "stdout",
     "output_type": "stream",
     "text": [
      "SMILES for 871894-35-8: CN1CCCC1C2=C(N=CC=C2)Cl\n",
      "132929-88-5\n"
     ]
    },
    {
     "name": "stderr",
     "output_type": "stream",
     "text": [
      " 91%|█████████▏| 157/172 [01:07<00:08,  1.75it/s]"
     ]
    },
    {
     "name": "stdout",
     "output_type": "stream",
     "text": [
      "SMILES for 132929-88-5: CN1[C@@H](C[C@H](C1=O)O[C@H]2[C@@H]([C@H]([C@@H]([C@H](O2)C(=O)O)O)O)O)C3=CN=CC=C3\n",
      "581-50-0\n"
     ]
    },
    {
     "name": "stderr",
     "output_type": "stream",
     "text": [
      " 92%|█████████▏| 158/172 [01:07<00:07,  1.88it/s]"
     ]
    },
    {
     "name": "stdout",
     "output_type": "stream",
     "text": [
      "SMILES for 581-50-0: C1=CC=NC(=C1)C2=CN=CC=C2\n",
      "764661-24-7\n"
     ]
    },
    {
     "name": "stderr",
     "output_type": "stream",
     "text": [
      " 92%|█████████▏| 159/172 [01:08<00:06,  1.98it/s]"
     ]
    },
    {
     "name": "stdout",
     "output_type": "stream",
     "text": [
      "SMILES for 764661-24-7: [2H]C1=C(C(=C(N=C1[2H])[2H])C(=O)CCCN(C)N=O)[2H]\n",
      "80508-23-2\n"
     ]
    },
    {
     "name": "stderr",
     "output_type": "stream",
     "text": [
      " 93%|█████████▎| 160/172 [01:08<00:05,  2.13it/s]"
     ]
    },
    {
     "name": "stdout",
     "output_type": "stream",
     "text": [
      "SMILES for 80508-23-2: C1CC(N(C1)N=O)C2=CN=CC=C2\n",
      "887407-16-1\n"
     ]
    },
    {
     "name": "stderr",
     "output_type": "stream",
     "text": [
      " 94%|█████████▎| 161/172 [01:09<00:04,  2.22it/s]"
     ]
    },
    {
     "name": "stdout",
     "output_type": "stream",
     "text": [
      "SMILES for 887407-16-1: C1C=CCN(C1C2=CN=CC=C2)N=O\n",
      "612-64-6\n"
     ]
    },
    {
     "name": "stderr",
     "output_type": "stream",
     "text": [
      " 94%|█████████▍| 162/172 [01:09<00:04,  2.34it/s]"
     ]
    },
    {
     "name": "stdout",
     "output_type": "stream",
     "text": [
      "SMILES for 612-64-6: CCN(C1=CC=CC=C1)N=O\n",
      "918625-36-2\n"
     ]
    },
    {
     "name": "stderr",
     "output_type": "stream",
     "text": [
      " 95%|█████████▍| 163/172 [01:09<00:04,  2.12it/s]"
     ]
    },
    {
     "name": "stdout",
     "output_type": "stream",
     "text": [
      "SMILES for 918625-36-2: C1=CC(=CN=C1)[C@H](CC=CCO)N\n",
      "82111-06-6\n"
     ]
    },
    {
     "name": "stderr",
     "output_type": "stream",
     "text": [
      " 95%|█████████▌| 164/172 [01:10<00:03,  2.21it/s]"
     ]
    },
    {
     "name": "stdout",
     "output_type": "stream",
     "text": [
      "SMILES for 82111-06-6: CC1=CC(=CN=C1)C2CCCN2C\n",
      "1217540-34-5\n"
     ]
    },
    {
     "name": "stderr",
     "output_type": "stream",
     "text": [
      " 96%|█████████▌| 165/172 [01:11<00:03,  1.94it/s]"
     ]
    },
    {
     "name": "stdout",
     "output_type": "stream",
     "text": [
      "SMILES for 1217540-34-5: CN1[C@@H](C[C@H](C1=O)O[C@H]2[C@@H]([C@H](C=C(O2)C(=O)OC)O)O)C3=CN=CC=C3\n",
      "1246812-39-4\n"
     ]
    },
    {
     "name": "stderr",
     "output_type": "stream",
     "text": [
      " 97%|█████████▋| 166/172 [01:11<00:02,  2.09it/s]"
     ]
    },
    {
     "name": "stdout",
     "output_type": "stream",
     "text": [
      "No compound found for CAS: 1246812-39-4\n",
      "1076199-53-5\n"
     ]
    },
    {
     "name": "stderr",
     "output_type": "stream",
     "text": [
      " 97%|█████████▋| 167/172 [01:11<00:02,  2.03it/s]"
     ]
    },
    {
     "name": "stdout",
     "output_type": "stream",
     "text": [
      "SMILES for 1076199-53-5: CC(C)(C)OC(=O)N1CCCC1C2=CN=CC=C2\n",
      "147732-32-9\n"
     ]
    },
    {
     "name": "stderr",
     "output_type": "stream",
     "text": [
      " 98%|█████████▊| 168/172 [01:12<00:01,  2.01it/s]"
     ]
    },
    {
     "name": "stdout",
     "output_type": "stream",
     "text": [
      "SMILES for 147732-32-9: CN1C(CCC1=O)C2=CC=CC=N2.OCl(=O)(=O)=O\n",
      "887406-85-1\n"
     ]
    },
    {
     "name": "stderr",
     "output_type": "stream",
     "text": [
      " 98%|█████████▊| 169/172 [01:12<00:01,  2.03it/s]"
     ]
    },
    {
     "name": "stdout",
     "output_type": "stream",
     "text": [
      "SMILES for 887406-85-1: COC1=CC=C(C=C1)CN2C(CCC2=O)C3=CN=CC=C3\n",
      "4315-37-1\n"
     ]
    },
    {
     "name": "stderr",
     "output_type": "stream",
     "text": [
      " 99%|█████████▉| 170/172 [01:13<00:00,  2.01it/s]"
     ]
    },
    {
     "name": "stdout",
     "output_type": "stream",
     "text": [
      "SMILES for 4315-37-1: CN1C=CC=C1C2=CN=CC=C2.[C@@H]([C@H](C(=O)O)O)(C(=O)O)O\n",
      "107971-06-2\n"
     ]
    },
    {
     "name": "stderr",
     "output_type": "stream",
     "text": [
      " 99%|█████████▉| 171/172 [01:13<00:00,  2.09it/s]"
     ]
    },
    {
     "name": "stdout",
     "output_type": "stream",
     "text": [
      "SMILES for 107971-06-2: CC1=[N+](C=C(C=C1)C(=O)N)C.[I-]\n",
      "857146-29-3\n"
     ]
    },
    {
     "name": "stderr",
     "output_type": "stream",
     "text": [
      "100%|██████████| 172/172 [01:14<00:00,  2.22it/s]"
     ]
    },
    {
     "name": "stdout",
     "output_type": "stream",
     "text": [
      "SMILES for 857146-29-3: CC1=CC(=CN=C1C)CO\n",
      "20971-79-3\n"
     ]
    },
    {
     "name": "stderr",
     "output_type": "stream",
     "text": [
      "100%|██████████| 172/172 [01:14<00:00,  2.30it/s]"
     ]
    },
    {
     "name": "stdout",
     "output_type": "stream",
     "text": [
      "SMILES for 20971-79-3: C1CC(=O)OC1C2=CN=CC=C2\n",
      "Total compounds: 172\n",
      "Successfully converted: 164\n",
      "Conversion rate: 95.35%\n",
      "             cas                                             SMILES\n",
      "0       494-97-3                           C1C[C@H](NC1)C2=CN=CC=C2\n",
      "1       485-35-8                 C1[C@H]2CNC[C@@H]1C3=CC=CC(=O)N3C2\n",
      "2     95091-91-1                             CN(C(=O)C1=CN=CC=C1)OC\n",
      "3      6456-44-6                       C[N+]1=CC=CC(=C1)C(=O)N.[I-]\n",
      "4       532-12-7                              C1CC(=NC1)C2=CN=CC=C2\n",
      "..           ...                                                ...\n",
      "486  887406-85-1             COC1=CC=C(C=C1)CN2C(CCC2=O)C3=CN=CC=C3\n",
      "487    4315-37-1  CN1C=CC=C1C2=CN=CC=C2.[C@@H]([C@H](C(=O)O)O)(C...\n",
      "488  107971-06-2                    CC1=[N+](C=C(C=C1)C(=O)N)C.[I-]\n",
      "492  857146-29-3                                  CC1=CC(=CN=C1C)CO\n",
      "493   20971-79-3                             C1CC(=O)OC1C2=CN=CC=C2\n",
      "\n",
      "[164 rows x 2 columns]\n"
     ]
    },
    {
     "name": "stderr",
     "output_type": "stream",
     "text": [
      "\n"
     ]
    }
   ],
   "source": [
    "df = unique_cas_df\n",
    "\n",
    "tqdm.pandas()\n",
    "df['SMILES'] = df[\"cas\"].progress_apply(get_smiles_from_cas)\n",
    "\n",
    "total = len(df)\n",
    "converted = df['SMILES'].notna().sum()\n",
    "print(f\"Total compounds: {total}\")\n",
    "print(f\"Successfully converted: {converted}\")\n",
    "print(f\"Conversion rate: {converted/total:.2%}\")\n",
    "\n",
    "df = df.dropna(subset=['SMILES'])\n",
    "print(df)\n",
    "\n",
    "df.to_csv('Unique_nicotine_derivatives_with_smiles.csv', index=False)"
   ]
  },
  {
   "cell_type": "code",
   "execution_count": 50,
   "metadata": {},
   "outputs": [],
   "source": [
    "import pandas as pd\n",
    "from rdkit import Chem\n",
    "from rdkit.Chem import AllChem\n",
    "import torch\n",
    "from torch_geometric.data import Data\n",
    "from torch_geometric.loader import DataLoader as GeoDataLoader\n",
    "from torch.utils.data import Dataset\n",
    "import torch.nn as nn\n",
    "import torch.nn.functional as F\n",
    "from torch_geometric.nn import GCNConv, global_mean_pool\n",
    "from sklearn.model_selection import train_test_split\n",
    "from tqdm import tqdm\n",
    "from sklearn.metrics import accuracy_score, precision_score, recall_score\n",
    "from sklearn.metrics import confusion_matrix, ConfusionMatrixDisplay\n",
    "import seaborn as sns\n",
    "import matplotlib.pyplot as plt\n",
    "import numpy as np\n",
    "from gnn import GNNModel, smiles_to_graph, MoleculeDataset"
   ]
  },
  {
   "cell_type": "code",
   "execution_count": 51,
   "metadata": {},
   "outputs": [],
   "source": [
    "df = pd.read_csv('Unique_nicotine_derivatives_with_smiles.csv')\n",
    "df_cleaned = df[df['SMILES'].notna() & (df['SMILES'] != '')]\n",
    "df_cleaned.to_csv('cleaned_nicotine_derivatives_with_smiles.csv', index=False)"
   ]
  },
  {
   "cell_type": "code",
   "execution_count": null,
   "metadata": {},
   "outputs": [],
   "source": [
    "df = pd.read_csv('Unique_nicotine_derivatives_with_smiles.csv')\n",
    "df_cleaned = df[df['SMILES'].notna() & (df['SMILES'] != '')]\n",
    "df_cleaned.to_csv('cleaned_nicotine_derivatives_with_smiles.csv', index=False)"
   ]
  },
  {
   "cell_type": "code",
   "execution_count": 52,
   "metadata": {},
   "outputs": [
    {
     "name": "stdout",
     "output_type": "stream",
     "text": [
      "Total rows: 164\n",
      "Predictions made: 164\n",
      "Updated CSV saved with predictions.\n"
     ]
    }
   ],
   "source": [
    "df = pd.read_csv('cleaned_nicotine_derivatives_with_smiles.csv')\n",
    "nicotine_smiles = df['SMILES']\n",
    "\n",
    "nicotine_graphs = [graph for graph in [smiles_to_graph(smile) for smile in nicotine_smiles] if graph is not None]\n",
    "\n",
    "model_path = 'gnn_model.pth'\n",
    "model = GNNModel(num_node_features=26, hidden_dim=128, output_dim=2)\n",
    "model.load_state_dict(torch.load(model_path))\n",
    "model.eval()\n",
    "\n",
    "predictions = []\n",
    "\n",
    "with torch.no_grad():\n",
    "    for graph in nicotine_graphs:\n",
    "        output = model(graph)\n",
    "        _, predicted = torch.max(output, dim=1)\n",
    "        predictions.append(predicted.item())\n",
    "\n",
    "df['Predicted Label'] = predictions\n",
    "\n",
    "df.to_csv('nicotine_derivatives_with_predictions.csv', index=False)\n",
    "\n",
    "total = len(df)\n",
    "predicted_count = len(predictions)\n",
    "print(f\"Total rows: {total}\")\n",
    "print(f\"Predictions made: {predicted_count}\")\n",
    "print(f\"Updated CSV saved with predictions.\")"
   ]
  }
 ],
 "metadata": {
  "kernelspec": {
   "display_name": "cs229",
   "language": "python",
   "name": "python3"
  },
  "language_info": {
   "codemirror_mode": {
    "name": "ipython",
    "version": 3
   },
   "file_extension": ".py",
   "mimetype": "text/x-python",
   "name": "python",
   "nbconvert_exporter": "python",
   "pygments_lexer": "ipython3",
   "version": "3.10.15"
  }
 },
 "nbformat": 4,
 "nbformat_minor": 2
}
