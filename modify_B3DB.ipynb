{
 "cells": [
  {
   "cell_type": "code",
   "execution_count": 5,
   "metadata": {},
   "outputs": [],
   "source": [
    "import pandas as pd"
   ]
  },
  {
   "cell_type": "code",
   "execution_count": null,
   "metadata": {},
   "outputs": [
    {
     "name": "stdout",
     "output_type": "stream",
     "text": [
      "Index(['NO.', 'compound_name', 'IUPAC_name', 'SMILES', 'CID', 'logBB',\n",
      "       'BBB+/BBB-', 'Inchi', 'threshold', 'reference', 'group', 'comments'],\n",
      "      dtype='object')\n",
      "Index(['NO.', 'compound_name', 'IUPAC_name', 'SMILES', 'CID', 'logBB', 'p_np',\n",
      "       'Inchi', 'threshold', 'reference', 'group', 'comments'],\n",
      "      dtype='object')\n",
      "Column updated and saved as 'B3DB_updated.csv'\n"
     ]
    },
    {
     "name": "stderr",
     "output_type": "stream",
     "text": [
      "/var/folders/j9/pqctcxdd60v8pkxkp2mrhm9r0000gn/T/ipykernel_16343/2715758282.py:13: FutureWarning: Downcasting behavior in `replace` is deprecated and will be removed in a future version. To retain the old behavior, explicitly call `result.infer_objects(copy=False)`. To opt-in to the future behavior, set `pd.set_option('future.no_silent_downcasting', True)`\n",
      "  df[\"p_np\"] = df[\"p_np\"].replace({\"BBB-\": 0, \"BBB+\": 1})\n"
     ]
    }
   ],
   "source": [
    "df = pd.read_csv('B3DB.csv', sep='\\t', on_bad_lines='skip')\n",
    "df.columns = df.columns.str.strip()\n",
    "df.rename(columns={\"BBB+/BBB-\": \"p_np\"}, inplace=True)\n",
    "df[\"p_np\"] = df[\"p_np\"].replace({\"BBB-\": 0, \"BBB+\": 1})\n",
    "df = df.iloc[:, [0, 1, 3, 6]]\n",
    "df.to_csv(\"B3DB_updated.csv\", index=False)\n",
    "\n",
    "print(\"Columns updated and saved as 'B3DB_updated.csv'\")"
   ]
  }
 ],
 "metadata": {
  "kernelspec": {
   "display_name": "cs229",
   "language": "python",
   "name": "python3"
  },
  "language_info": {
   "codemirror_mode": {
    "name": "ipython",
    "version": 3
   },
   "file_extension": ".py",
   "mimetype": "text/x-python",
   "name": "python",
   "nbconvert_exporter": "python",
   "pygments_lexer": "ipython3",
   "version": "3.10.15"
  }
 },
 "nbformat": 4,
 "nbformat_minor": 2
}
